{
  "cells": [
    {
      "cell_type": "markdown",
      "metadata": {
        "id": "view-in-github",
        "colab_type": "text"
      },
      "source": [
        "<a href=\"https://colab.research.google.com/github/TheGreatUnknown74/AgentGPT/blob/main/IIT_4_0_unfolding_tutorial.ipynb\" target=\"_parent\"><img src=\"https://colab.research.google.com/assets/colab-badge.svg\" alt=\"Open In Colab\"/></a>"
      ]
    },
    {
      "cell_type": "markdown",
      "metadata": {
        "id": "eabd3300"
      },
      "source": [
        "# Unfolding tutorial\n",
        "This notebook is part of the IIT Wiki, and should be studied within that context. Please refer back to the page [Computing Phi: Identifying a complex and unfolding a $\\Phi$-structure](https://sites.google.com/view/iit-wiki/unfolding).\n",
        "\n",
        "The notebook uses the `feature/iit-4.0` branch of the [PyPhi](https://github.com/wmayner/pyphi/tree/feature/iit-4.0) package extensively, and we advice readers to familiarize themselves with the openly available documentation found [here](https://pyphi.readthedocs.io/en/latest/).\n",
        "PyPhi is a software toolbox that provides the reference implementation of Integrated Information Theory (IIT).\n"
      ],
      "id": "eabd3300"
    },
    {
      "cell_type": "markdown",
      "metadata": {
        "id": "OM_SkVY2ofmX"
      },
      "source": [
        "## Install pyphi\n",
        "To get going, we use `pip` to install PyPhi and its dependencies:"
      ],
      "id": "OM_SkVY2ofmX"
    },
    {
      "cell_type": "code",
      "execution_count": null,
      "metadata": {
        "colab": {
          "base_uri": "https://localhost:8080/"
        },
        "id": "c7_vN42lpDQc",
        "outputId": "fc74c9a7-cd6a-49dc-e729-749344e50685"
      },
      "outputs": [
        {
          "output_type": "stream",
          "name": "stdout",
          "text": [
            "Collecting git+https://github.com/wmayner/pyphi.git@feature/iit-4.0\n",
            "  Cloning https://github.com/wmayner/pyphi.git (to revision feature/iit-4.0) to /tmp/pip-req-build-jv2z1sy7\n",
            "  Running command git clone --filter=blob:none --quiet https://github.com/wmayner/pyphi.git /tmp/pip-req-build-jv2z1sy7\n",
            "  Resolved https://github.com/wmayner/pyphi.git to commit 75d0c411146854057950bc13827debd4c2505677\n",
            "  Installing build dependencies ... \u001b[?25l\u001b[?25hdone\n",
            "  Getting requirements to build wheel ... \u001b[?25l\u001b[?25hdone\n",
            "  Preparing metadata (pyproject.toml) ... \u001b[?25l\u001b[?25hdone\n",
            "Collecting Graphillion>=1.5 (from pyphi==1.2.0)\n",
            "  Downloading Graphillion-1.5.tar.gz (1.2 MB)\n",
            "\u001b[2K     \u001b[90m━━━━━━━━━━━━━━━━━━━━━━━━━━━━━━━━━━━━━━━━\u001b[0m \u001b[32m1.2/1.2 MB\u001b[0m \u001b[31m15.8 MB/s\u001b[0m eta \u001b[36m0:00:00\u001b[0m\n",
            "\u001b[?25h  Preparing metadata (setup.py) ... \u001b[?25l\u001b[?25hdone\n",
            "Collecting igraph>=0.9.10 (from pyphi==1.2.0)\n",
            "  Downloading igraph-0.10.8-cp39-abi3-manylinux_2_17_x86_64.manylinux2014_x86_64.whl (3.3 MB)\n",
            "\u001b[2K     \u001b[90m━━━━━━━━━━━━━━━━━━━━━━━━━━━━━━━━━━━━━━━━\u001b[0m \u001b[32m3.3/3.3 MB\u001b[0m \u001b[31m50.6 MB/s\u001b[0m eta \u001b[36m0:00:00\u001b[0m\n",
            "\u001b[?25hRequirement already satisfied: joblib>=0.8.0 in /usr/local/lib/python3.10/dist-packages (from pyphi==1.2.0) (1.3.2)\n",
            "Requirement already satisfied: more-itertools>=8.13.0 in /usr/local/lib/python3.10/dist-packages (from pyphi==1.2.0) (10.1.0)\n",
            "Requirement already satisfied: networkx>=2.6.2 in /usr/local/lib/python3.10/dist-packages (from pyphi==1.2.0) (3.1)\n",
            "Requirement already satisfied: numpy>=1.11.0 in /usr/local/lib/python3.10/dist-packages (from pyphi==1.2.0) (1.23.5)\n",
            "Collecting ordered-set>=4.0.2 (from pyphi==1.2.0)\n",
            "  Downloading ordered_set-4.1.0-py3-none-any.whl (7.6 kB)\n",
            "Collecting pandas>=2.0.0 (from pyphi==1.2.0)\n",
            "  Downloading pandas-2.1.1-cp310-cp310-manylinux_2_17_x86_64.manylinux2014_x86_64.whl (12.3 MB)\n",
            "\u001b[2K     \u001b[90m━━━━━━━━━━━━━━━━━━━━━━━━━━━━━━━━━━━━━━━━\u001b[0m \u001b[32m12.3/12.3 MB\u001b[0m \u001b[31m80.7 MB/s\u001b[0m eta \u001b[36m0:00:00\u001b[0m\n",
            "\u001b[?25hRequirement already satisfied: plotly>=5.8.2 in /usr/local/lib/python3.10/dist-packages (from pyphi==1.2.0) (5.15.0)\n",
            "Requirement already satisfied: psutil>=2.1.1 in /usr/local/lib/python3.10/dist-packages (from pyphi==1.2.0) (5.9.5)\n",
            "Collecting pyemd>=0.3.0 (from pyphi==1.2.0)\n",
            "  Downloading pyemd-1.0.0-cp310-cp310-manylinux_2_17_x86_64.manylinux2014_x86_64.whl (662 kB)\n",
            "\u001b[2K     \u001b[90m━━━━━━━━━━━━━━━━━━━━━━━━━━━━━━━━━━━━━━\u001b[0m \u001b[32m662.6/662.6 kB\u001b[0m \u001b[31m49.2 MB/s\u001b[0m eta \u001b[36m0:00:00\u001b[0m\n",
            "\u001b[?25hRequirement already satisfied: pyyaml>=3.13 in /usr/local/lib/python3.10/dist-packages (from pyphi==1.2.0) (6.0.1)\n",
            "Collecting ray[default]>=1.9.2 (from pyphi==1.2.0)\n",
            "  Downloading ray-2.7.0-cp310-cp310-manylinux2014_x86_64.whl (62.5 MB)\n",
            "\u001b[2K     \u001b[90m━━━━━━━━━━━━━━━━━━━━━━━━━━━━━━━━━━━━━━━━\u001b[0m \u001b[32m62.5/62.5 MB\u001b[0m \u001b[31m10.5 MB/s\u001b[0m eta \u001b[36m0:00:00\u001b[0m\n",
            "\u001b[?25hCollecting redis>=2.10.5 (from pyphi==1.2.0)\n",
            "  Downloading redis-5.0.1-py3-none-any.whl (250 kB)\n",
            "\u001b[2K     \u001b[90m━━━━━━━━━━━━━━━━━━━━━━━━━━━━━━━━━━━━━━\u001b[0m \u001b[32m250.3/250.3 kB\u001b[0m \u001b[31m25.8 MB/s\u001b[0m eta \u001b[36m0:00:00\u001b[0m\n",
            "\u001b[?25hRequirement already satisfied: scipy>=0.13.3 in /usr/local/lib/python3.10/dist-packages (from pyphi==1.2.0) (1.11.3)\n",
            "Requirement already satisfied: tblib>=1.3.2 in /usr/local/lib/python3.10/dist-packages (from pyphi==1.2.0) (2.0.0)\n",
            "Requirement already satisfied: toolz>=0.9.0 in /usr/local/lib/python3.10/dist-packages (from pyphi==1.2.0) (0.12.0)\n",
            "Requirement already satisfied: tqdm>=4.20.0 in /usr/local/lib/python3.10/dist-packages (from pyphi==1.2.0) (4.66.1)\n",
            "Requirement already satisfied: future in /usr/local/lib/python3.10/dist-packages (from Graphillion>=1.5->pyphi==1.2.0) (0.18.3)\n",
            "Collecting texttable>=1.6.2 (from igraph>=0.9.10->pyphi==1.2.0)\n",
            "  Downloading texttable-1.7.0-py2.py3-none-any.whl (10 kB)\n",
            "Requirement already satisfied: python-dateutil>=2.8.2 in /usr/local/lib/python3.10/dist-packages (from pandas>=2.0.0->pyphi==1.2.0) (2.8.2)\n",
            "Requirement already satisfied: pytz>=2020.1 in /usr/local/lib/python3.10/dist-packages (from pandas>=2.0.0->pyphi==1.2.0) (2023.3.post1)\n",
            "Collecting tzdata>=2022.1 (from pandas>=2.0.0->pyphi==1.2.0)\n",
            "  Downloading tzdata-2023.3-py2.py3-none-any.whl (341 kB)\n",
            "\u001b[2K     \u001b[90m━━━━━━━━━━━━━━━━━━━━━━━━━━━━━━━━━━━━━━\u001b[0m \u001b[32m341.8/341.8 kB\u001b[0m \u001b[31m31.5 MB/s\u001b[0m eta \u001b[36m0:00:00\u001b[0m\n",
            "\u001b[?25hRequirement already satisfied: tenacity>=6.2.0 in /usr/local/lib/python3.10/dist-packages (from plotly>=5.8.2->pyphi==1.2.0) (8.2.3)\n",
            "Requirement already satisfied: packaging in /usr/local/lib/python3.10/dist-packages (from plotly>=5.8.2->pyphi==1.2.0) (23.1)\n",
            "Requirement already satisfied: click>=7.0 in /usr/local/lib/python3.10/dist-packages (from ray[default]>=1.9.2->pyphi==1.2.0) (8.1.7)\n",
            "Requirement already satisfied: filelock in /usr/local/lib/python3.10/dist-packages (from ray[default]>=1.9.2->pyphi==1.2.0) (3.12.4)\n",
            "Requirement already satisfied: jsonschema in /usr/local/lib/python3.10/dist-packages (from ray[default]>=1.9.2->pyphi==1.2.0) (4.19.1)\n",
            "Requirement already satisfied: msgpack<2.0.0,>=1.0.0 in /usr/local/lib/python3.10/dist-packages (from ray[default]>=1.9.2->pyphi==1.2.0) (1.0.7)\n",
            "Requirement already satisfied: protobuf!=3.19.5,>=3.15.3 in /usr/local/lib/python3.10/dist-packages (from ray[default]>=1.9.2->pyphi==1.2.0) (3.20.3)\n",
            "Requirement already satisfied: aiosignal in /usr/local/lib/python3.10/dist-packages (from ray[default]>=1.9.2->pyphi==1.2.0) (1.3.1)\n",
            "Requirement already satisfied: frozenlist in /usr/local/lib/python3.10/dist-packages (from ray[default]>=1.9.2->pyphi==1.2.0) (1.4.0)\n",
            "Requirement already satisfied: requests in /usr/local/lib/python3.10/dist-packages (from ray[default]>=1.9.2->pyphi==1.2.0) (2.31.0)\n",
            "Requirement already satisfied: aiohttp>=3.7 in /usr/local/lib/python3.10/dist-packages (from ray[default]>=1.9.2->pyphi==1.2.0) (3.8.5)\n",
            "Collecting aiohttp-cors (from ray[default]>=1.9.2->pyphi==1.2.0)\n",
            "  Downloading aiohttp_cors-0.7.0-py3-none-any.whl (27 kB)\n",
            "Collecting colorful (from ray[default]>=1.9.2->pyphi==1.2.0)\n",
            "  Downloading colorful-0.5.5-py2.py3-none-any.whl (201 kB)\n",
            "\u001b[2K     \u001b[90m━━━━━━━━━━━━━━━━━━━━━━━━━━━━━━━━━━━━━━\u001b[0m \u001b[32m201.4/201.4 kB\u001b[0m \u001b[31m20.4 MB/s\u001b[0m eta \u001b[36m0:00:00\u001b[0m\n",
            "\u001b[?25hCollecting py-spy>=0.2.0 (from ray[default]>=1.9.2->pyphi==1.2.0)\n",
            "  Downloading py_spy-0.3.14-py2.py3-none-manylinux_2_5_x86_64.manylinux1_x86_64.whl (3.0 MB)\n",
            "\u001b[2K     \u001b[90m━━━━━━━━━━━━━━━━━━━━━━━━━━━━━━━━━━━━━━━━\u001b[0m \u001b[32m3.0/3.0 MB\u001b[0m \u001b[31m80.2 MB/s\u001b[0m eta \u001b[36m0:00:00\u001b[0m\n",
            "\u001b[?25hCollecting gpustat>=1.0.0 (from ray[default]>=1.9.2->pyphi==1.2.0)\n",
            "  Downloading gpustat-1.1.1.tar.gz (98 kB)\n",
            "\u001b[2K     \u001b[90m━━━━━━━━━━━━━━━━━━━━━━━━━━━━━━━━━━━━━━━━\u001b[0m \u001b[32m98.1/98.1 kB\u001b[0m \u001b[31m12.6 MB/s\u001b[0m eta \u001b[36m0:00:00\u001b[0m\n",
            "\u001b[?25h  Installing build dependencies ... \u001b[?25l\u001b[?25hdone\n",
            "  Getting requirements to build wheel ... \u001b[?25l\u001b[?25hdone\n",
            "  Preparing metadata (pyproject.toml) ... \u001b[?25l\u001b[?25hdone\n",
            "Collecting opencensus (from ray[default]>=1.9.2->pyphi==1.2.0)\n",
            "  Downloading opencensus-0.11.3-py2.py3-none-any.whl (128 kB)\n",
            "\u001b[2K     \u001b[90m━━━━━━━━━━━━━━━━━━━━━━━━━━━━━━━━━━━━━━\u001b[0m \u001b[32m128.2/128.2 kB\u001b[0m \u001b[31m15.5 MB/s\u001b[0m eta \u001b[36m0:00:00\u001b[0m\n",
            "\u001b[?25hRequirement already satisfied: pydantic<2 in /usr/local/lib/python3.10/dist-packages (from ray[default]>=1.9.2->pyphi==1.2.0) (1.10.13)\n",
            "Requirement already satisfied: prometheus-client>=0.7.1 in /usr/local/lib/python3.10/dist-packages (from ray[default]>=1.9.2->pyphi==1.2.0) (0.17.1)\n",
            "Requirement already satisfied: smart-open in /usr/local/lib/python3.10/dist-packages (from ray[default]>=1.9.2->pyphi==1.2.0) (6.4.0)\n",
            "Collecting virtualenv<20.21.1,>=20.0.24 (from ray[default]>=1.9.2->pyphi==1.2.0)\n",
            "  Downloading virtualenv-20.21.0-py3-none-any.whl (8.7 MB)\n",
            "\u001b[2K     \u001b[90m━━━━━━━━━━━━━━━━━━━━━━━━━━━━━━━━━━━━━━━━\u001b[0m \u001b[32m8.7/8.7 MB\u001b[0m \u001b[31m91.3 MB/s\u001b[0m eta \u001b[36m0:00:00\u001b[0m\n",
            "\u001b[?25hRequirement already satisfied: grpcio>=1.42.0 in /usr/local/lib/python3.10/dist-packages (from ray[default]>=1.9.2->pyphi==1.2.0) (1.58.0)\n",
            "Requirement already satisfied: async-timeout>=4.0.2 in /usr/local/lib/python3.10/dist-packages (from redis>=2.10.5->pyphi==1.2.0) (4.0.3)\n",
            "Requirement already satisfied: attrs>=17.3.0 in /usr/local/lib/python3.10/dist-packages (from aiohttp>=3.7->ray[default]>=1.9.2->pyphi==1.2.0) (23.1.0)\n",
            "Requirement already satisfied: charset-normalizer<4.0,>=2.0 in /usr/local/lib/python3.10/dist-packages (from aiohttp>=3.7->ray[default]>=1.9.2->pyphi==1.2.0) (3.2.0)\n",
            "Requirement already satisfied: multidict<7.0,>=4.5 in /usr/local/lib/python3.10/dist-packages (from aiohttp>=3.7->ray[default]>=1.9.2->pyphi==1.2.0) (6.0.4)\n",
            "Requirement already satisfied: yarl<2.0,>=1.0 in /usr/local/lib/python3.10/dist-packages (from aiohttp>=3.7->ray[default]>=1.9.2->pyphi==1.2.0) (1.9.2)\n",
            "Collecting nvidia-ml-py>=11.450.129 (from gpustat>=1.0.0->ray[default]>=1.9.2->pyphi==1.2.0)\n",
            "  Downloading nvidia_ml_py-12.535.108-py3-none-any.whl (36 kB)\n",
            "Collecting blessed>=1.17.1 (from gpustat>=1.0.0->ray[default]>=1.9.2->pyphi==1.2.0)\n",
            "  Downloading blessed-1.20.0-py2.py3-none-any.whl (58 kB)\n",
            "\u001b[2K     \u001b[90m━━━━━━━━━━━━━━━━━━━━━━━━━━━━━━━━━━━━━━━━\u001b[0m \u001b[32m58.4/58.4 kB\u001b[0m \u001b[31m7.8 MB/s\u001b[0m eta \u001b[36m0:00:00\u001b[0m\n",
            "\u001b[?25hRequirement already satisfied: typing-extensions>=4.2.0 in /usr/local/lib/python3.10/dist-packages (from pydantic<2->ray[default]>=1.9.2->pyphi==1.2.0) (4.5.0)\n",
            "Requirement already satisfied: six>=1.5 in /usr/local/lib/python3.10/dist-packages (from python-dateutil>=2.8.2->pandas>=2.0.0->pyphi==1.2.0) (1.16.0)\n",
            "Collecting distlib<1,>=0.3.6 (from virtualenv<20.21.1,>=20.0.24->ray[default]>=1.9.2->pyphi==1.2.0)\n",
            "  Downloading distlib-0.3.7-py2.py3-none-any.whl (468 kB)\n",
            "\u001b[2K     \u001b[90m━━━━━━━━━━━━━━━━━━━━━━━━━━━━━━━━━━━━━━\u001b[0m \u001b[32m468.9/468.9 kB\u001b[0m \u001b[31m46.1 MB/s\u001b[0m eta \u001b[36m0:00:00\u001b[0m\n",
            "\u001b[?25hRequirement already satisfied: platformdirs<4,>=2.4 in /usr/local/lib/python3.10/dist-packages (from virtualenv<20.21.1,>=20.0.24->ray[default]>=1.9.2->pyphi==1.2.0) (3.10.0)\n",
            "Requirement already satisfied: jsonschema-specifications>=2023.03.6 in /usr/local/lib/python3.10/dist-packages (from jsonschema->ray[default]>=1.9.2->pyphi==1.2.0) (2023.7.1)\n",
            "Requirement already satisfied: referencing>=0.28.4 in /usr/local/lib/python3.10/dist-packages (from jsonschema->ray[default]>=1.9.2->pyphi==1.2.0) (0.30.2)\n",
            "Requirement already satisfied: rpds-py>=0.7.1 in /usr/local/lib/python3.10/dist-packages (from jsonschema->ray[default]>=1.9.2->pyphi==1.2.0) (0.10.3)\n",
            "Collecting opencensus-context>=0.1.3 (from opencensus->ray[default]>=1.9.2->pyphi==1.2.0)\n",
            "  Downloading opencensus_context-0.1.3-py2.py3-none-any.whl (5.1 kB)\n",
            "Requirement already satisfied: google-api-core<3.0.0,>=1.0.0 in /usr/local/lib/python3.10/dist-packages (from opencensus->ray[default]>=1.9.2->pyphi==1.2.0) (2.11.1)\n",
            "Requirement already satisfied: idna<4,>=2.5 in /usr/local/lib/python3.10/dist-packages (from requests->ray[default]>=1.9.2->pyphi==1.2.0) (3.4)\n",
            "Requirement already satisfied: urllib3<3,>=1.21.1 in /usr/local/lib/python3.10/dist-packages (from requests->ray[default]>=1.9.2->pyphi==1.2.0) (2.0.5)\n",
            "Requirement already satisfied: certifi>=2017.4.17 in /usr/local/lib/python3.10/dist-packages (from requests->ray[default]>=1.9.2->pyphi==1.2.0) (2023.7.22)\n",
            "Requirement already satisfied: wcwidth>=0.1.4 in /usr/local/lib/python3.10/dist-packages (from blessed>=1.17.1->gpustat>=1.0.0->ray[default]>=1.9.2->pyphi==1.2.0) (0.2.7)\n",
            "Requirement already satisfied: googleapis-common-protos<2.0.dev0,>=1.56.2 in /usr/local/lib/python3.10/dist-packages (from google-api-core<3.0.0,>=1.0.0->opencensus->ray[default]>=1.9.2->pyphi==1.2.0) (1.60.0)\n",
            "Requirement already satisfied: google-auth<3.0.dev0,>=2.14.1 in /usr/local/lib/python3.10/dist-packages (from google-api-core<3.0.0,>=1.0.0->opencensus->ray[default]>=1.9.2->pyphi==1.2.0) (2.17.3)\n",
            "Requirement already satisfied: cachetools<6.0,>=2.0.0 in /usr/local/lib/python3.10/dist-packages (from google-auth<3.0.dev0,>=2.14.1->google-api-core<3.0.0,>=1.0.0->opencensus->ray[default]>=1.9.2->pyphi==1.2.0) (5.3.1)\n",
            "Requirement already satisfied: pyasn1-modules>=0.2.1 in /usr/local/lib/python3.10/dist-packages (from google-auth<3.0.dev0,>=2.14.1->google-api-core<3.0.0,>=1.0.0->opencensus->ray[default]>=1.9.2->pyphi==1.2.0) (0.3.0)\n",
            "Requirement already satisfied: rsa<5,>=3.1.4 in /usr/local/lib/python3.10/dist-packages (from google-auth<3.0.dev0,>=2.14.1->google-api-core<3.0.0,>=1.0.0->opencensus->ray[default]>=1.9.2->pyphi==1.2.0) (4.9)\n",
            "Requirement already satisfied: pyasn1<0.6.0,>=0.4.6 in /usr/local/lib/python3.10/dist-packages (from pyasn1-modules>=0.2.1->google-auth<3.0.dev0,>=2.14.1->google-api-core<3.0.0,>=1.0.0->opencensus->ray[default]>=1.9.2->pyphi==1.2.0) (0.5.0)\n",
            "Building wheels for collected packages: pyphi, Graphillion, gpustat\n",
            "  Building wheel for pyphi (pyproject.toml) ... \u001b[?25l\u001b[?25hdone\n",
            "  Created wheel for pyphi: filename=pyphi-1.2.0-py3-none-any.whl size=696606 sha256=90f80edb804a37f14b71fbbe200996bb02fc04824142de4cdf76a1660f12f717\n",
            "  Stored in directory: /tmp/pip-ephem-wheel-cache-wqb6ofpf/wheels/53/0c/22/b822eefec0e167f711096ad1eeecd6964cb6030a41bda0e07e\n",
            "  Building wheel for Graphillion (setup.py) ... \u001b[?25l\u001b[?25hdone\n",
            "  Created wheel for Graphillion: filename=Graphillion-1.5-cp310-cp310-linux_x86_64.whl size=2384563 sha256=2a2c3bb61bcf2cf27b7703490ddd6844371192cac8633ed1b99819a148bffa15\n",
            "  Stored in directory: /root/.cache/pip/wheels/41/52/0c/381fe526c67fcd6febe031338c1338628120ad9dab12b22c45\n",
            "  Building wheel for gpustat (pyproject.toml) ... \u001b[?25l\u001b[?25hdone\n",
            "  Created wheel for gpustat: filename=gpustat-1.1.1-py3-none-any.whl size=26534 sha256=87d4efab4c2e4659382ce4a3b8cf3068f4fc508d51f67157d16ba3e89f1c50ad\n",
            "  Stored in directory: /root/.cache/pip/wheels/ec/d7/80/a71ba3540900e1f276bcae685efd8e590c810d2108b95f1e47\n",
            "Successfully built pyphi Graphillion gpustat\n",
            "Installing collected packages: texttable, py-spy, opencensus-context, nvidia-ml-py, distlib, colorful, virtualenv, tzdata, redis, pyemd, ordered-set, igraph, Graphillion, blessed, pandas, gpustat, aiohttp-cors, ray, opencensus, pyphi\n",
            "  Attempting uninstall: pandas\n",
            "    Found existing installation: pandas 1.5.3\n",
            "    Uninstalling pandas-1.5.3:\n",
            "      Successfully uninstalled pandas-1.5.3\n",
            "\u001b[31mERROR: pip's dependency resolver does not currently take into account all the packages that are installed. This behaviour is the source of the following dependency conflicts.\n",
            "google-colab 1.0.0 requires pandas==1.5.3, but you have pandas 2.1.1 which is incompatible.\u001b[0m\u001b[31m\n",
            "\u001b[0mSuccessfully installed Graphillion-1.5 aiohttp-cors-0.7.0 blessed-1.20.0 colorful-0.5.5 distlib-0.3.7 gpustat-1.1.1 igraph-0.10.8 nvidia-ml-py-12.535.108 opencensus-0.11.3 opencensus-context-0.1.3 ordered-set-4.1.0 pandas-2.1.1 py-spy-0.3.14 pyemd-1.0.0 pyphi-1.2.0 ray-2.7.0 redis-5.0.1 texttable-1.7.0 tzdata-2023.3 virtualenv-20.21.0\n"
          ]
        }
      ],
      "source": [
        "!python -m pip install -U git+https://github.com/wmayner/pyphi.git@feature/iit-4.0"
      ],
      "id": "c7_vN42lpDQc"
    },
    {
      "cell_type": "markdown",
      "metadata": {
        "id": "O6EAuSeAvf48"
      },
      "source": [
        "## Import packages\n",
        "Then we import the required packages and set up pyphi configuration settings (those specifically needed for this example notebook):"
      ],
      "id": "O6EAuSeAvf48"
    },
    {
      "cell_type": "code",
      "execution_count": null,
      "metadata": {
        "id": "2636ae3c"
      },
      "outputs": [],
      "source": [
        "import pyphi\n",
        "import numpy as np\n",
        "import itertools\n",
        "\n",
        "pyphi.config.PROGRESS_BARS = False\n",
        "pyphi.config.PARALLEL = False\n",
        "pyphi.config.SHORTCIRCUIT_SIA = False\n",
        "pyphi.config.VALIDATE_SUBSYSTEM_STATES = False"
      ],
      "id": "2636ae3c"
    },
    {
      "cell_type": "markdown",
      "metadata": {
        "id": "FgQgrPvgPu3u"
      },
      "source": [
        "# Welcome to the IIT Wiki Tutorial!\n",
        "## Computing $\\Phi$: Identifying a complex and unfolding its $\\Phi$-structure\n",
        "The following is a pre-run notebook showing how to compute $\\Phi$ for a model substrate. If you want to just follow along and read, feel free to start scrolling down. However, if you prefer to run the code yourself, please run the cells above first to get started.\n",
        "\n",
        "This tutorial shows how to apply the postulates of IIT one by one, which allows us to identify the substrate of consciousness within a system, and to unfold its cause–effect power in full (its $\\Phi$-structure).\n",
        "\n",
        "\n",
        "### Note on function names\n",
        "IIT terminology has become more refined over the past years, but unfortunately, we have not yet managed to update all these changes in the labeling of PyPhi functions. So please note that\n",
        "\n",
        "*   network = [substrate](https://sites.google.com/view/iit-wiki/glossary#h.63hvurupgbzf)\n",
        "*   subsystem = [candidate](https://sites.google.com/view/iit-wiki/glossary#h.8mzotxp600xu) [complex](https://sites.google.com/view/iit-wiki/glossary#h.b6fxhbe1r3re)\n",
        "*   concept = [distinction](https://sites.google.com/view/iit-wiki/glossary#h.ixtdw1emrvga)\n",
        "\n",
        "\n",
        "\n"
      ],
      "id": "FgQgrPvgPu3u"
    },
    {
      "cell_type": "markdown",
      "metadata": {
        "id": "8f2ca108"
      },
      "source": [
        "#  1 Apply [existence](https://sites.google.com/view/iit-wiki/overview/foundations#h.5h9ssjclzgt9)\n",
        "The [existence postulate](https://colab.research.google.com/corgiredirector?site=https%3A%2F%2Fsites.google.com%2Fview%2Fiit-wiki%2Foverview%2Ffoundations%23h.5h9ssjclzgt9) states that “the [substrate of consciousness](https://sites.google.com/view/iit-wiki/glossary#h.j5clb514qcec) can be characterized operationally by [cause–effect power](https://sites.google.com/view/iit-wiki/glossary#h.vlk7u52cim8x):  its [units](https://sites.google.com/view/iit-wiki/glossary#h.y4l991ydyf0n) must take and make a difference.” Therefore, applying existence amounts to assessing whether a substrate's units can take and make a difference in any [state](https://sites.google.com/view/iit-wiki/glossary#h.hnb1zhy1izf8)—whether they can have an effect upon, or be affected by, other units. In other words, a substrate satisfies existence if its being in a state makes any potential [cause and effect state](https://sites.google.com/view/iit-wiki/glossary#h.tp4brteczc2p) more likely than what chance would dictate."
      ],
      "id": "8f2ca108"
    },
    {
      "cell_type": "markdown",
      "metadata": {
        "id": "-APJQ7MtROQC"
      },
      "source": [
        "## 1.1 Operationally define the substrate\n",
        "In practice, to get started—both with applying the existence postulate specifically and with the IIT analysis more generally—we need a model of a well-defined substrate. This is a substrate constituted of non-overlapping, irreducible, and conditionally independent [units](https://sites.google.com/view/iit-wiki/glossary#h.y4l991ydyf0n). Each of the units can be defined by explicitly specifying its [grains](https://sites.google.com/view/iit-wiki/glossary#h.wecg9hts0fae), as well as its possible inputs, possible outputs, and an [activation function](https://sites.google.com/view/iit-wiki/glossary#h.vihvokm6h7tk) that defines the probability for transitioning from any given input to any given output. Given this, each unit will be associated with an explicit transition probability matrix (a unit [TPM](https://sites.google.com/view/iit-wiki/glossary#h.rgqyfluj1zit)) that can be combined to provide the substrate TPM—the only mathematical object needed to characterize a substrate's cause–effect power.\n",
        "\n",
        "Here, we define the substrate model, using the in-built `network_generator` module in `pyphi`. This requires defining an explicit model of each unit that constitutes it by providing their [activation functions](https://sites.google.com/view/iit-wiki/glossary#h.vihvokm6h7tk) and labels, as well as indicating how they interact by a weighted connectivity matrix. This returns a pyphi `Network` object, containing a `TPM` that fully characterizes the substrate. With this, we reproduce the substrate presented in figure 1 of [IIT 4.0](https://arxiv.org/pdf/2212.14787.pdf), which is constituted of three units labeled $\\mathrm{A}$, $\\mathrm{B}$, and $\\mathrm{C}$. (Note that ON is indicated by italic uppercase (e.g. $A$), and OFF by italic lowercase (e.g. $a$).)\n",
        "\n",
        "For more background, see\n",
        "* [Existence Postulate](https://sites.google.com/view/iit-wiki/overview/foundations#h.5h9ssjclzgt9)\n",
        "* [FAQ: How do we get a TPM?](https://sites.google.com/view/iit-wiki/faqs/technical#h.2l6pbfrrrl37)\n"
      ],
      "id": "-APJQ7MtROQC"
    },
    {
      "cell_type": "code",
      "execution_count": null,
      "metadata": {
        "colab": {
          "base_uri": "https://localhost:8080/"
        },
        "id": "kSoEAZcm9T4H",
        "outputId": "c3f50145-536f-4f54-b001-5b41f0b1908e"
      },
      "outputs": [
        {
          "output_type": "stream",
          "name": "stdout",
          "text": [
            "Substrate TPM: \n",
            "(input state) : probability that units turn ON\n",
            "(0, 0, 0) : [0.12 0.77 0.17]\n",
            "(1, 0, 0) : [0.03 1.   0.5 ]\n",
            "(0, 1, 0) : [0.97 0.4  0.17]\n",
            "(1, 1, 0) : [0.88 0.99 0.5 ]\n",
            "(0, 0, 1) : [0.12 0.01 0.5 ]\n",
            "(1, 0, 1) : [0.03 0.6  0.83]\n",
            "(0, 1, 1) : [0.97 0.   0.5 ]\n",
            "(1, 1, 1) : [0.88 0.23 0.83]\n"
          ]
        }
      ],
      "source": [
        "# Define units\n",
        "unit_labels = [\"A\", \"B\", \"C\"]\n",
        "n_units = len(unit_labels) # 3 units\n",
        "\n",
        "# Define activation functions (all units have the same function)\n",
        "unit_activation_function = pyphi.network_generator.ising.probability\n",
        "k = 4 # determines the slope of the sigmoid\n",
        "\n",
        "# Define weighted connectivity among units\n",
        "weights = np.array(\n",
        "    [\n",
        "        [-.2, 0.7, 0.2], # outgoing connections from A\n",
        "        [0.7, -.2, 0.0], # outgoing connections from B\n",
        "        [0.0, -.8, 0.2], # outgoing connections from C\n",
        "    ]\n",
        ")\n",
        "\n",
        "# Generate the substrate model\n",
        "substrate = pyphi.network_generator.build_network(\n",
        "    [unit_activation_function] * n_units,\n",
        "    weights,\n",
        "    temperature=1 / k,\n",
        ")\n",
        "\n",
        "# Print the state-by-node, forward TPM characterizing the substrate\n",
        "print('Substrate TPM: \\n(input state) : probability that units turn ON')\n",
        "for input_state, transition_probability in zip(pyphi.utils.all_states(3), pyphi.convert.to_2d(substrate.tpm.round(2))):\n",
        "  print(f'{input_state} : {transition_probability}')"
      ],
      "id": "kSoEAZcm9T4H"
    },
    {
      "cell_type": "markdown",
      "metadata": {
        "id": "tdDpbndfIQly"
      },
      "source": [
        "This substrate is non-deterministic, as seen by the decimals in the TPM (rather than all values in the TPM being 0's and 1's). Each row of the TPM provides the probabilities that each unit in the substrate will turn ON given a particular substrate state. For example, in the state \"all OFF\" (`(0, 0, 0)`or $abc$)—the first row—we can see that unit $\\mathrm{A}$ has a 12% chance of turning ON, while units $\\mathrm{B}$ and $\\mathrm{C}$ turn ON with probability 77% and 17%, respectively.   \n",
        "\n",
        "Here, the substrate was modeled using the built-in `network_generator` module, which allows users to specify the activation functions for each unit in their substrate. However, this substrate model should be [assumed to represent an actual physical substrate](https://sites.google.com/view/iit-wiki/faqs/technical#h.2l6pbfrrrl37), whose TPM could have been assessed using [the perturbational approach](https://sites.google.com/view/iit-wiki/faqs/method#h.snkj2nyg1wtd) or modeled based on our best knowledge about its physical properties.\n"
      ],
      "id": "tdDpbndfIQly"
    },
    {
      "cell_type": "markdown",
      "metadata": {
        "id": "_JDkeoNbRSZR"
      },
      "source": [
        "## 1.2 Quantify existence with `informativeness`\n",
        "Normally when using PyPhi, it's not an explicit step to apply the existence postulate (it's rather done implicitly when [intrinsic information](https://sites.google.com/view/iit-wiki/glossary#h.vkva0021by39) is computed). However, it could be done already now, either by observing the TPM and noting that the columns of numbers are not all the same (i.e., the input state seems to \"make a difference\") or by computing the [informativeness factor](https://sites.google.com/view/iit-wiki/glossary#h.vkva0021by39) for one (or all) transition(s) that the susbtrate might go through.\n",
        "\n",
        "We leave this as an exercise for the interested reader."
      ],
      "id": "_JDkeoNbRSZR"
    },
    {
      "cell_type": "markdown",
      "metadata": {
        "id": "775104dd"
      },
      "source": [
        "\n",
        "#  2 Apply intrinsicality\n",
        "The [intrinsicality postulate](https://sites.google.com/view/iit-wiki/overview/axioms-and-postulates/intrinsicality) states that “the substrate of consciousness must have *intrinsic* cause–effect power: it must take and make a difference *within* itself.” Therefore, applying intrinsicality amounts to assessing whether the substrate can take and make a difference to itself—whether it can have an effect upon, or be affected by, itself—and whether it can do so from its [intrinsic perspective](https://sites.google.com/view/iit-wiki/glossary#h.lda1vi9ede5q). In other words, a substrate satisfies intrinsicality if its being in a [state](https://sites.google.com/view/iit-wiki/glossary#h.hnb1zhy1izf8) makes any of its own potential [cause and effect states](https://sites.google.com/view/iit-wiki/glossary#h.tp4brteczc2p) more likely than what chance would dictate."
      ],
      "id": "775104dd"
    },
    {
      "cell_type": "markdown",
      "metadata": {
        "id": "GbGDpEgXRYEK"
      },
      "source": [
        "## 2.1 Define a candidate complex\n",
        "Thus, to apply intrinsicality, we first need to explicitly define a [candidate](https://sites.google.com/view/iit-wiki/glossary#h.8mzotxp600xu) [complex](https://sites.google.com/view/iit-wiki/glossary#h.b6fxhbe1r3re)—a set of [units](https://sites.google.com/view/iit-wiki/glossary#h.y4l991ydyf0n) we believe to constitute a [substrate of consciousness](https://sites.google.com/view/iit-wiki/glossary#h.j5clb514qcec). That is, we distinguish between what is *within* the candidate complex by conditioning on the state of all units that are not and [causally marginalizing](https://sites.google.com/view/iit-wiki/glossary#h.4917uuub4bb2) them out of the TPM. This is done to focus our analysis on causal powers exerted by (and over) the units within the candidate complex itself. Since we are conditioning only on the present state of the units outside the candidate complex (the [background conditions](https://sites.google.com/view/iit-wiki/glossary#h.ot008m3n2clu)), applying intrinsicality results in two separate TPMs—a cause TPM and an effect TPM—reflecting the asymmetry between cause and effect power (see [this FAQ](https://sites.google.com/view/iit-wiki/faqs/technical#h.bjv68wqyaahp)). These TPMs can be used to compute the cause and effect [informativeness](https://sites.google.com/view/iit-wiki/glossary#h.a31pyyr9r104) within the borders of the candidate.\n",
        "\n",
        "Here we consider units $aB$ the candidate complex and treat unit $C$ as a [background condition](https://sites.google.com/view/iit-wiki/glossary#h.ot008m3n2clu). This is done by passing a tuple of the respective node indices `(0,1)` to the keyward argument `nodes` when creating the `pyphi.Subsystem` object."
      ],
      "id": "GbGDpEgXRYEK"
    },
    {
      "cell_type": "code",
      "execution_count": null,
      "metadata": {
        "id": "0228654d"
      },
      "outputs": [],
      "source": [
        "# Define candidate complex\n",
        "substrate_state = (0, 1, 1)\n",
        "candidate_complex_units = (0, 1)\n",
        "candidate_cause_complex = pyphi.Subsystem(substrate, substrate_state, nodes=candidate_complex_units, backward_tpm=True)\n",
        "candidate_effect_complex = pyphi.Subsystem(substrate, substrate_state, nodes=candidate_complex_units, backward_tpm=False)"
      ],
      "id": "0228654d"
    },
    {
      "cell_type": "markdown",
      "metadata": {
        "id": "K1dnGKmERFeY"
      },
      "source": [
        "When using PyPhi, this is all that is done to apply the [intrinsicality postulate](https://sites.google.com/view/iit-wiki/overview/axioms-and-postulates/intrinsicality). However, the `subsystem` object contains all the information we need to assess specifically whether the cause–effect power of this candidate complex is indeed intrinsic.\n",
        "\n",
        "It is tempting to think of assessing intrinsicality as merely checking that the candidate's causal powers over itself are positive in both the cause and effect directions (like for [existence](https://sites.google.com/view/iit-wiki/overview/foundations#h.5h9ssjclzgt9) above), [conditioning on](https://sites.google.com/view/iit-wiki/glossary#h.vq8lj719uzmz) its current state. However, applying intrinsicality also requires us to compute a [selectivity factor](https://sites.google.com/view/iit-wiki/glossary#h.a4n8qbkkpgw) because the cause and effect power should be assessed from the [intrinsic perspective](https://sites.google.com/view/iit-wiki/glossary#h.lda1vi9ede5q) of the candidate complex. The selectivity factor modulates the cause and effect power as though it were “seen from the point of view” of the candidate complex in the present.\n",
        "\n",
        "## 2.2 Quantify intrinsic informativeness\n",
        "These operations give us what is needed to assess whether the candidate complex satisfies intrinsicality (i.e. whether it makes and takes a difference within itself). Again, though it is typically not assessed explicitly before the information step, we could now assess intrinsicality for the candidate complex by checking whether informativeness, modulated by the selectivity factor, is positive on both the cause and effect sides (i.e. when computed using the cause and effect TPMs). That is, the candidate satisfies intrinsicality if it takes and makes a difference within itself, from its intrinsic perspective. This is not checked explicitly in PyPhi but rather assessed implicitly when [intrinsic information](https://sites.google.com/view/iit-wiki/glossary#h.vkva0021by39) is computed.\n",
        "\n",
        "Furthermore, note that the current PyPhi API (as of July 2023) requires us to specifically define two subsystems when applying the intrinsicality postulate—one cause subsystem and one effect subsystem. In the cell below, we show the main difference between the two: that they contain distinct versions of the TPM. The probabilities of both are derived from the TPM defined in the existence step, but they are different due to the consequences of [conditioning](https://sites.google.com/view/iit-wiki/glossary#h.vq8lj719uzmz) on the current state of the background conditions. In future versions of PyPhi, these TPM's are likely to be consolidated into a single `subsystem` object, but for now they must both be explicitly defined.\n",
        "\n",
        "For more background, see\n",
        "* [IIT 4.0, section \"Identifying substrates of consciousness through existence, intrinsicality...\"](https://arxiv.org/pdf/2212.14787.pdf#page=12)\n",
        "* [FAQ: When we define background conditions, what operations do we perform on the TPM?](https://sites.google.com/view/iit-wiki/faqs/technical#h.bjv68wqyaahp)\n"
      ],
      "id": "K1dnGKmERFeY"
    },
    {
      "cell_type": "code",
      "execution_count": null,
      "metadata": {
        "colab": {
          "base_uri": "https://localhost:8080/"
        },
        "id": "rEqzD2kXRGzY",
        "outputId": "34a660a3-f37e-4902-8b4b-3f92b8e1cfbc"
      },
      "outputs": [
        {
          "output_type": "stream",
          "name": "stdout",
          "text": [
            "Candidate complex effect TPM: \n",
            "(inut state) : probability that units turn ON\n",
            "(0, 0) : [0.12, 0.01]\n",
            "(1, 0) : [0.03, 0.6]\n",
            "(0, 1) : [0.97, 0.0]\n",
            "(1, 1) : [0.88, 0.23]\n"
          ]
        }
      ],
      "source": [
        "# Print the state-by-node, effect TPM characterizing the candidate complex\n",
        "print('Candidate complex effect TPM: \\n(inut state) : probability that units turn ON')\n",
        "for input_state, transition_probability in zip(pyphi.utils.all_states(2), pyphi.convert.to_2d(candidate_effect_complex.tpm.round(2))):\n",
        "  print(f'{input_state} : {[transition_probability[i] for i in candidate_complex_units]}')"
      ],
      "id": "rEqzD2kXRGzY"
    },
    {
      "cell_type": "code",
      "execution_count": null,
      "metadata": {
        "colab": {
          "base_uri": "https://localhost:8080/"
        },
        "id": "w_iMuwIENDgF",
        "outputId": "4e9a59ba-8ab2-4a9d-bb50-f35752a6b85c"
      },
      "outputs": [
        {
          "output_type": "stream",
          "name": "stdout",
          "text": [
            "Candidate complex cause TPM: \n",
            "(inut state) : probability that units turn ON\n",
            "(0, 0) : [0.12, 0.44]\n",
            "(1, 0) : [0.03, 0.82]\n",
            "(0, 1) : [0.97, 0.23]\n",
            "(1, 1) : [0.88, 0.66]\n"
          ]
        }
      ],
      "source": [
        "# Print the state-by-node, cause TPM characterizing the candidate complex\n",
        "print('Candidate complex cause TPM: \\n(inut state) : probability that units turn ON')\n",
        "for input_state, transition_probability in zip(pyphi.utils.all_states(2), pyphi.convert.to_2d(candidate_cause_complex.tpm.round(2))):\n",
        "  print(f'{input_state} : {[transition_probability[i] for i in candidate_complex_units]}')"
      ],
      "id": "w_iMuwIENDgF"
    },
    {
      "cell_type": "markdown",
      "metadata": {
        "id": "A7vxSeRcrnJK"
      },
      "source": [
        "\n",
        "# 3. Apply information\n",
        "The [information postulate](https://sites.google.com/view/iit-wiki/overview/axioms-and-postulates/information#h.lnlbeg807l4) states that “the substrate of consciousness must have specific cause–effect power: it must select a specific cause–effect state.” Therefore, applying information in accordance with the principles of the theory amounts to specifying which of its own cause and effect states the substrate takes and makes a maximal difference to by virtue of being in its present [state](https://sites.google.com/view/iit-wiki/glossary#h.hnb1zhy1izf8). In other words, a substrate satisfies information to the extent that it specifies its own cause and effect states."
      ],
      "id": "A7vxSeRcrnJK"
    },
    {
      "cell_type": "markdown",
      "metadata": {
        "id": "t3EmQEyMRwWU"
      },
      "source": [
        "## 3.1 Confirm the substrate's present state and specify its cause–effect state by computing intrinsic information\n",
        "Once we have isolated the candidate complex from its background conditions, and obtained the relevant TPMs to compute intrinsic informativeness and selectivity, we can compute intrinsic information for the candidate complex in its present state. That is, we quantify the [intrinsic difference](https://sites.google.com/view/iit-wiki/glossary#h.vkva0021by39) the candidate complex makes to all of its potential effect states, and takes from all of its potential cause states, from the point of view of its present state. Among all its potential cause and effect states, the candidate complex is said to select (or specify) the one to which it takes and makes the maximal difference. Thus, by the [principle of maximal existence](https://sites.google.com/view/iit-wiki/glossary#h.qof4052teerl), applying the information postulate amounts to finding the [cause and effect state](https://sites.google.com/view/iit-wiki/glossary#h.tp4brteczc2p) to which the candidate complex takes and makes its maximal difference. These are the states the candidate complex specifies for itself, and degree to which it does so is measured by the intrinsic difference measure.\n",
        "\n",
        "Therefore, to apply the information postulate (or assess the specificity of the substrate's intrinsic cause and effect power), we compute the intrinsic information (ii) of the system with respect to each candidate cause and effect state, and pick the states with maximal ii.\n",
        "\n",
        "Using inbuilt functionality of pyphi we can obtain these states with a single line of code for each direction:"
      ],
      "id": "t3EmQEyMRwWU"
    },
    {
      "cell_type": "code",
      "execution_count": null,
      "metadata": {
        "colab": {
          "base_uri": "https://localhost:8080/"
        },
        "id": "4pFvJ4z2r6lg",
        "outputId": "33cafbb1-994c-4459-beb5-9eccfbbe1cc4"
      },
      "outputs": [
        {
          "output_type": "stream",
          "name": "stdout",
          "text": [
            "┌───────────────────────────┐\n",
            "│      Specified CAUSE      │\n",
            "│ ╍╍╍╍╍╍╍╍╍╍╍╍╍╍╍╍╍╍╍╍╍╍╍╍╍ │\n",
            "│ CAUSE:  (1,0)             │\n",
            "│  II_c: 0.8432283973378288 │\n",
            "└───────────────────────────┘\n",
            "┌────────────────────────────┐\n",
            "│      Specified EFFECT      │\n",
            "│ ╍╍╍╍╍╍╍╍╍╍╍╍╍╍╍╍╍╍╍╍╍╍╍╍╍╍ │\n",
            "│ EFFECT:  (1,0)             │\n",
            "│   II_e: 1.0976297820383176 │\n",
            "└────────────────────────────┘\n"
          ]
        }
      ],
      "source": [
        "# compute the maximal cause state\n",
        "maximal_cause_state = candidate_cause_complex.intrinsic_information(\n",
        "    pyphi.Direction.CAUSE,\n",
        "    candidate_complex_units,\n",
        "    candidate_complex_units,\n",
        ")\n",
        "\n",
        "# compute the maximal effect state\n",
        "maximal_effect_state = candidate_effect_complex.intrinsic_information(\n",
        "    pyphi.Direction.EFFECT,\n",
        "    candidate_complex_units,\n",
        "    candidate_complex_units,\n",
        ")\n",
        "\n",
        "# print results\n",
        "print(maximal_cause_state)\n",
        "print(maximal_effect_state)"
      ],
      "id": "4pFvJ4z2r6lg"
    },
    {
      "cell_type": "markdown",
      "metadata": {
        "id": "c_BMroBVndix"
      },
      "source": [
        "Here, we see that the substrate $aB$ specifies both its cause and effect as $Ab$, albeit with different intrinsic power (0.84 and 1.1 respectively).\n",
        "\n",
        "To get the maximal cause–effect state at once we can call the inbuilt pyphi function `system_intrinsic_information`, which applies the computation to all possible cause–effect state pairs for both the cause and effect simultaneously. However, in the current API of pyphi, the asymmetry in how the cause and effect is computed is not yet (as of July 2023) properly implemented, so this should only be done cautiously. That said, because the cause and effect states are the same in this example, and because only the state (not the information value) is carried on to future computational steps, the current flaw in the API is not of much importance here.\n",
        "\n",
        "For completeness, we show the result of computing the `system_intrinsic_information` for both candidate complex directions."
      ],
      "id": "c_BMroBVndix"
    },
    {
      "cell_type": "code",
      "execution_count": null,
      "metadata": {
        "colab": {
          "base_uri": "https://localhost:8080/"
        },
        "id": "twE7SROCnbbH",
        "outputId": "fa75b477-6439-4092-e293-7b53b2449463"
      },
      "outputs": [
        {
          "output_type": "stream",
          "name": "stdout",
          "text": [
            "┌────────────────────────────┐\n",
            "│   Specified System State   │\n",
            "│ ╍╍╍╍╍╍╍╍╍╍╍╍╍╍╍╍╍╍╍╍╍╍╍╍╍╍ │\n",
            "│  CAUSE:  (1,0)             │\n",
            "│   II_c: 1.8204323342996387 │\n",
            "│ EFFECT:  (1,0)             │\n",
            "│   II_e: 1.0976297820383176 │\n",
            "└────────────────────────────┘\n",
            "┌────────────────────────────┐\n",
            "│   Specified System State   │\n",
            "│ ╍╍╍╍╍╍╍╍╍╍╍╍╍╍╍╍╍╍╍╍╍╍╍╍╍╍ │\n",
            "│  CAUSE:  (1,0)             │\n",
            "│   II_c: 0.8432283973378288 │\n",
            "│ EFFECT:  (1,0)             │\n",
            "│   II_e: 1.071269385169987  │\n",
            "└────────────────────────────┘\n"
          ]
        }
      ],
      "source": [
        "# compute the candidate complex' specified cause–effect state\n",
        "cause_effect_state_forward = pyphi.new_big_phi.system_intrinsic_information(candidate_effect_complex)\n",
        "cause_effect_state_backward = pyphi.new_big_phi.system_intrinsic_information(candidate_cause_complex)\n",
        "\n",
        "\n",
        "# print results\n",
        "print(cause_effect_state_forward)\n",
        "print(cause_effect_state_backward)"
      ],
      "id": "twE7SROCnbbH"
    },
    {
      "cell_type": "markdown",
      "metadata": {
        "id": "wsP_6h-Ar8Sh"
      },
      "source": [
        "Again, this result shows that the substrate $aB$ is maximally selective for its cause $Ab$ and its effect $Ab$. However, note the difference in intrinsic information specified for the different states depend on the candidate complex used. This is because there are slight differences in their TPM's.\n",
        "\n",
        "For more see:\n",
        "- [information postulate](https://sites.google.com/view/iit-wiki/overview/axioms-and-postulates/information)\n",
        "- [FAQ: How is intrinsic information computed?](https://sites.google.com/view/iit-wiki/faqs/technical#h.9l275fb8gp1v)\n",
        "\n",
        "\n"
      ],
      "id": "wsP_6h-Ar8Sh"
    },
    {
      "cell_type": "markdown",
      "metadata": {
        "id": "YN0stlxnPGw0"
      },
      "source": [
        "#  4 Apply integration (assess irreducibility)\n",
        "The [integration postulate](https://sites.google.com/view/iit-wiki/overview/axioms-and-postulates/integration#h.1019venrnats) states that “the substrate of consciousness must have unitary cause–effect power:  it must specify its cause–effect state as a whole set of units, irreducible to separate subsets of units.” Therefore, applying integration amounts to assessing the extent to which its maximal cause and effect states are specified [irreducibly](https://sites.google.com/view/iit-wiki/glossary#h.sw1ddv976914). In other words, a substrate satisfies integration if there is no way to [partition](https://sites.google.com/view/iit-wiki/glossary#h.tbsgfc5m3fti) it into separate subsets of units without the maximal difference it makes to itself being dissolved."
      ],
      "id": "YN0stlxnPGw0"
    },
    {
      "cell_type": "markdown",
      "metadata": {
        "id": "8bqrORkzR0Tt"
      },
      "source": [
        "## 4.1 Compute system integrated information, $φ_s$\n",
        "Given a maximal cause–effect state, we have to assess whether this state is specified irreducibly. This is done by applying the integration postulate, which requires the us to compute the $φ_s$ of the candidate complex' maximal cause–effect state under all possible [legal partitions](https://sites.google.com/view/iit-wiki/faqs/technical#h.2xou8qbtjul1). If there is some way to partition the units of the candidate complex without altering how well its cause–effect state is specified, it is said to be reducible. Otherwise, it irreducibly specifies its cause–effect state (as one) to the extent that it is specified under [the least disruptive partition (the MIP)](https://sites.google.com/view/iit-wiki/glossary#h.uxjtor35txjh). The MIP is chosen in accordance with the [principle of minimal existence](https://sites.google.com/view/iit-wiki/glossary#h.dtwzpm4kzynp).\n",
        "\n",
        "Let's first generate an iterator of all possible legal system partitions and show the results of an example computation on the effect side:"
      ],
      "id": "8bqrORkzR0Tt"
    },
    {
      "cell_type": "code",
      "execution_count": null,
      "metadata": {
        "colab": {
          "base_uri": "https://localhost:8080/"
        },
        "id": "axQ_pUYgsX97",
        "outputId": "8ca59aed-a715-43e7-e33f-8cd4812f78b7"
      },
      "outputs": [
        {
          "output_type": "execute_result",
          "data": {
            "text/plain": [
              "┌──────────────────────────────────────────────────────────┐\n",
              "│             RepertoireIrreducibilityAnalysis             │\n",
              "│ ━━━━━━━━━━━━━━━━━━━━━━━━━━━━━━━━━━━━━━━━━━━━━━━━━━━━━━━━ │\n",
              "│                      φ: 0.810269289922786                │\n",
              "│           Normalized φ:  None                            │\n",
              "│              Mechanism:  [A,B]                           │\n",
              "│                Purview:  [A,B]                           │\n",
              "│        Specified state:  ┌────────────────────────────┐  │\n",
              "│                       :  │      Specified EFFECT      │  │\n",
              "│                       :  │ ╍╍╍╍╍╍╍╍╍╍╍╍╍╍╍╍╍╍╍╍╍╍╍╍╍╍ │  │\n",
              "│                       :  │ EFFECT:  (1,0)             │  │\n",
              "│                       :  │   II_e: 1.0976297820383176 │  │\n",
              "│                       :  └────────────────────────────┘  │\n",
              "│            Selectivity: 0.9723200605039938               │\n",
              "│             Forward Pr: 0.9723200605039938               │\n",
              "│ Partitioned forward Pr: 0.5456951824900698               │\n",
              "│              Partition:  2 parts: {[0],[1]}              │\n",
              "│                       :  [[0 0]                          │\n",
              "│                       :   [1 0]]                         │\n",
              "│             State ties: 0                                │\n",
              "│         Partition ties: 0                                │\n",
              "└──────────────────────────────────────────────────────────┘"
            ]
          },
          "metadata": {},
          "execution_count": 9
        }
      ],
      "source": [
        "# create a list of all legal partitions\n",
        "all_partitions = list(pyphi.partition.system_partitions(candidate_complex_units))\n",
        "\n",
        "# select an example partition\n",
        "example_partition = all_partitions[1]\n",
        "\n",
        "# compute irreducibility of the cause state\n",
        "effect_state_irreducibility = pyphi.new_big_phi.integration_value(\n",
        "    pyphi.Direction.EFFECT, candidate_effect_complex, example_partition, cause_effect_state_forward\n",
        ")\n",
        "effect_state_irreducibility\n",
        "\n"
      ],
      "id": "axQ_pUYgsX97"
    },
    {
      "cell_type": "markdown",
      "metadata": {
        "id": "QS2RR2MFR3ON"
      },
      "source": [
        "Next, we show the same thing on the cause side:"
      ],
      "id": "QS2RR2MFR3ON"
    },
    {
      "cell_type": "code",
      "execution_count": null,
      "metadata": {
        "colab": {
          "base_uri": "https://localhost:8080/"
        },
        "id": "kruAXSr0R3aq",
        "outputId": "455a6402-0f60-4f38-bfb5-621f860e53ad"
      },
      "outputs": [
        {
          "output_type": "execute_result",
          "data": {
            "text/plain": [
              "┌─────────────────────────────────────────────────────────┐\n",
              "│             RepertoireIrreducibilityAnalysis            │\n",
              "│ ━━━━━━━━━━━━━━━━━━━━━━━━━━━━━━━━━━━━━━━━━━━━━━━━━━━━━━━ │\n",
              "│                      φ: 0.5259532242835309              │\n",
              "│           Normalized φ:  None                           │\n",
              "│              Mechanism:  [A,B]                          │\n",
              "│                Purview:  [A,B]                          │\n",
              "│        Specified state:  ┌───────────────────────────┐  │\n",
              "│                       :  │      Specified CAUSE      │  │\n",
              "│                       :  │ ╍╍╍╍╍╍╍╍╍╍╍╍╍╍╍╍╍╍╍╍╍╍╍╍╍ │  │\n",
              "│                       :  │ CAUSE:  (1,0)             │  │\n",
              "│                       :  │  II_c: 0.8432283973378288 │  │\n",
              "│                       :  └───────────────────────────┘  │\n",
              "│            Selectivity: 0.631141865078419               │\n",
              "│             Forward Pr: 0.8026009188456223              │\n",
              "│ Partitioned forward Pr: 0.4504437095015182              │\n",
              "│              Partition:  2 parts: {[0],[1]}             │\n",
              "│                       :  [[0 0]                         │\n",
              "│                       :   [1 0]]                        │\n",
              "│             State ties: 0                               │\n",
              "│         Partition ties: 0                               │\n",
              "└─────────────────────────────────────────────────────────┘"
            ]
          },
          "metadata": {},
          "execution_count": 10
        }
      ],
      "source": [
        "# create a list of all legal partitions\n",
        "all_partitions = list(pyphi.partition.system_partitions(candidate_complex_units))\n",
        "\n",
        "# select an example partition\n",
        "example_partition = all_partitions[1]\n",
        "\n",
        "# compute irreducibility of the cause state\n",
        "cause_state_irreducibility = pyphi.new_big_phi.integration_value(\n",
        "    pyphi.Direction.CAUSE, candidate_cause_complex, example_partition, cause_effect_state_backward\n",
        ")\n",
        "cause_state_irreducibility"
      ],
      "id": "kruAXSr0R3aq"
    },
    {
      "cell_type": "markdown",
      "metadata": {
        "id": "CSGZeJUfoph-"
      },
      "source": [
        "Here, we can see that the effect state $Ab$ is irreducible ($\\phi = 0.81$) under our example partition. The partition applied yields two parts---$A$ and $b$---and severs the connection from $b$ to $A$ (leaving the connection from $A$ to $b$ intact).\n",
        "\n",
        "Under the same partition, we can see that the cause state $Ab$ is irreducible ($\\phi = 0.52$).\n",
        "\n"
      ],
      "id": "CSGZeJUfoph-"
    },
    {
      "cell_type": "markdown",
      "metadata": {
        "id": "i7rsUwbdSEYz"
      },
      "source": [
        "However, it is not sufficient to assess irreducibility for a single partition in a single direction. We need to apply all possible partitions and compute the irreducibility for both the cause and effect state. If the irreducibility is non-zero for all possible partitions, the cause–effect state is considered to be irreducible, and the substrate satisfies integration. In fact, Pyphi can apply the information and integration steps at once with the `sia` function, which computes the maximal cause–effect state, the $φ_s$ across all partitions, and returns the one across the minimal partition ($φ_s$).\n",
        "\n",
        "Until the pyphi API is updated, we can use the auxillary function in the `backwards` module to compute the `SIA` taking both directions into account simultaneously:"
      ],
      "id": "i7rsUwbdSEYz"
    },
    {
      "cell_type": "code",
      "execution_count": null,
      "metadata": {
        "colab": {
          "base_uri": "https://localhost:8080/"
        },
        "id": "GuCvzkqcpESP",
        "outputId": "cec0aa15-f63d-47cf-8621-bf59a9b82198"
      },
      "outputs": [
        {
          "output_type": "execute_result",
          "data": {
            "text/plain": [
              "┌────────────────────────────────────┐\n",
              "│    SystemIrreducibilityAnalysis    │\n",
              "│ ━━━━━━━━━━━━━━━━━━━━━━━━━━━━━━━━━━ │\n",
              "│      Subsystem:  A,B               │\n",
              "│  Current state:  (0,1)             │\n",
              "│            φ_s: 0.1718628889918048 │\n",
              "│ Normalized φ_s: 0.1718628889918048 │\n",
              "│          CAUSE:  (1,0)             │\n",
              "│           II_c: 0.8432283973378288 │\n",
              "│         EFFECT:  (1,0)             │\n",
              "│           II_e: 1.0976297820383176 │\n",
              "│   #(tied MIPs): 0                  │\n",
              "│      Partition:                    │\n",
              "│                 2 parts: {A,B}     │\n",
              "│                 [[0 1]             │\n",
              "│                  [0 0]]            │\n",
              "└────────────────────────────────────┘"
            ]
          },
          "metadata": {},
          "execution_count": 11
        }
      ],
      "source": [
        "# compute system irreducibility analysis for the effect side\n",
        "sia = pyphi.backwards.sia(candidate_cause_complex, candidate_effect_complex)\n",
        "sia"
      ],
      "id": "GuCvzkqcpESP"
    },
    {
      "cell_type": "markdown",
      "metadata": {
        "id": "ydPz8C1asZMz"
      },
      "source": [
        "The result of the analysis shows that $aB$ is irreducible with $\\phi_s=0.17$. The minimal partition (MiP) again yields two parts (as is always the case for any two unit candidate complex') where the connection from $a$ to $B$ is cut (but the connection from $b$ to $A$ is left intact). However, again this function is not up to date with the latest changes in the theory (note that the cause information specified is too high!), but since the cause–effect state picked is correct, we can use this result further.\n",
        "\n"
      ],
      "id": "ydPz8C1asZMz"
    },
    {
      "cell_type": "markdown",
      "metadata": {
        "id": "dVhhpUCpTPgy"
      },
      "source": [
        "#  5 Apply exclusion\n",
        "The [exclusion postulate](https://sites.google.com/view/iit-wiki/overview/axioms-and-postulates/exclusion#h.pvmrhffvh06e) states that “the substrate of consciousness must have definite cause–effect power:  it must specify its cause–effect state as *this* set of units.” Therefore, applying exclusion amounts to finding the well-defined set of units—among all possible overlapping sets—that specifies cause–effect power in accordance with the principles of the theory. In other words, a substrate satisfies exclusion if it is constituted by the set of units whose intrinsic cause–effect state is maximally irreducible among all candidate substrates that overlap with it."
      ],
      "id": "dVhhpUCpTPgy"
    },
    {
      "cell_type": "markdown",
      "metadata": {
        "id": "XtZu1JSUR4qV"
      },
      "source": [
        "## 5.1 Identify the first complex\n",
        "Any candidate complex overlaps with other candidates. And just because we may have good reasons to pick a certain candidate first, it is not guaranteed to be a substrate of consciousness. Finding the correct set of units---the units that lays the maximal claim to existence---within the substrate we defined in step 1, requires us to compute $\\phi_s$ for all possible candidate complexes. Our initial candidate complex only satisfies exclusion if it yields a higher $\\phi_s$ than any overlapping candidate.\n",
        "\n",
        "Thus, when we apply exclusion in our example substrate, we compute $φ_s$ for every candidate complex ($a$, $B$, $C$, $aB$, $aC$, $BC$, and $aBC$) to find the [*first complex*](https://sites.google.com/view/iit-wiki/glossary#h.b6fxhbe1r3re)---the one with maximal system integrated information ($φ_{s*}$). Here, we do this by explicitly iterating through all possible subsets of units, defining the relevant candidate complexes, and computing their SIAs:"
      ],
      "id": "XtZu1JSUR4qV"
    },
    {
      "cell_type": "code",
      "execution_count": null,
      "metadata": {
        "colab": {
          "base_uri": "https://localhost:8080/"
        },
        "id": "Hn4WaIdVnJvA",
        "outputId": "ebbbe30a-dc7a-40b8-d27d-4af920decda0"
      },
      "outputs": [
        {
          "output_type": "stream",
          "name": "stdout",
          "text": [
            "Candidate: A, φ_s = 0.04 \n",
            "Candidate: B, φ_s = 0.0 \n",
            "Candidate: C, φ_s = 0.21 \n",
            "Candidate: A B, φ_s = 0.17 \n",
            "Candidate: A C, φ_s = -0.2 \n",
            "Candidate: B C, φ_s = 0.0 \n",
            "Candidate: A B C, φ_s = 0.13 \n"
          ]
        }
      ],
      "source": [
        "# compute sia for all candidate complexes and print their irreducibility\n",
        "for subset in pyphi.utils.powerset((0,1,2), nonempty=True):\n",
        "\n",
        "  # define candidate complexes\n",
        "  cause_complex = pyphi.Subsystem(substrate, substrate_state, nodes=subset, backward_tpm=True)\n",
        "  effect_complex = pyphi.Subsystem(substrate, substrate_state, nodes=subset, backward_tpm=False)\n",
        "\n",
        "  # compute candidate sia\n",
        "  candidate_sia = pyphi.backwards.sia(cause_complex, effect_complex)\n",
        "\n",
        "  # print results\n",
        "  node_labels = candidate_cause_complex.node_labels.coerce_to_labels(subset)\n",
        "  print(f\"Candidate: {''.join([n+' ' for n in node_labels]).strip()}, φ_s = {np.round(candidate_sia.phi,2)} \")\n"
      ],
      "id": "Hn4WaIdVnJvA"
    },
    {
      "cell_type": "markdown",
      "metadata": {
        "id": "q7dHLmQkgPOt"
      },
      "source": [
        "Here, we can see that the first complex (i.e. the candidate complex with maximal $\\phi_s$ among all candidates) is $C$. However, it turns out that our initial candidate ($aB$) is also a complex, because it does not overlap with $C$ and has higher $\\phi_s$ than any of the remaining candidates. Together, these two complexes ($C$ and $aB$) are the only complexes that exist in the substrate $aBC$, as they exhaust the units in the substrate.\n",
        "\n",
        "Thus, for the remainder of the tutorial, we can safely stick with analyzing $aB$: $aB$  may not be the *first complex* within the overall substrate we defined, but it is *a complex* nonetheless. In other words, we can drop the \"candidate\" disclaimer when describing it, as we have now seen that it does indeed satisfy exclusion: it is more irreducible than any overlapping candidate complex.\n",
        "\n",
        "We leave it as an exercise for the interested reader to programatically create a list of non-overlapping, maximally irreducible complexes contained in the substrate."
      ],
      "id": "q7dHLmQkgPOt"
    },
    {
      "cell_type": "markdown",
      "metadata": {
        "id": "tEDhN1fp-VPR"
      },
      "source": [
        "### Note on [grains](https://sites.google.com/view/iit-wiki/glossary#h.wecg9hts0fae)\n",
        "Strictly speaking, we should also include all possible systems derived from substrates resulting from all possible operational choices. That is, we need to operationally carve up (model) the underlying physical system into all possible units, manipulate and observe them in all possible ways (to obtain their TPMs), and compute their respective values of $phi_s$. Only when we have the irreducibility quantified for all possible legal ways of operationally defining the substrate, and have found the one that specifies the maximally irreducible cause–effect state among the candidates, can we say that we have exhaustively searched for the best candidate system to account for the experience specified by the substrate under evaluation."
      ],
      "id": "tEDhN1fp-VPR"
    },
    {
      "cell_type": "markdown",
      "metadata": {
        "id": "10b7b523"
      },
      "source": [
        "\n",
        "#  6 Apply composition\n",
        "The [composition postulate](https://sites.google.com/view/iit-wiki/overview/axioms-and-postulates/composition#h.uyfhol2todl) states that “the substrate of consciousness must have structured cause–effect power: subsets of its units must specify cause–effect states over subsets of units ([distinctions](https://sites.google.com/view/iit-wiki/glossary#h.ixtdw1emrvga)) that can overlap with one another ([relations](https://sites.google.com/view/iit-wiki/glossary#h.yp1dkd8f7s8u)), yielding a cause–effect structure or [Φ-structure](https://sites.google.com/view/iit-wiki/glossary#h.u3dcbculq7ms) (“Phi-structure”).” Therefore, applying composition amounts to assessing how the subsets of a complex jointly structure the irreducible cause–effect state it specifies. In other words, a substrate satisfies composition if the cause–effect power it specifies is structured by at least one irreducible distinction."
      ],
      "id": "10b7b523"
    },
    {
      "cell_type": "markdown",
      "metadata": {
        "id": "1ZWEGh4QR9vr"
      },
      "source": [
        "## 6.1 Unfold $\\Phi $-structure\n",
        "In contrast with reductionist or holistic views, IIT emphasizes that we have to make sure we do not miss out on any cause–effect power the system specifies. This can be done by considering the possibility that any combination of units in the system (the [powerset](https://sites.google.com/view/iit-wiki/glossary#h.of3eml7gj8qf)) may contribute to the system’s cause–effect power as a distinction (a cause and effect linked through mechanisms). In fact, every candidate distinction is evaluated—that is, we quantify the cause–effect power specified by every possible mechanism over every possible purview, on both the cause and effect sides. In addition to the distinctions, every candidate relation among them is also evaluated—that is, we quantify whether any additional causal constraint is specified by multiple mechanisms jointly over the same purview elements. Together, the candidate distinctions and relations compose a structure of intrinsic cause–effect power,  which we call a $\\Phi$-structure.\n",
        "\n",
        "The step of assessing composition merely means we identify all distinctions and relations specified by a complex, thus unfolding its $\\Phi$-structure."
      ],
      "id": "1ZWEGh4QR9vr"
    },
    {
      "cell_type": "markdown",
      "metadata": {
        "id": "DXKzSQYaTRz_"
      },
      "source": [
        "## 6.2 Compute candidate distinctions\n",
        "Because we have identified that $aB$ is indeed a complex in our substrate, we can apply composition and compute the distinctions and relations composing its $\\Phi$-structure.\n",
        "\n",
        "To do this, we first have to check which mechanisms among all the candidate subsets within it specify irreducible distinctions. For each mechanism we have to evaluate each individual candidate cause and effect purview within the complex (intrinsicality), find its maximally irreducible state (information), the minimum partition for each of them and the corresponding $φ_d$ value (integration), and find the maximally irreducible cause and effect for each distinction (exclusion). Pyphi does this for us with the fuction `concept`, which directly returns the maximally irreducible cause and effect purviews of a mechanism.\n",
        "\n",
        "However, again, we must keep in mind that pyphi is not updated to fully account for the asymmetry between cause and effect subsystems. Therefore, we must compute the cause and effect (`mice`) of each distinction separately, and then join them into a distinction.\n",
        "\n",
        "Let's try with candidate mechanism $a$:"
      ],
      "id": "DXKzSQYaTRz_"
    },
    {
      "cell_type": "code",
      "execution_count": null,
      "metadata": {
        "colab": {
          "base_uri": "https://localhost:8080/"
        },
        "id": "261eeb8d",
        "outputId": "ab331b69-c0f7-4273-dec3-ad6ba23603b0"
      },
      "outputs": [
        {
          "output_type": "execute_result",
          "data": {
            "text/plain": [
              "━━━━━━━━━━━━━━━━━━━━━━━━━━━━━━━━━━━━━━━━━━━━━━━━━━━━━━━━━━━━━━━━━━━━━━━━━━━━━━━━━━━━━━━━━━━━━━━━━━━━━━━━━━━━━━━━━━━━━━━━━━\n",
              "                       Concept: mechanism = [A], state = [0]\n",
              "         φ = 0.3327283938209                                 \n",
              "━━━━━━━━━━━━━━━━━━━━━━━━━━━━━━━━━━━━━━━━━━━━━━━━━━━━━━━━━━━━━━━━━━━━━━━━━━━━━━━━━━━━━━━━━━━━━━━━━━━━━━━━━━━━━━━━━━━━━━━━━━\n",
              " ┌─────────────────────────────────────────────────────────┐ ┌───────────────────────────────────────────────────────────┐\n",
              " │               Maximally-irreducible cause               │ │                Maximally-irreducible effect               │\n",
              " │ ━━━━━━━━━━━━━━━━━━━━━━━━━━━━━━━━━━━━━━━━━━━━━━━━━━━━━━━ │ │ ━━━━━━━━━━━━━━━━━━━━━━━━━━━━━━━━━━━━━━━━━━━━━━━━━━━━━━━━━ │\n",
              " │                      φ: 0.8258578730383899              │ │                      φ: 0.33272839382093894               │\n",
              " │           Normalized φ: 0.8258578730383899              │ │           Normalized φ: 0.33272839382093894               │\n",
              " │              Mechanism:  [A]                            │ │              Mechanism:  [A]                              │\n",
              " │                Purview:  [B]                            │ │                Purview:  [B]                              │\n",
              " │        Specified state:  ┌───────────────────────────┐  │ │        Specified state:  ┌─────────────────────────────┐  │\n",
              " │                       :  │      Specified CAUSE      │  │ │                       :  │       Specified EFFECT      │  │\n",
              " │                       :  │ ╍╍╍╍╍╍╍╍╍╍╍╍╍╍╍╍╍╍╍╍╍╍╍╍╍ │  │ │                       :  │ ╍╍╍╍╍╍╍╍╍╍╍╍╍╍╍╍╍╍╍╍╍╍╍╍╍╍╍ │  │\n",
              " │                       :  │ CAUSE:  (0)               │  │ │                       :  │ EFFECT:  (0)                │  │\n",
              " │                       :  │  II_c: 0.8258578730383902 │  │ │                       :  │   II_e: 0.33272839382093894 │  │\n",
              " │                       :  └───────────────────────────┘  │ │                       :  └─────────────────────────────┘  │\n",
              " │            Selectivity: 0.9271000422005082              │ │            Selectivity: 0.9967005825338446                │\n",
              " │             Forward Pr: 0.9271000422005082              │ │             Forward Pr: 0.9967005825338446                │\n",
              " │ Partitioned forward Pr: 0.5000000000000001              │ │ Partitioned forward Pr: 0.7908095721135638                │\n",
              " │              Partition:   A     ∅                       │ │              Partition:   A     ∅                         │\n",
              " │                       :  ─── ✕ ───                      │ │                       :  ─── ✕ ───                        │\n",
              " │                       :   ∅     B                       │ │                       :   ∅     B                         │\n",
              " │             State ties: 0                               │ │             State ties: 0                                 │\n",
              " │         Partition ties: 0                               │ │         Partition ties: 0                                 │\n",
              " │           Purview ties: 0                               │ │           Purview ties: 0                                 │\n",
              " └─────────────────────────────────────────────────────────┘ └───────────────────────────────────────────────────────────┘"
            ]
          },
          "metadata": {},
          "execution_count": 13
        }
      ],
      "source": [
        "# define candidate mechanism\n",
        "mechanism = (0,)\n",
        "\n",
        "# compute its maximally irreducible cause\n",
        "maximally_irreducible_cause = candidate_cause_complex.find_mice(pyphi.Direction.CAUSE, mechanism,)\n",
        "\n",
        "# compute its maximally irreducible effect\n",
        "maximally_irreducible_effect = candidate_effect_complex.find_mice(pyphi.Direction.EFFECT, mechanism,)\n",
        "\n",
        "# combine them into a distinction\n",
        "distinction = pyphi.models.mechanism.Concept(\n",
        "  mechanism=mechanism,\n",
        "  cause=maximally_irreducible_cause,\n",
        "  effect=maximally_irreducible_effect\n",
        ")\n",
        "distinction"
      ],
      "id": "261eeb8d"
    },
    {
      "cell_type": "markdown",
      "metadata": {
        "id": "ou55-_wyshUg"
      },
      "source": [
        "Here, we can se that the first order mechanism $a$ specifies an irreducible cause over $b$ with $\\phi_c=0.83$ and an irreducible effect, also, over $b$ with $\\phi_e=0.33$. In all, it therefore specifies an distinction, linking these purviews, with $\\phi_d=\\min(\\phi_c,\\phi_e)=0.33$.\n",
        "\n",
        "We can also compute all candidate distinctons in a complex at once by calling the pyphi function `ces`. For this, a temporary function has been implemented in pyphi's `backwards` module that takes care of computing causes and effects separately and combining them into distinctions:"
      ],
      "id": "ou55-_wyshUg"
    },
    {
      "cell_type": "code",
      "execution_count": null,
      "metadata": {
        "colab": {
          "base_uri": "https://localhost:8080/"
        },
        "id": "eab56d3b-9343-4619-8509-aed514831da9",
        "outputId": "71915179-2fd6-49f9-d336-771b0b2209ff"
      },
      "outputs": [
        {
          "output_type": "execute_result",
          "data": {
            "text/plain": [
              "══════════════════════════════════════════════════════════════════════════════════════════════════════════════════════════════\n",
              "                                            CauseEffectStructure (3 distinctions)                                             \n",
              "══════════════════════════════════════════════════════════════════════════════════════════════════════════════════════════════\n",
              "  ━━━━━━━━━━━━━━━━━━━━━━━━━━━━━━━━━━━━━━━━━━━━━━━━━━━━━━━━━━━━━━━━━━━━━━━━━━━━━━━━━━━━━━━━━━━━━━━━━━━━━━━━━━━━━━━━━━━━━━━━━━  \n",
              "                                                        Concept: mechanism = [A], state = [0]                                 \n",
              "                                         φ = 0.3327283938209                                                                  \n",
              "  ━━━━━━━━━━━━━━━━━━━━━━━━━━━━━━━━━━━━━━━━━━━━━━━━━━━━━━━━━━━━━━━━━━━━━━━━━━━━━━━━━━━━━━━━━━━━━━━━━━━━━━━━━━━━━━━━━━━━━━━━━━  \n",
              "   ┌─────────────────────────────────────────────────────────┐ ┌───────────────────────────────────────────────────────────┐  \n",
              "   │               Maximally-irreducible cause               │ │                Maximally-irreducible effect               │  \n",
              "   │ ━━━━━━━━━━━━━━━━━━━━━━━━━━━━━━━━━━━━━━━━━━━━━━━━━━━━━━━ │ │ ━━━━━━━━━━━━━━━━━━━━━━━━━━━━━━━━━━━━━━━━━━━━━━━━━━━━━━━━━ │  \n",
              "   │                      φ: 0.8258578730383899              │ │                      φ: 0.33272839382093894               │  \n",
              "   │           Normalized φ: 0.8258578730383899              │ │           Normalized φ: 0.33272839382093894               │  \n",
              "   │              Mechanism:  [A]                            │ │              Mechanism:  [A]                              │  \n",
              "   │                Purview:  [B]                            │ │                Purview:  [B]                              │  \n",
              "   │        Specified state:  ┌───────────────────────────┐  │ │        Specified state:  ┌─────────────────────────────┐  │  \n",
              "   │                       :  │      Specified CAUSE      │  │ │                       :  │       Specified EFFECT      │  │  \n",
              "   │                       :  │ ╍╍╍╍╍╍╍╍╍╍╍╍╍╍╍╍╍╍╍╍╍╍╍╍╍ │  │ │                       :  │ ╍╍╍╍╍╍╍╍╍╍╍╍╍╍╍╍╍╍╍╍╍╍╍╍╍╍╍ │  │  \n",
              "   │                       :  │ CAUSE:  (0)               │  │ │                       :  │ EFFECT:  (0)                │  │  \n",
              "   │                       :  │  II_c: 0.8258578730383902 │  │ │                       :  │   II_e: 0.33272839382093894 │  │  \n",
              "   │                       :  └───────────────────────────┘  │ │                       :  └─────────────────────────────┘  │  \n",
              "   │            Selectivity: 0.9271000422005082              │ │            Selectivity: 0.9967005825338446                │  \n",
              "   │             Forward Pr: 0.9271000422005082              │ │             Forward Pr: 0.9967005825338446                │  \n",
              "   │ Partitioned forward Pr: 0.5000000000000001              │ │ Partitioned forward Pr: 0.7908095721135638                │  \n",
              "   │              Partition:   A     ∅                       │ │              Partition:   A     ∅                         │  \n",
              "   │                       :  ─── ✕ ───                      │ │                       :  ─── ✕ ───                        │  \n",
              "   │                       :   ∅     B                       │ │                       :   ∅     B                         │  \n",
              "   │             State ties: 0                               │ │             State ties: 0                                 │  \n",
              "   │         Partition ties: 0                               │ │         Partition ties: 0                                 │  \n",
              "   │           Purview ties: 0                               │ │           Purview ties: 0                                 │  \n",
              "   └─────────────────────────────────────────────────────────┘ └───────────────────────────────────────────────────────────┘  \n",
              "                                                                                                                              \n",
              "  ━━━━━━━━━━━━━━━━━━━━━━━━━━━━━━━━━━━━━━━━━━━━━━━━━━━━━━━━━━━━━━━━━━━━━━━━━━━━━━━━━━━━━━━━━━━━━━━━━━━━━━━━━━━━━━━━━━━━━━━━━━  \n",
              "                                                        Concept: mechanism = [B], state = [1]                                 \n",
              "                                         φ = 0.3235941019429                                                                  \n",
              "  ━━━━━━━━━━━━━━━━━━━━━━━━━━━━━━━━━━━━━━━━━━━━━━━━━━━━━━━━━━━━━━━━━━━━━━━━━━━━━━━━━━━━━━━━━━━━━━━━━━━━━━━━━━━━━━━━━━━━━━━━━━  \n",
              "   ┌──────────────────────────────────────────────────────────┐ ┌──────────────────────────────────────────────────────────┐  \n",
              "   │               Maximally-irreducible cause                │ │               Maximally-irreducible effect               │  \n",
              "   │ ━━━━━━━━━━━━━━━━━━━━━━━━━━━━━━━━━━━━━━━━━━━━━━━━━━━━━━━━ │ │ ━━━━━━━━━━━━━━━━━━━━━━━━━━━━━━━━━━━━━━━━━━━━━━━━━━━━━━━━ │  \n",
              "   │                      φ: 0.32359410194293586              │ │                      φ: 0.8610947331062677               │  \n",
              "   │           Normalized φ: 0.32359410194293586              │ │           Normalized φ: 0.43054736655313386              │  \n",
              "   │              Mechanism:  [B]                             │ │              Mechanism:  [B]                             │  \n",
              "   │                Purview:  [A]                             │ │                Purview:  [A,B]                           │  \n",
              "   │        Specified state:  ┌────────────────────────────┐  │ │        Specified state:  ┌────────────────────────────┐  │  \n",
              "   │                       :  │      Specified CAUSE       │  │ │                       :  │      Specified EFFECT      │  │  \n",
              "   │                       :  │ ╍╍╍╍╍╍╍╍╍╍╍╍╍╍╍╍╍╍╍╍╍╍╍╍╍╍ │  │ │                       :  │ ╍╍╍╍╍╍╍╍╍╍╍╍╍╍╍╍╍╍╍╍╍╍╍╍╍╍ │  │  \n",
              "   │                       :  │ CAUSE:  (1)                │  │ │                       :  │ EFFECT:  (1,0)             │  │  \n",
              "   │                       :  │  II_c: 0.32359410194293586 │  │ │                       :  │   II_e: 0.7480717431007836 │  │  \n",
              "   │                       :  └────────────────────────────┘  │ │                       :  └────────────────────────────┘  │  \n",
              "   │            Selectivity: 0.6915573666665578               │ │            Selectivity: 0.8192839846057849               │  \n",
              "   │             Forward Pr: 0.7433044599867324               │ │             Forward Pr: 0.8192839846057849               │  \n",
              "   │ Partitioned forward Pr: 0.5374134495664517               │ │ Partitioned forward Pr: 0.3954047860567819               │  \n",
              "   │              Partition:   B     ∅                        │ │              Partition:   B     ∅                        │  \n",
              "   │                       :  ─── ✕ ───                       │ │                       :  ─── ✕ ───                       │  \n",
              "   │                       :   ∅     A                        │ │                       :   ∅    A,B                       │  \n",
              "   │             State ties: 0                                │ │             State ties: 0                                │  \n",
              "   │         Partition ties: 0                                │ │         Partition ties: 0                                │  \n",
              "   │           Purview ties: 0                                │ │           Purview ties: 0                                │  \n",
              "   └──────────────────────────────────────────────────────────┘ └──────────────────────────────────────────────────────────┘  \n",
              "                                                                                                                              \n",
              "   ━━━━━━━━━━━━━━━━━━━━━━━━━━━━━━━━━━━━━━━━━━━━━━━━━━━━━━━━━━━━━━━━━━━━━━━━━━━━━━━━━━━━━━━━━━━━━━━━━━━━━━━━━━━━━━━━━━━━━━━━   \n",
              "                                                  Concept: mechanism = [A,B], state = [0, 1]                                  \n",
              "                                            φ = 0.0714404223934                                                               \n",
              "   ━━━━━━━━━━━━━━━━━━━━━━━━━━━━━━━━━━━━━━━━━━━━━━━━━━━━━━━━━━━━━━━━━━━━━━━━━━━━━━━━━━━━━━━━━━━━━━━━━━━━━━━━━━━━━━━━━━━━━━━━   \n",
              "    ┌────────────────────────────────────────────────────────┐ ┌──────────────────────────────────────────────────────────┐   \n",
              "    │              Maximally-irreducible cause               │ │               Maximally-irreducible effect               │   \n",
              "    │ ━━━━━━━━━━━━━━━━━━━━━━━━━━━━━━━━━━━━━━━━━━━━━━━━━━━━━━ │ │ ━━━━━━━━━━━━━━━━━━━━━━━━━━━━━━━━━━━━━━━━━━━━━━━━━━━━━━━━ │   \n",
              "    │                      φ: 0.217943249761564              │ │                      φ: 0.07144042239337726              │   \n",
              "    │           Normalized φ: 0.217943249761564              │ │           Normalized φ: 0.03572021119668863              │   \n",
              "    │              Mechanism:  [A,B]                         │ │              Mechanism:  [A,B]                           │   \n",
              "    │                Purview:  [B]                           │ │                Purview:  [A,B]                           │   \n",
              "    │        Specified state:  ┌──────────────────────────┐  │ │        Specified state:  ┌────────────────────────────┐  │   \n",
              "    │                       :  │     Specified CAUSE      │  │ │                       :  │      Specified EFFECT      │  │   \n",
              "    │                       :  │ ╍╍╍╍╍╍╍╍╍╍╍╍╍╍╍╍╍╍╍╍╍╍╍╍ │  │ │                       :  │ ╍╍╍╍╍╍╍╍╍╍╍╍╍╍╍╍╍╍╍╍╍╍╍╍╍╍ │  │   \n",
              "    │                       :  │ CAUSE:  (0)              │  │ │                       :  │ EFFECT:  (1,0)             │  │   \n",
              "    │                       :  │  II_c: 0.873686357490617 │  │ │                       :  │   II_e: 1.0976297820383176 │  │   \n",
              "    │                       :  └──────────────────────────┘  │ │                       :  └────────────────────────────┘  │   \n",
              "    │            Selectivity: 0.9474593617441686             │ │            Selectivity: 0.9723200605039938               │   \n",
              "    │             Forward Pr: 0.584360428698912              │ │             Forward Pr: 0.9723200605039938               │   \n",
              "    │ Partitioned forward Pr: 0.498236031772178              │ │ Partitioned forward Pr: 0.9240411521283985               │   \n",
              "    │              Partition:   A     B     ∅                │ │              Partition:   A     B     ∅                  │   \n",
              "    │                       :  ─── ✕ ─── ✕ ───               │ │                       :  ─── ✕ ─── ✕ ───                 │   \n",
              "    │                       :   B     ∅     ∅                │ │                       :   B     A     ∅                  │   \n",
              "    │             State ties: 0                              │ │             State ties: 0                                │   \n",
              "    │         Partition ties: 0                              │ │         Partition ties: 0                                │   \n",
              "    │           Purview ties: 0                              │ │           Purview ties: 0                                │   \n",
              "    └────────────────────────────────────────────────────────┘ └──────────────────────────────────────────────────────────┘   \n",
              "                                                                                                                              \n",
              "                                                                                                                              "
            ]
          },
          "metadata": {},
          "execution_count": 14
        }
      ],
      "source": [
        "candidate_distinctions = pyphi.backwards.compute_combined_ces(candidate_cause_complex, candidate_effect_complex)\n",
        "candidate_distinctions"
      ],
      "id": "eab56d3b-9343-4619-8509-aed514831da9"
    },
    {
      "cell_type": "markdown",
      "metadata": {
        "id": "6be140a3-6c3d-4205-8394-9120edd759e7"
      },
      "source": [
        "## 6.3 Enforce congruence with cause--effect state\n",
        "Above, we that all three subsets in the complex ($a$, $B$, and $aB$) specify irreducible candidate distinctions. These are just candidates for now, however, because they are not necessarily [congruent](https://sites.google.com/view/iit-wiki/glossary#h.cm6by218tf7l) with the cause–effect state specified by the complex as a whole. That is, mechanisms must specify their purviews to states that cohere with the cause–effect state specified by the system as a whole.\n",
        "\n",
        "We can filter out distinctions that are incongruent with the specified cause–effect state, which is done like so:"
      ],
      "id": "6be140a3-6c3d-4205-8394-9120edd759e7"
    },
    {
      "cell_type": "code",
      "execution_count": null,
      "metadata": {
        "colab": {
          "base_uri": "https://localhost:8080/"
        },
        "id": "b1e5500a-2890-4bd9-8a70-61c3cc61a141",
        "outputId": "77484870-3627-458e-96bc-98dedbfc228e"
      },
      "outputs": [
        {
          "output_type": "execute_result",
          "data": {
            "text/plain": [
              "══════════════════════════════════════════════════════════════════════════════════════════════════════════════════════════════\n",
              "                                            CauseEffectStructure (3 distinctions)                                             \n",
              "══════════════════════════════════════════════════════════════════════════════════════════════════════════════════════════════\n",
              "  ━━━━━━━━━━━━━━━━━━━━━━━━━━━━━━━━━━━━━━━━━━━━━━━━━━━━━━━━━━━━━━━━━━━━━━━━━━━━━━━━━━━━━━━━━━━━━━━━━━━━━━━━━━━━━━━━━━━━━━━━━━  \n",
              "                                                        Concept: mechanism = [A], state = [0]                                 \n",
              "                                         φ = 0.3327283938209                                                                  \n",
              "  ━━━━━━━━━━━━━━━━━━━━━━━━━━━━━━━━━━━━━━━━━━━━━━━━━━━━━━━━━━━━━━━━━━━━━━━━━━━━━━━━━━━━━━━━━━━━━━━━━━━━━━━━━━━━━━━━━━━━━━━━━━  \n",
              "   ┌─────────────────────────────────────────────────────────┐ ┌───────────────────────────────────────────────────────────┐  \n",
              "   │               Maximally-irreducible cause               │ │                Maximally-irreducible effect               │  \n",
              "   │ ━━━━━━━━━━━━━━━━━━━━━━━━━━━━━━━━━━━━━━━━━━━━━━━━━━━━━━━ │ │ ━━━━━━━━━━━━━━━━━━━━━━━━━━━━━━━━━━━━━━━━━━━━━━━━━━━━━━━━━ │  \n",
              "   │                      φ: 0.8258578730383899              │ │                      φ: 0.33272839382093894               │  \n",
              "   │           Normalized φ: 0.8258578730383899              │ │           Normalized φ: 0.33272839382093894               │  \n",
              "   │              Mechanism:  [A]                            │ │              Mechanism:  [A]                              │  \n",
              "   │                Purview:  [B]                            │ │                Purview:  [B]                              │  \n",
              "   │        Specified state:  ┌───────────────────────────┐  │ │        Specified state:  ┌─────────────────────────────┐  │  \n",
              "   │                       :  │      Specified CAUSE      │  │ │                       :  │       Specified EFFECT      │  │  \n",
              "   │                       :  │ ╍╍╍╍╍╍╍╍╍╍╍╍╍╍╍╍╍╍╍╍╍╍╍╍╍ │  │ │                       :  │ ╍╍╍╍╍╍╍╍╍╍╍╍╍╍╍╍╍╍╍╍╍╍╍╍╍╍╍ │  │  \n",
              "   │                       :  │ CAUSE:  (0)               │  │ │                       :  │ EFFECT:  (0)                │  │  \n",
              "   │                       :  │  II_c: 0.8258578730383902 │  │ │                       :  │   II_e: 0.33272839382093894 │  │  \n",
              "   │                       :  └───────────────────────────┘  │ │                       :  └─────────────────────────────┘  │  \n",
              "   │            Selectivity: 0.9271000422005082              │ │            Selectivity: 0.9967005825338446                │  \n",
              "   │             Forward Pr: 0.9271000422005082              │ │             Forward Pr: 0.9967005825338446                │  \n",
              "   │ Partitioned forward Pr: 0.5000000000000001              │ │ Partitioned forward Pr: 0.7908095721135638                │  \n",
              "   │              Partition:   A     ∅                       │ │              Partition:   A     ∅                         │  \n",
              "   │                       :  ─── ✕ ───                      │ │                       :  ─── ✕ ───                        │  \n",
              "   │                       :   ∅     B                       │ │                       :   ∅     B                         │  \n",
              "   │             State ties: 0                               │ │             State ties: 0                                 │  \n",
              "   │         Partition ties: 0                               │ │         Partition ties: 0                                 │  \n",
              "   │           Purview ties: 0                               │ │           Purview ties: 0                                 │  \n",
              "   └─────────────────────────────────────────────────────────┘ └───────────────────────────────────────────────────────────┘  \n",
              "                                                                                                                              \n",
              "  ━━━━━━━━━━━━━━━━━━━━━━━━━━━━━━━━━━━━━━━━━━━━━━━━━━━━━━━━━━━━━━━━━━━━━━━━━━━━━━━━━━━━━━━━━━━━━━━━━━━━━━━━━━━━━━━━━━━━━━━━━━  \n",
              "                                                        Concept: mechanism = [B], state = [1]                                 \n",
              "                                         φ = 0.3235941019429                                                                  \n",
              "  ━━━━━━━━━━━━━━━━━━━━━━━━━━━━━━━━━━━━━━━━━━━━━━━━━━━━━━━━━━━━━━━━━━━━━━━━━━━━━━━━━━━━━━━━━━━━━━━━━━━━━━━━━━━━━━━━━━━━━━━━━━  \n",
              "   ┌──────────────────────────────────────────────────────────┐ ┌──────────────────────────────────────────────────────────┐  \n",
              "   │               Maximally-irreducible cause                │ │               Maximally-irreducible effect               │  \n",
              "   │ ━━━━━━━━━━━━━━━━━━━━━━━━━━━━━━━━━━━━━━━━━━━━━━━━━━━━━━━━ │ │ ━━━━━━━━━━━━━━━━━━━━━━━━━━━━━━━━━━━━━━━━━━━━━━━━━━━━━━━━ │  \n",
              "   │                      φ: 0.32359410194293586              │ │                      φ: 0.8610947331062677               │  \n",
              "   │           Normalized φ: 0.32359410194293586              │ │           Normalized φ: 0.43054736655313386              │  \n",
              "   │              Mechanism:  [B]                             │ │              Mechanism:  [B]                             │  \n",
              "   │                Purview:  [A]                             │ │                Purview:  [A,B]                           │  \n",
              "   │        Specified state:  ┌────────────────────────────┐  │ │        Specified state:  ┌────────────────────────────┐  │  \n",
              "   │                       :  │      Specified CAUSE       │  │ │                       :  │      Specified EFFECT      │  │  \n",
              "   │                       :  │ ╍╍╍╍╍╍╍╍╍╍╍╍╍╍╍╍╍╍╍╍╍╍╍╍╍╍ │  │ │                       :  │ ╍╍╍╍╍╍╍╍╍╍╍╍╍╍╍╍╍╍╍╍╍╍╍╍╍╍ │  │  \n",
              "   │                       :  │ CAUSE:  (1)                │  │ │                       :  │ EFFECT:  (1,0)             │  │  \n",
              "   │                       :  │  II_c: 0.32359410194293586 │  │ │                       :  │   II_e: 0.7480717431007836 │  │  \n",
              "   │                       :  └────────────────────────────┘  │ │                       :  └────────────────────────────┘  │  \n",
              "   │            Selectivity: 0.6915573666665578               │ │            Selectivity: 0.8192839846057849               │  \n",
              "   │             Forward Pr: 0.7433044599867324               │ │             Forward Pr: 0.8192839846057849               │  \n",
              "   │ Partitioned forward Pr: 0.5374134495664517               │ │ Partitioned forward Pr: 0.3954047860567819               │  \n",
              "   │              Partition:   B     ∅                        │ │              Partition:   B     ∅                        │  \n",
              "   │                       :  ─── ✕ ───                       │ │                       :  ─── ✕ ───                       │  \n",
              "   │                       :   ∅     A                        │ │                       :   ∅    A,B                       │  \n",
              "   │             State ties: 0                                │ │             State ties: 0                                │  \n",
              "   │         Partition ties: 0                                │ │         Partition ties: 0                                │  \n",
              "   │           Purview ties: 0                                │ │           Purview ties: 0                                │  \n",
              "   └──────────────────────────────────────────────────────────┘ └──────────────────────────────────────────────────────────┘  \n",
              "                                                                                                                              \n",
              "   ━━━━━━━━━━━━━━━━━━━━━━━━━━━━━━━━━━━━━━━━━━━━━━━━━━━━━━━━━━━━━━━━━━━━━━━━━━━━━━━━━━━━━━━━━━━━━━━━━━━━━━━━━━━━━━━━━━━━━━━━   \n",
              "                                                  Concept: mechanism = [A,B], state = [0, 1]                                  \n",
              "                                            φ = 0.0714404223934                                                               \n",
              "   ━━━━━━━━━━━━━━━━━━━━━━━━━━━━━━━━━━━━━━━━━━━━━━━━━━━━━━━━━━━━━━━━━━━━━━━━━━━━━━━━━━━━━━━━━━━━━━━━━━━━━━━━━━━━━━━━━━━━━━━━   \n",
              "    ┌────────────────────────────────────────────────────────┐ ┌──────────────────────────────────────────────────────────┐   \n",
              "    │              Maximally-irreducible cause               │ │               Maximally-irreducible effect               │   \n",
              "    │ ━━━━━━━━━━━━━━━━━━━━━━━━━━━━━━━━━━━━━━━━━━━━━━━━━━━━━━ │ │ ━━━━━━━━━━━━━━━━━━━━━━━━━━━━━━━━━━━━━━━━━━━━━━━━━━━━━━━━ │   \n",
              "    │                      φ: 0.217943249761564              │ │                      φ: 0.07144042239337726              │   \n",
              "    │           Normalized φ: 0.217943249761564              │ │           Normalized φ: 0.03572021119668863              │   \n",
              "    │              Mechanism:  [A,B]                         │ │              Mechanism:  [A,B]                           │   \n",
              "    │                Purview:  [B]                           │ │                Purview:  [A,B]                           │   \n",
              "    │        Specified state:  ┌──────────────────────────┐  │ │        Specified state:  ┌────────────────────────────┐  │   \n",
              "    │                       :  │     Specified CAUSE      │  │ │                       :  │      Specified EFFECT      │  │   \n",
              "    │                       :  │ ╍╍╍╍╍╍╍╍╍╍╍╍╍╍╍╍╍╍╍╍╍╍╍╍ │  │ │                       :  │ ╍╍╍╍╍╍╍╍╍╍╍╍╍╍╍╍╍╍╍╍╍╍╍╍╍╍ │  │   \n",
              "    │                       :  │ CAUSE:  (0)              │  │ │                       :  │ EFFECT:  (1,0)             │  │   \n",
              "    │                       :  │  II_c: 0.873686357490617 │  │ │                       :  │   II_e: 1.0976297820383176 │  │   \n",
              "    │                       :  └──────────────────────────┘  │ │                       :  └────────────────────────────┘  │   \n",
              "    │            Selectivity: 0.9474593617441686             │ │            Selectivity: 0.9723200605039938               │   \n",
              "    │             Forward Pr: 0.584360428698912              │ │             Forward Pr: 0.9723200605039938               │   \n",
              "    │ Partitioned forward Pr: 0.498236031772178              │ │ Partitioned forward Pr: 0.9240411521283985               │   \n",
              "    │              Partition:   A     B     ∅                │ │              Partition:   A     B     ∅                  │   \n",
              "    │                       :  ─── ✕ ─── ✕ ───               │ │                       :  ─── ✕ ─── ✕ ───                 │   \n",
              "    │                       :   B     ∅     ∅                │ │                       :   B     A     ∅                  │   \n",
              "    │             State ties: 0                              │ │             State ties: 0                                │   \n",
              "    │         Partition ties: 0                              │ │         Partition ties: 0                                │   \n",
              "    │           Purview ties: 0                              │ │           Purview ties: 0                                │   \n",
              "    └────────────────────────────────────────────────────────┘ └──────────────────────────────────────────────────────────┘   \n",
              "                                                                                                                              \n",
              "                                                                                                                              "
            ]
          },
          "metadata": {},
          "execution_count": 15
        }
      ],
      "source": [
        "distinctions = candidate_distinctions.resolve_congruence(sia.system_state)\n",
        "distinctions"
      ],
      "id": "b1e5500a-2890-4bd9-8a70-61c3cc61a141"
    },
    {
      "cell_type": "markdown",
      "metadata": {
        "id": "33b28b5a-e8ee-479e-9bd0-3643e15877f2"
      },
      "source": [
        "We see that all three distinctions did in fact specify causes and effects that were congruent with the cause–effect state. Thus, they are no longer mere candidates."
      ],
      "id": "33b28b5a-e8ee-479e-9bd0-3643e15877f2"
    },
    {
      "cell_type": "markdown",
      "metadata": {
        "id": "OOomW2KjTxJQ"
      },
      "source": [
        "## 6.4 Compute relations\n",
        "Now, to fully unfold the cause–effect powers specified by the complex, we can compute all relations among its distinctions. This is necessary to provide structure to the differences it makes to itself. Without relations, the distinctions would be an unstructured collection of independent \"differences that make a difference\"."
      ],
      "id": "OOomW2KjTxJQ"
    },
    {
      "cell_type": "code",
      "execution_count": null,
      "metadata": {
        "colab": {
          "base_uri": "https://localhost:8080/"
        },
        "id": "47c0771f-170b-435c-974e-48b28d3fecf4",
        "outputId": "25fc4a7a-7425-4c77-b02f-ff9e31997bd1"
      },
      "outputs": [
        {
          "output_type": "execute_result",
          "data": {
            "text/plain": [
              "═════════════════════════════════════\n",
              "          ConcreteRelations          \n",
              "═════════════════════════════════════\n",
              "        Σφ_r: 0.8349235517473179\n",
              "#(relations): 7                 \n",
              "  ┌───────────────────────────────┐  \n",
              "  │            Relation           │  \n",
              "  │ ━━━━━━━━━━━━━━━━━━━━━━━━━━━━━ │  \n",
              "  │      φ_r: 0.33272839382093894 │  \n",
              "  │  Purview:  [b]                │  \n",
              "  │ #(faces): 3                   │  \n",
              "  └───────────────────────────────┘  \n",
              "  ┌───────────────────────────────┐  \n",
              "  │            Relation           │  \n",
              "  │ ━━━━━━━━━━━━━━━━━━━━━━━━━━━━━ │  \n",
              "  │      φ_r: 0.03572021119668863 │  \n",
              "  │  Purview:  [b]                │  \n",
              "  │ #(faces): 9                   │  \n",
              "  └───────────────────────────────┘  \n",
              "  ┌───────────────────────────────┐  \n",
              "  │            Relation           │  \n",
              "  │ ━━━━━━━━━━━━━━━━━━━━━━━━━━━━━ │  \n",
              "  │      φ_r: 0.03572021119668863 │  \n",
              "  │  Purview:  [b]                │  \n",
              "  │ #(faces): 9                   │  \n",
              "  └───────────────────────────────┘  \n",
              "  ┌───────────────────────────────┐  \n",
              "  │            Relation           │  \n",
              "  │ ━━━━━━━━━━━━━━━━━━━━━━━━━━━━━ │  \n",
              "  │      φ_r: 0.16179705097146793 │  \n",
              "  │  Purview:  [A]                │  \n",
              "  │ #(faces): 3                   │  \n",
              "  └───────────────────────────────┘  \n",
              "  ┌───────────────────────────────┐  \n",
              "  │            Relation           │  \n",
              "  │ ━━━━━━━━━━━━━━━━━━━━━━━━━━━━━ │  \n",
              "  │      φ_r: 0.16179705097146793 │  \n",
              "  │  Purview:  [b]                │  \n",
              "  │ #(faces): 3                   │  \n",
              "  └───────────────────────────────┘  \n",
              "  ┌───────────────────────────────┐  \n",
              "  │            Relation           │  \n",
              "  │ ━━━━━━━━━━━━━━━━━━━━━━━━━━━━━ │  \n",
              "  │      φ_r: 0.07144042239337726 │  \n",
              "  │  Purview:  [A, b]             │  \n",
              "  │ #(faces): 5                   │  \n",
              "  └───────────────────────────────┘  \n",
              "  ┌───────────────────────────────┐  \n",
              "  │            Relation           │  \n",
              "  │ ━━━━━━━━━━━━━━━━━━━━━━━━━━━━━ │  \n",
              "  │      φ_r: 0.03572021119668863 │  \n",
              "  │  Purview:  [b]                │  \n",
              "  │ #(faces): 3                   │  \n",
              "  └───────────────────────────────┘  "
            ]
          },
          "metadata": {},
          "execution_count": 24
        }
      ],
      "source": [
        "relations = pyphi.relations.relations(distinctions)\n",
        "relations"
      ],
      "id": "47c0771f-170b-435c-974e-48b28d3fecf4"
    },
    {
      "cell_type": "markdown",
      "metadata": {
        "id": "SHhrNihUup1d"
      },
      "source": [
        "Here, we see that there are 7 irreducible relations among the distinctions. While it is not obvious from the outputs above, we can inspect the individual relations to see which mechanisms are related."
      ],
      "id": "SHhrNihUup1d"
    },
    {
      "cell_type": "code",
      "execution_count": null,
      "metadata": {
        "colab": {
          "base_uri": "https://localhost:8080/"
        },
        "id": "WgTeK3WAtuyU",
        "outputId": "502a6dac-d097-4fa2-c592-039da6c49892"
      },
      "outputs": [
        {
          "output_type": "stream",
          "name": "stdout",
          "text": [
            "relation 0 binds distinctions specified by ['(0,)']\n",
            "relation 1 binds distinctions specified by ['(0, 1)', '(0,)']\n",
            "relation 2 binds distinctions specified by ['(0, 1)', '(1,)', '(0,)']\n",
            "relation 3 binds distinctions specified by ['(1,)']\n",
            "relation 4 binds distinctions specified by ['(0,)', '(1,)']\n",
            "relation 5 binds distinctions specified by ['(0, 1)', '(1,)']\n",
            "relation 6 binds distinctions specified by ['(0, 1)']\n"
          ]
        }
      ],
      "source": [
        "for i,r in enumerate(relations):\n",
        "  print(f'relation {i} binds distinctions specified by {[str(mechanism[:]) for mechanism in r.mechanisms]}')"
      ],
      "id": "WgTeK3WAtuyU"
    },
    {
      "cell_type": "markdown",
      "metadata": {
        "id": "7e96ceeb-b2d1-48a6-8672-73c689e31c0f"
      },
      "source": [
        "From this, we can see that every set of distinctions (including all sets including a single distinction) is related.  \n",
        "\n"
      ],
      "id": "7e96ceeb-b2d1-48a6-8672-73c689e31c0f"
    },
    {
      "cell_type": "markdown",
      "metadata": {
        "id": "eyNANpEzX6dU"
      },
      "source": [
        "## 6.5 Compute $\\Phi$\n",
        "Pyphi can also help us compute the `sia` and the `Φ-structure` (with its respective $\\Phi$ value) specified by a complex all at once with the following pyphi function. Again, however, this function only takes a single subsystem as an argument, and is therefore prone to errors with the current API. In later updates, this is likely to be resolved, and should take into account the asymmetry between causes and effects."
      ],
      "id": "eyNANpEzX6dU"
    },
    {
      "cell_type": "code",
      "execution_count": null,
      "metadata": {
        "colab": {
          "base_uri": "https://localhost:8080/"
        },
        "id": "67d8d639",
        "outputId": "4c0c8084-d046-4da1-a295-b0733f126b84"
      },
      "outputs": [
        {
          "output_type": "execute_result",
          "data": {
            "text/plain": [
              "┌────────────────────────────────────────┐\n",
              "│              PhiStructure              │\n",
              "│  ═══════════════════════════════════   │\n",
              "│                Φ: 3.0061363372488614   │\n",
              "│  #(distinctions): 3                    │\n",
              "│            Σ φ_d: 1.265263549320584    │\n",
              "│     #(relations): 7                    │\n",
              "│            Σ φ_r: 1.7408727879282773   │\n",
              "│ ┌────────────────────────────────────┐ │\n",
              "│ │    SystemIrreducibilityAnalysis    │ │\n",
              "│ │ ━━━━━━━━━━━━━━━━━━━━━━━━━━━━━━━━━━ │ │\n",
              "│ │      Subsystem:  A,B               │ │\n",
              "│ │  Current state:  (0,1)             │ │\n",
              "│ │            φ_s: 0.1718628889918048 │ │\n",
              "│ │ Normalized φ_s: 0.1718628889918048 │ │\n",
              "│ │          CAUSE:  (1,0)             │ │\n",
              "│ │           II_c: 1.8204323342996387 │ │\n",
              "│ │         EFFECT:  (1,0)             │ │\n",
              "│ │           II_e: 1.0976297820383176 │ │\n",
              "│ │   #(tied MIPs): 0                  │ │\n",
              "│ │      Partition:                    │ │\n",
              "│ │                 2 parts: {A,B}     │ │\n",
              "│ │                 [[0 1]             │ │\n",
              "│ │                  [0 0]]            │ │\n",
              "│ └────────────────────────────────────┘ │\n",
              "└────────────────────────────────────────┘"
            ]
          },
          "metadata": {},
          "execution_count": 18
        }
      ],
      "source": [
        "phi_structure = pyphi.new_big_phi.phi_structure(candidate_effect_complex)\n",
        "phi_structure"
      ],
      "id": "67d8d639"
    },
    {
      "cell_type": "markdown",
      "metadata": {
        "id": "14kq1Ps5nNrN"
      },
      "source": [
        "Luckily, we see that the main properties of the resulting structure corresponds to the ones we found using the cause and effect complexes separately. However, this is not necessarily going to be the case.\n",
        "\n",
        "This function also deals with checking all distinctions for congruence, so that no incongruent distinctions are included in the final $\\Phi$-structure. The output neatly summarizes the main results of the unfolding. Again, we see that the complex $aB$ is irreducible ($\\phi_s=0.17$), specifies 3 distinctions with 7 relations, and has an overall structure irreducibility of $\\Phi=3.0$.\n",
        "\n",
        "Alternatively, we can explicitly create our own $\\Phi$-structure by supplying the required arguments in the following way:"
      ],
      "id": "14kq1Ps5nNrN"
    },
    {
      "cell_type": "code",
      "execution_count": null,
      "metadata": {
        "id": "qCBvuxrskTtk"
      },
      "outputs": [],
      "source": [
        "# Manually create a phi-structure\n",
        "phi_structure = pyphi.new_big_phi.phi_structure(\n",
        "    subsystem=candidate_effect_complex,\n",
        "    sia=sia,\n",
        "    distinctions=distinctions,\n",
        "    relations=relations,\n",
        ")"
      ],
      "id": "qCBvuxrskTtk"
    },
    {
      "cell_type": "markdown",
      "metadata": {
        "id": "HpdxXwcHkT8q"
      },
      "source": [
        "#  7 Visualize the $\\Phi$-structure\n",
        "Finally, we can plot the $\\Phi$-structure, using the inbuilt `visualize` module, which allows us to investigate all the components of the structure in a visual way."
      ],
      "id": "HpdxXwcHkT8q"
    },
    {
      "cell_type": "code",
      "execution_count": null,
      "metadata": {
        "colab": {
          "base_uri": "https://localhost:8080/",
          "height": 817
        },
        "id": "uXbm8rGonfgc",
        "outputId": "69d38567-762d-49bf-a9a4-34496647826d"
      },
      "outputs": [
        {
          "output_type": "display_data",
          "data": {
            "text/html": [
              "<html>\n",
              "<head><meta charset=\"utf-8\" /></head>\n",
              "<body>\n",
              "    <div>            <script src=\"https://cdnjs.cloudflare.com/ajax/libs/mathjax/2.7.5/MathJax.js?config=TeX-AMS-MML_SVG\"></script><script type=\"text/javascript\">if (window.MathJax && window.MathJax.Hub && window.MathJax.Hub.Config) {window.MathJax.Hub.Config({SVG: {font: \"STIX-Web\"}});}</script>                <script type=\"text/javascript\">window.PlotlyConfig = {MathJaxConfig: 'local'};</script>\n",
              "        <script charset=\"utf-8\" src=\"https://cdn.plot.ly/plotly-2.24.1.min.js\"></script>                <div id=\"33cddfab-eba6-46f3-97a3-fc294bdcdbc0\" class=\"plotly-graph-div\" style=\"height:800px; width:1000px;\"></div>            <script type=\"text/javascript\">                                    window.PLOTLYENV=window.PLOTLYENV || {};                                    if (document.getElementById(\"33cddfab-eba6-46f3-97a3-fc294bdcdbc0\")) {                    Plotly.newPlot(                        \"33cddfab-eba6-46f3-97a3-fc294bdcdbc0\",                        [{\"hoverinfo\":\"text\",\"hovertext\":\"2-face\\u003cbr\\u003e&nbsp;&nbsp;&nbsp;&nbsp;P: b\\u003cbr\\u003e&nbsp;&nbsp;&nbsp;&nbsp;\\u03c6: 0.0357202111967\\u003cbr\\u003e&nbsp;&nbsp;&nbsp;&nbsp;Relata:\\u003cbr\\u003e&nbsp;&nbsp;&nbsp;&nbsp;&nbsp;&nbsp;&nbsp;&nbsp;b\\u003cbr\\u003e&nbsp;&nbsp;&nbsp;&nbsp;&nbsp;&nbsp;&nbsp;&nbsp;b\",\"legendgroup\":\"2-relations\",\"line\":{\"cmin\":0,\"color\":[0.03572021119668863,0.03572021119668863],\"colorbar\":{\"len\":0.25,\"ticklen\":5,\"ticks\":\"outside\",\"title\":{\"text\":\"2-face \\u03c6_r\"},\"x\":1.1,\"y\":0.25},\"colorscale\":[[0.0,\"rgb(247,251,255)\"],[0.125,\"rgb(222,235,247)\"],[0.25,\"rgb(198,219,239)\"],[0.375,\"rgb(158,202,225)\"],[0.5,\"rgb(107,174,214)\"],[0.625,\"rgb(66,146,198)\"],[0.75,\"rgb(33,113,181)\"],[0.875,\"rgb(8,81,156)\"],[1.0,\"rgb(8,48,107)\"]],\"showscale\":true,\"width\":5},\"mode\":\"lines\",\"name\":\"2-relations\",\"opacity\":0.75,\"showlegend\":true,\"x\":[-0.2499999999999999,-0.2499999999999999],\"y\":[-0.85,-1.05],\"z\":[0.5,0.5],\"type\":\"scatter3d\"},{\"hoverinfo\":\"text\",\"hovertext\":\"2-face\\u003cbr\\u003e&nbsp;&nbsp;&nbsp;&nbsp;P: b\\u003cbr\\u003e&nbsp;&nbsp;&nbsp;&nbsp;\\u03c6: 0.0357202111967\\u003cbr\\u003e&nbsp;&nbsp;&nbsp;&nbsp;Relata:\\u003cbr\\u003e&nbsp;&nbsp;&nbsp;&nbsp;&nbsp;&nbsp;&nbsp;&nbsp;Ab\\u003cbr\\u003e&nbsp;&nbsp;&nbsp;&nbsp;&nbsp;&nbsp;&nbsp;&nbsp;b\",\"legendgroup\":\"2-relations\",\"line\":{\"cmin\":0,\"color\":[0.03572021119668863,0.03572021119668863],\"colorbar\":{\"len\":0.25,\"ticklen\":5,\"ticks\":\"outside\",\"title\":{\"text\":\"2-face \\u03c6_r\"},\"x\":1.1,\"y\":0.25},\"colorscale\":[[0.0,\"rgb(247,251,255)\"],[0.125,\"rgb(222,235,247)\"],[0.25,\"rgb(198,219,239)\"],[0.375,\"rgb(158,202,225)\"],[0.5,\"rgb(107,174,214)\"],[0.625,\"rgb(66,146,198)\"],[0.75,\"rgb(33,113,181)\"],[0.875,\"rgb(8,81,156)\"],[1.0,\"rgb(8,48,107)\"]],\"showscale\":false,\"width\":5},\"mode\":\"lines\",\"name\":\"2-relations\",\"opacity\":0.75,\"showlegend\":false,\"x\":[0.25,-0.2499999999999999],\"y\":[0.15000000000000002,-0.85],\"z\":[1.0,0.5],\"type\":\"scatter3d\"},{\"hoverinfo\":\"text\",\"hovertext\":\"2-face\\u003cbr\\u003e&nbsp;&nbsp;&nbsp;&nbsp;P: b\\u003cbr\\u003e&nbsp;&nbsp;&nbsp;&nbsp;\\u03c6: 0.0357202111967\\u003cbr\\u003e&nbsp;&nbsp;&nbsp;&nbsp;Relata:\\u003cbr\\u003e&nbsp;&nbsp;&nbsp;&nbsp;&nbsp;&nbsp;&nbsp;&nbsp;b\\u003cbr\\u003e&nbsp;&nbsp;&nbsp;&nbsp;&nbsp;&nbsp;&nbsp;&nbsp;b\",\"legendgroup\":\"2-relations\",\"line\":{\"cmin\":0,\"color\":[0.03572021119668863,0.03572021119668863],\"colorbar\":{\"len\":0.25,\"ticklen\":5,\"ticks\":\"outside\",\"title\":{\"text\":\"2-face \\u03c6_r\"},\"x\":1.1,\"y\":0.25},\"colorscale\":[[0.0,\"rgb(247,251,255)\"],[0.125,\"rgb(222,235,247)\"],[0.25,\"rgb(198,219,239)\"],[0.375,\"rgb(158,202,225)\"],[0.5,\"rgb(107,174,214)\"],[0.625,\"rgb(66,146,198)\"],[0.75,\"rgb(33,113,181)\"],[0.875,\"rgb(8,81,156)\"],[1.0,\"rgb(8,48,107)\"]],\"showscale\":false,\"width\":5},\"mode\":\"lines\",\"name\":\"2-relations\",\"opacity\":0.75,\"showlegend\":false,\"x\":[0.2500000000000001,-0.2499999999999999],\"y\":[-0.85,-1.05],\"z\":[0.5,0.5],\"type\":\"scatter3d\"},{\"hoverinfo\":\"text\",\"hovertext\":\"2-face\\u003cbr\\u003e&nbsp;&nbsp;&nbsp;&nbsp;P: b\\u003cbr\\u003e&nbsp;&nbsp;&nbsp;&nbsp;\\u03c6: 0.0357202111967\\u003cbr\\u003e&nbsp;&nbsp;&nbsp;&nbsp;Relata:\\u003cbr\\u003e&nbsp;&nbsp;&nbsp;&nbsp;&nbsp;&nbsp;&nbsp;&nbsp;Ab\\u003cbr\\u003e&nbsp;&nbsp;&nbsp;&nbsp;&nbsp;&nbsp;&nbsp;&nbsp;b\",\"legendgroup\":\"2-relations\",\"line\":{\"cmin\":0,\"color\":[0.03572021119668863,0.03572021119668863],\"colorbar\":{\"len\":0.25,\"ticklen\":5,\"ticks\":\"outside\",\"title\":{\"text\":\"2-face \\u03c6_r\"},\"x\":1.1,\"y\":0.25},\"colorscale\":[[0.0,\"rgb(247,251,255)\"],[0.125,\"rgb(222,235,247)\"],[0.25,\"rgb(198,219,239)\"],[0.375,\"rgb(158,202,225)\"],[0.5,\"rgb(107,174,214)\"],[0.625,\"rgb(66,146,198)\"],[0.75,\"rgb(33,113,181)\"],[0.875,\"rgb(8,81,156)\"],[1.0,\"rgb(8,48,107)\"]],\"showscale\":false,\"width\":5},\"mode\":\"lines\",\"name\":\"2-relations\",\"opacity\":0.75,\"showlegend\":false,\"x\":[0.25,0.2500000000000001],\"y\":[0.15000000000000002,-0.85],\"z\":[1.0,0.5],\"type\":\"scatter3d\"},{\"hoverinfo\":\"text\",\"hovertext\":\"2-face\\u003cbr\\u003e&nbsp;&nbsp;&nbsp;&nbsp;P: b\\u003cbr\\u003e&nbsp;&nbsp;&nbsp;&nbsp;\\u03c6: 0.0357202111967\\u003cbr\\u003e&nbsp;&nbsp;&nbsp;&nbsp;Relata:\\u003cbr\\u003e&nbsp;&nbsp;&nbsp;&nbsp;&nbsp;&nbsp;&nbsp;&nbsp;Ab\\u003cbr\\u003e&nbsp;&nbsp;&nbsp;&nbsp;&nbsp;&nbsp;&nbsp;&nbsp;b\",\"legendgroup\":\"2-relations\",\"line\":{\"cmin\":0,\"color\":[0.03572021119668863,0.03572021119668863],\"colorbar\":{\"len\":0.25,\"ticklen\":5,\"ticks\":\"outside\",\"title\":{\"text\":\"2-face \\u03c6_r\"},\"x\":1.1,\"y\":0.25},\"colorscale\":[[0.0,\"rgb(247,251,255)\"],[0.125,\"rgb(222,235,247)\"],[0.25,\"rgb(198,219,239)\"],[0.375,\"rgb(158,202,225)\"],[0.5,\"rgb(107,174,214)\"],[0.625,\"rgb(66,146,198)\"],[0.75,\"rgb(33,113,181)\"],[0.875,\"rgb(8,81,156)\"],[1.0,\"rgb(8,48,107)\"]],\"showscale\":false,\"width\":5},\"mode\":\"lines\",\"name\":\"2-relations\",\"opacity\":0.75,\"showlegend\":false,\"x\":[0.25,-0.2499999999999999],\"y\":[0.15000000000000002,-1.05],\"z\":[1.0,0.5],\"type\":\"scatter3d\"},{\"hoverinfo\":\"text\",\"hovertext\":\"2-face\\u003cbr\\u003e&nbsp;&nbsp;&nbsp;&nbsp;P: A\\u003cbr\\u003e&nbsp;&nbsp;&nbsp;&nbsp;\\u03c6: 0.0714404223934\\u003cbr\\u003e&nbsp;&nbsp;&nbsp;&nbsp;Relata:\\u003cbr\\u003e&nbsp;&nbsp;&nbsp;&nbsp;&nbsp;&nbsp;&nbsp;&nbsp;Ab\\u003cbr\\u003e&nbsp;&nbsp;&nbsp;&nbsp;&nbsp;&nbsp;&nbsp;&nbsp;A\",\"legendgroup\":\"2-relations\",\"line\":{\"cmin\":0,\"color\":[0.07144042239337726,0.07144042239337726],\"colorbar\":{\"len\":0.25,\"ticklen\":5,\"ticks\":\"outside\",\"title\":{\"text\":\"2-face \\u03c6_r\"},\"x\":1.1,\"y\":0.25},\"colorscale\":[[0.0,\"rgb(247,251,255)\"],[0.125,\"rgb(222,235,247)\"],[0.25,\"rgb(198,219,239)\"],[0.375,\"rgb(158,202,225)\"],[0.5,\"rgb(107,174,214)\"],[0.625,\"rgb(66,146,198)\"],[0.75,\"rgb(33,113,181)\"],[0.875,\"rgb(8,81,156)\"],[1.0,\"rgb(8,48,107)\"]],\"showscale\":false,\"width\":5},\"mode\":\"lines\",\"name\":\"2-relations\",\"opacity\":0.75,\"showlegend\":false,\"x\":[0.25,-0.25],\"y\":[0.15000000000000002,1.1500000000000001],\"z\":[1.0,0.5],\"type\":\"scatter3d\"},{\"hoverinfo\":\"text\",\"hovertext\":\"2-face\\u003cbr\\u003e&nbsp;&nbsp;&nbsp;&nbsp;P: b\\u003cbr\\u003e&nbsp;&nbsp;&nbsp;&nbsp;\\u03c6: 0.0714404223934\\u003cbr\\u003e&nbsp;&nbsp;&nbsp;&nbsp;Relata:\\u003cbr\\u003e&nbsp;&nbsp;&nbsp;&nbsp;&nbsp;&nbsp;&nbsp;&nbsp;b\\u003cbr\\u003e&nbsp;&nbsp;&nbsp;&nbsp;&nbsp;&nbsp;&nbsp;&nbsp;Ab\",\"legendgroup\":\"2-relations\",\"line\":{\"cmin\":0,\"color\":[0.07144042239337726,0.07144042239337726],\"colorbar\":{\"len\":0.25,\"ticklen\":5,\"ticks\":\"outside\",\"title\":{\"text\":\"2-face \\u03c6_r\"},\"x\":1.1,\"y\":0.25},\"colorscale\":[[0.0,\"rgb(247,251,255)\"],[0.125,\"rgb(222,235,247)\"],[0.25,\"rgb(198,219,239)\"],[0.375,\"rgb(158,202,225)\"],[0.5,\"rgb(107,174,214)\"],[0.625,\"rgb(66,146,198)\"],[0.75,\"rgb(33,113,181)\"],[0.875,\"rgb(8,81,156)\"],[1.0,\"rgb(8,48,107)\"]],\"showscale\":false,\"width\":5},\"mode\":\"lines\",\"name\":\"2-relations\",\"opacity\":0.75,\"showlegend\":false,\"x\":[-0.2499999999999999,0.25],\"y\":[-1.05,-0.05],\"z\":[0.5,1.0],\"type\":\"scatter3d\"},{\"hoverinfo\":\"text\",\"hovertext\":\"2-face\\u003cbr\\u003e&nbsp;&nbsp;&nbsp;&nbsp;P: Ab\\u003cbr\\u003e&nbsp;&nbsp;&nbsp;&nbsp;\\u03c6: 0.0714404223934\\u003cbr\\u003e&nbsp;&nbsp;&nbsp;&nbsp;Relata:\\u003cbr\\u003e&nbsp;&nbsp;&nbsp;&nbsp;&nbsp;&nbsp;&nbsp;&nbsp;Ab\\u003cbr\\u003e&nbsp;&nbsp;&nbsp;&nbsp;&nbsp;&nbsp;&nbsp;&nbsp;Ab\",\"legendgroup\":\"2-relations\",\"line\":{\"cmin\":0,\"color\":[0.07144042239337726,0.07144042239337726],\"colorbar\":{\"len\":0.25,\"ticklen\":5,\"ticks\":\"outside\",\"title\":{\"text\":\"2-face \\u03c6_r\"},\"x\":1.1,\"y\":0.25},\"colorscale\":[[0.0,\"rgb(247,251,255)\"],[0.125,\"rgb(222,235,247)\"],[0.25,\"rgb(198,219,239)\"],[0.375,\"rgb(158,202,225)\"],[0.5,\"rgb(107,174,214)\"],[0.625,\"rgb(66,146,198)\"],[0.75,\"rgb(33,113,181)\"],[0.875,\"rgb(8,81,156)\"],[1.0,\"rgb(8,48,107)\"]],\"showscale\":false,\"width\":5},\"mode\":\"lines\",\"name\":\"2-relations\",\"opacity\":0.75,\"showlegend\":false,\"x\":[0.25,0.25],\"y\":[0.15000000000000002,-0.05],\"z\":[1.0,1.0],\"type\":\"scatter3d\"},{\"hoverinfo\":\"text\",\"hovertext\":\"2-face\\u003cbr\\u003e&nbsp;&nbsp;&nbsp;&nbsp;P: A\\u003cbr\\u003e&nbsp;&nbsp;&nbsp;&nbsp;\\u03c6: 0.1617970509715\\u003cbr\\u003e&nbsp;&nbsp;&nbsp;&nbsp;Relata:\\u003cbr\\u003e&nbsp;&nbsp;&nbsp;&nbsp;&nbsp;&nbsp;&nbsp;&nbsp;A\\u003cbr\\u003e&nbsp;&nbsp;&nbsp;&nbsp;&nbsp;&nbsp;&nbsp;&nbsp;Ab\",\"legendgroup\":\"2-relations\",\"line\":{\"cmin\":0,\"color\":[0.16179705097146793,0.16179705097146793],\"colorbar\":{\"len\":0.25,\"ticklen\":5,\"ticks\":\"outside\",\"title\":{\"text\":\"2-face \\u03c6_r\"},\"x\":1.1,\"y\":0.25},\"colorscale\":[[0.0,\"rgb(247,251,255)\"],[0.125,\"rgb(222,235,247)\"],[0.25,\"rgb(198,219,239)\"],[0.375,\"rgb(158,202,225)\"],[0.5,\"rgb(107,174,214)\"],[0.625,\"rgb(66,146,198)\"],[0.75,\"rgb(33,113,181)\"],[0.875,\"rgb(8,81,156)\"],[1.0,\"rgb(8,48,107)\"]],\"showscale\":false,\"width\":5},\"mode\":\"lines\",\"name\":\"2-relations\",\"opacity\":0.75,\"showlegend\":false,\"x\":[-0.25,0.25],\"y\":[1.1500000000000001,-0.05],\"z\":[0.5,1.0],\"type\":\"scatter3d\"},{\"hoverinfo\":\"text\",\"hovertext\":\"2-face\\u003cbr\\u003e&nbsp;&nbsp;&nbsp;&nbsp;P: b\\u003cbr\\u003e&nbsp;&nbsp;&nbsp;&nbsp;\\u03c6: 0.1617970509715\\u003cbr\\u003e&nbsp;&nbsp;&nbsp;&nbsp;Relata:\\u003cbr\\u003e&nbsp;&nbsp;&nbsp;&nbsp;&nbsp;&nbsp;&nbsp;&nbsp;b\\u003cbr\\u003e&nbsp;&nbsp;&nbsp;&nbsp;&nbsp;&nbsp;&nbsp;&nbsp;Ab\",\"legendgroup\":\"2-relations\",\"line\":{\"cmin\":0,\"color\":[0.16179705097146793,0.16179705097146793],\"colorbar\":{\"len\":0.25,\"ticklen\":5,\"ticks\":\"outside\",\"title\":{\"text\":\"2-face \\u03c6_r\"},\"x\":1.1,\"y\":0.25},\"colorscale\":[[0.0,\"rgb(247,251,255)\"],[0.125,\"rgb(222,235,247)\"],[0.25,\"rgb(198,219,239)\"],[0.375,\"rgb(158,202,225)\"],[0.5,\"rgb(107,174,214)\"],[0.625,\"rgb(66,146,198)\"],[0.75,\"rgb(33,113,181)\"],[0.875,\"rgb(8,81,156)\"],[1.0,\"rgb(8,48,107)\"]],\"showscale\":false,\"width\":5},\"mode\":\"lines\",\"name\":\"2-relations\",\"opacity\":0.75,\"showlegend\":false,\"x\":[0.2500000000000001,0.25],\"y\":[-0.85,-0.05],\"z\":[0.5,1.0],\"type\":\"scatter3d\"},{\"hoverinfo\":\"text\",\"hovertext\":\"2-face\\u003cbr\\u003e&nbsp;&nbsp;&nbsp;&nbsp;P: b\\u003cbr\\u003e&nbsp;&nbsp;&nbsp;&nbsp;\\u03c6: 0.1617970509715\\u003cbr\\u003e&nbsp;&nbsp;&nbsp;&nbsp;Relata:\\u003cbr\\u003e&nbsp;&nbsp;&nbsp;&nbsp;&nbsp;&nbsp;&nbsp;&nbsp;b\\u003cbr\\u003e&nbsp;&nbsp;&nbsp;&nbsp;&nbsp;&nbsp;&nbsp;&nbsp;Ab\",\"legendgroup\":\"2-relations\",\"line\":{\"cmin\":0,\"color\":[0.16179705097146793,0.16179705097146793],\"colorbar\":{\"len\":0.25,\"ticklen\":5,\"ticks\":\"outside\",\"title\":{\"text\":\"2-face \\u03c6_r\"},\"x\":1.1,\"y\":0.25},\"colorscale\":[[0.0,\"rgb(247,251,255)\"],[0.125,\"rgb(222,235,247)\"],[0.25,\"rgb(198,219,239)\"],[0.375,\"rgb(158,202,225)\"],[0.5,\"rgb(107,174,214)\"],[0.625,\"rgb(66,146,198)\"],[0.75,\"rgb(33,113,181)\"],[0.875,\"rgb(8,81,156)\"],[1.0,\"rgb(8,48,107)\"]],\"showscale\":false,\"width\":5},\"mode\":\"lines\",\"name\":\"2-relations\",\"opacity\":0.75,\"showlegend\":false,\"x\":[-0.2499999999999999,0.25],\"y\":[-0.85,-0.05],\"z\":[0.5,1.0],\"type\":\"scatter3d\"},{\"hoverinfo\":\"text\",\"hovertext\":\"2-face\\u003cbr\\u003e&nbsp;&nbsp;&nbsp;&nbsp;P: b\\u003cbr\\u003e&nbsp;&nbsp;&nbsp;&nbsp;\\u03c6: 0.3327283938209\\u003cbr\\u003e&nbsp;&nbsp;&nbsp;&nbsp;Relata:\\u003cbr\\u003e&nbsp;&nbsp;&nbsp;&nbsp;&nbsp;&nbsp;&nbsp;&nbsp;b\\u003cbr\\u003e&nbsp;&nbsp;&nbsp;&nbsp;&nbsp;&nbsp;&nbsp;&nbsp;b\",\"legendgroup\":\"2-relations\",\"line\":{\"cmin\":0,\"color\":[0.33272839382093894,0.33272839382093894],\"colorbar\":{\"len\":0.25,\"ticklen\":5,\"ticks\":\"outside\",\"title\":{\"text\":\"2-face \\u03c6_r\"},\"x\":1.1,\"y\":0.25},\"colorscale\":[[0.0,\"rgb(247,251,255)\"],[0.125,\"rgb(222,235,247)\"],[0.25,\"rgb(198,219,239)\"],[0.375,\"rgb(158,202,225)\"],[0.5,\"rgb(107,174,214)\"],[0.625,\"rgb(66,146,198)\"],[0.75,\"rgb(33,113,181)\"],[0.875,\"rgb(8,81,156)\"],[1.0,\"rgb(8,48,107)\"]],\"showscale\":false,\"width\":5},\"mode\":\"lines\",\"name\":\"2-relations\",\"opacity\":0.75,\"showlegend\":false,\"x\":[-0.2499999999999999,0.2500000000000001],\"y\":[-0.85,-0.85],\"z\":[0.5,0.5],\"type\":\"scatter3d\"},{\"cmin\":0,\"colorbar\":{\"len\":0.25,\"ticklen\":5,\"ticks\":\"outside\",\"title\":{\"text\":\"3-face \\u03c6_r\"},\"x\":1.1,\"y\":0.0},\"colorscale\":[[0.0,\"rgb(247,251,255)\"],[0.125,\"rgb(222,235,247)\"],[0.25,\"rgb(198,219,239)\"],[0.375,\"rgb(158,202,225)\"],[0.5,\"rgb(107,174,214)\"],[0.625,\"rgb(66,146,198)\"],[0.75,\"rgb(33,113,181)\"],[0.875,\"rgb(8,81,156)\"],[1.0,\"rgb(8,48,107)\"]],\"hovertext\":\"3-face\\u003cbr\\u003e&nbsp;&nbsp;&nbsp;&nbsp;P: b\\u003cbr\\u003e&nbsp;&nbsp;&nbsp;&nbsp;\\u03c6: 0.0357202111967\\u003cbr\\u003e&nbsp;&nbsp;&nbsp;&nbsp;Relata:\\u003cbr\\u003e&nbsp;&nbsp;&nbsp;&nbsp;&nbsp;&nbsp;&nbsp;&nbsp;Ab\\u003cbr\\u003e&nbsp;&nbsp;&nbsp;&nbsp;&nbsp;&nbsp;&nbsp;&nbsp;b\\u003cbr\\u003e&nbsp;&nbsp;&nbsp;&nbsp;&nbsp;&nbsp;&nbsp;&nbsp;b\",\"i\":[0],\"intensity\":[0.0],\"intensitymode\":\"cell\",\"j\":[1],\"k\":[2],\"legendgroup\":\"3-relations\",\"lighting\":{\"ambient\":0.8,\"diffuse\":0,\"fresnel\":0,\"roughness\":0,\"specular\":0},\"name\":\"3-relations\",\"opacity\":0.1,\"showlegend\":true,\"showscale\":true,\"x\":[0.25,-0.2499999999999999,-0.2499999999999999],\"y\":[0.15000000000000002,-0.85,-1.05],\"z\":[1.0,0.5,0.5],\"type\":\"mesh3d\"},{\"cmin\":0,\"colorbar\":{\"len\":0.25,\"ticklen\":5,\"ticks\":\"outside\",\"title\":{\"text\":\"3-face \\u03c6_r\"},\"x\":1.1,\"y\":0.0},\"colorscale\":[[0.0,\"rgb(247,251,255)\"],[0.125,\"rgb(222,235,247)\"],[0.25,\"rgb(198,219,239)\"],[0.375,\"rgb(158,202,225)\"],[0.5,\"rgb(107,174,214)\"],[0.625,\"rgb(66,146,198)\"],[0.75,\"rgb(33,113,181)\"],[0.875,\"rgb(8,81,156)\"],[1.0,\"rgb(8,48,107)\"]],\"hovertext\":\"3-face\\u003cbr\\u003e&nbsp;&nbsp;&nbsp;&nbsp;P: b\\u003cbr\\u003e&nbsp;&nbsp;&nbsp;&nbsp;\\u03c6: 0.0357202111967\\u003cbr\\u003e&nbsp;&nbsp;&nbsp;&nbsp;Relata:\\u003cbr\\u003e&nbsp;&nbsp;&nbsp;&nbsp;&nbsp;&nbsp;&nbsp;&nbsp;Ab\\u003cbr\\u003e&nbsp;&nbsp;&nbsp;&nbsp;&nbsp;&nbsp;&nbsp;&nbsp;b\\u003cbr\\u003e&nbsp;&nbsp;&nbsp;&nbsp;&nbsp;&nbsp;&nbsp;&nbsp;b\",\"i\":[0],\"intensity\":[0.0],\"intensitymode\":\"cell\",\"j\":[1],\"k\":[2],\"legendgroup\":\"3-relations\",\"lighting\":{\"ambient\":0.8,\"diffuse\":0,\"fresnel\":0,\"roughness\":0,\"specular\":0},\"name\":\"3-relations\",\"opacity\":0.1,\"showlegend\":false,\"showscale\":false,\"x\":[0.25,0.2500000000000001,-0.2499999999999999],\"y\":[0.15000000000000002,-0.85,-0.85],\"z\":[1.0,0.5,0.5],\"type\":\"mesh3d\"},{\"cmin\":0,\"colorbar\":{\"len\":0.25,\"ticklen\":5,\"ticks\":\"outside\",\"title\":{\"text\":\"3-face \\u03c6_r\"},\"x\":1.1,\"y\":0.0},\"colorscale\":[[0.0,\"rgb(247,251,255)\"],[0.125,\"rgb(222,235,247)\"],[0.25,\"rgb(198,219,239)\"],[0.375,\"rgb(158,202,225)\"],[0.5,\"rgb(107,174,214)\"],[0.625,\"rgb(66,146,198)\"],[0.75,\"rgb(33,113,181)\"],[0.875,\"rgb(8,81,156)\"],[1.0,\"rgb(8,48,107)\"]],\"hovertext\":\"3-face\\u003cbr\\u003e&nbsp;&nbsp;&nbsp;&nbsp;P: b\\u003cbr\\u003e&nbsp;&nbsp;&nbsp;&nbsp;\\u03c6: 0.0357202111967\\u003cbr\\u003e&nbsp;&nbsp;&nbsp;&nbsp;Relata:\\u003cbr\\u003e&nbsp;&nbsp;&nbsp;&nbsp;&nbsp;&nbsp;&nbsp;&nbsp;Ab\\u003cbr\\u003e&nbsp;&nbsp;&nbsp;&nbsp;&nbsp;&nbsp;&nbsp;&nbsp;b\\u003cbr\\u003e&nbsp;&nbsp;&nbsp;&nbsp;&nbsp;&nbsp;&nbsp;&nbsp;b\",\"i\":[0],\"intensity\":[0.0],\"intensitymode\":\"cell\",\"j\":[1],\"k\":[2],\"legendgroup\":\"3-relations\",\"lighting\":{\"ambient\":0.8,\"diffuse\":0,\"fresnel\":0,\"roughness\":0,\"specular\":0},\"name\":\"3-relations\",\"opacity\":0.1,\"showlegend\":false,\"showscale\":false,\"x\":[0.25,0.2500000000000001,-0.2499999999999999],\"y\":[0.15000000000000002,-0.85,-1.05],\"z\":[1.0,0.5,0.5],\"type\":\"mesh3d\"},{\"cmin\":0,\"colorbar\":{\"len\":0.25,\"ticklen\":5,\"ticks\":\"outside\",\"title\":{\"text\":\"3-face \\u03c6_r\"},\"x\":1.1,\"y\":0.0},\"colorscale\":[[0.0,\"rgb(247,251,255)\"],[0.125,\"rgb(222,235,247)\"],[0.25,\"rgb(198,219,239)\"],[0.375,\"rgb(158,202,225)\"],[0.5,\"rgb(107,174,214)\"],[0.625,\"rgb(66,146,198)\"],[0.75,\"rgb(33,113,181)\"],[0.875,\"rgb(8,81,156)\"],[1.0,\"rgb(8,48,107)\"]],\"hovertext\":\"3-face\\u003cbr\\u003e&nbsp;&nbsp;&nbsp;&nbsp;P: b\\u003cbr\\u003e&nbsp;&nbsp;&nbsp;&nbsp;\\u03c6: 0.0357202111967\\u003cbr\\u003e&nbsp;&nbsp;&nbsp;&nbsp;Relata:\\u003cbr\\u003e&nbsp;&nbsp;&nbsp;&nbsp;&nbsp;&nbsp;&nbsp;&nbsp;b\\u003cbr\\u003e&nbsp;&nbsp;&nbsp;&nbsp;&nbsp;&nbsp;&nbsp;&nbsp;b\\u003cbr\\u003e&nbsp;&nbsp;&nbsp;&nbsp;&nbsp;&nbsp;&nbsp;&nbsp;b\",\"i\":[0],\"intensity\":[0.0],\"intensitymode\":\"cell\",\"j\":[1],\"k\":[2],\"legendgroup\":\"3-relations\",\"lighting\":{\"ambient\":0.8,\"diffuse\":0,\"fresnel\":0,\"roughness\":0,\"specular\":0},\"name\":\"3-relations\",\"opacity\":0.1,\"showlegend\":false,\"showscale\":false,\"x\":[-0.2499999999999999,0.2500000000000001,-0.2499999999999999],\"y\":[-0.85,-0.85,-1.05],\"z\":[0.5,0.5,0.5],\"type\":\"mesh3d\"},{\"cmin\":0,\"colorbar\":{\"len\":0.25,\"ticklen\":5,\"ticks\":\"outside\",\"title\":{\"text\":\"3-face \\u03c6_r\"},\"x\":1.1,\"y\":0.0},\"colorscale\":[[0.0,\"rgb(247,251,255)\"],[0.125,\"rgb(222,235,247)\"],[0.25,\"rgb(198,219,239)\"],[0.375,\"rgb(158,202,225)\"],[0.5,\"rgb(107,174,214)\"],[0.625,\"rgb(66,146,198)\"],[0.75,\"rgb(33,113,181)\"],[0.875,\"rgb(8,81,156)\"],[1.0,\"rgb(8,48,107)\"]],\"hovertext\":\"3-face\\u003cbr\\u003e&nbsp;&nbsp;&nbsp;&nbsp;P: b\\u003cbr\\u003e&nbsp;&nbsp;&nbsp;&nbsp;\\u03c6: 0.0357202111967\\u003cbr\\u003e&nbsp;&nbsp;&nbsp;&nbsp;Relata:\\u003cbr\\u003e&nbsp;&nbsp;&nbsp;&nbsp;&nbsp;&nbsp;&nbsp;&nbsp;b\\u003cbr\\u003e&nbsp;&nbsp;&nbsp;&nbsp;&nbsp;&nbsp;&nbsp;&nbsp;b\\u003cbr\\u003e&nbsp;&nbsp;&nbsp;&nbsp;&nbsp;&nbsp;&nbsp;&nbsp;Ab\",\"i\":[0],\"intensity\":[0.0],\"intensitymode\":\"cell\",\"j\":[1],\"k\":[2],\"legendgroup\":\"3-relations\",\"lighting\":{\"ambient\":0.8,\"diffuse\":0,\"fresnel\":0,\"roughness\":0,\"specular\":0},\"name\":\"3-relations\",\"opacity\":0.1,\"showlegend\":false,\"showscale\":false,\"x\":[-0.2499999999999999,-0.2499999999999999,0.25],\"y\":[-0.85,-1.05,-0.05],\"z\":[0.5,0.5,1.0],\"type\":\"mesh3d\"},{\"cmin\":0,\"colorbar\":{\"len\":0.25,\"ticklen\":5,\"ticks\":\"outside\",\"title\":{\"text\":\"3-face \\u03c6_r\"},\"x\":1.1,\"y\":0.0},\"colorscale\":[[0.0,\"rgb(247,251,255)\"],[0.125,\"rgb(222,235,247)\"],[0.25,\"rgb(198,219,239)\"],[0.375,\"rgb(158,202,225)\"],[0.5,\"rgb(107,174,214)\"],[0.625,\"rgb(66,146,198)\"],[0.75,\"rgb(33,113,181)\"],[0.875,\"rgb(8,81,156)\"],[1.0,\"rgb(8,48,107)\"]],\"hovertext\":\"3-face\\u003cbr\\u003e&nbsp;&nbsp;&nbsp;&nbsp;P: b\\u003cbr\\u003e&nbsp;&nbsp;&nbsp;&nbsp;\\u03c6: 0.0357202111967\\u003cbr\\u003e&nbsp;&nbsp;&nbsp;&nbsp;Relata:\\u003cbr\\u003e&nbsp;&nbsp;&nbsp;&nbsp;&nbsp;&nbsp;&nbsp;&nbsp;Ab\\u003cbr\\u003e&nbsp;&nbsp;&nbsp;&nbsp;&nbsp;&nbsp;&nbsp;&nbsp;b\\u003cbr\\u003e&nbsp;&nbsp;&nbsp;&nbsp;&nbsp;&nbsp;&nbsp;&nbsp;Ab\",\"i\":[0],\"intensity\":[0.0],\"intensitymode\":\"cell\",\"j\":[1],\"k\":[2],\"legendgroup\":\"3-relations\",\"lighting\":{\"ambient\":0.8,\"diffuse\":0,\"fresnel\":0,\"roughness\":0,\"specular\":0},\"name\":\"3-relations\",\"opacity\":0.1,\"showlegend\":false,\"showscale\":false,\"x\":[0.25,0.2500000000000001,0.25],\"y\":[0.15000000000000002,-0.85,-0.05],\"z\":[1.0,0.5,1.0],\"type\":\"mesh3d\"},{\"cmin\":0,\"colorbar\":{\"len\":0.25,\"ticklen\":5,\"ticks\":\"outside\",\"title\":{\"text\":\"3-face \\u03c6_r\"},\"x\":1.1,\"y\":0.0},\"colorscale\":[[0.0,\"rgb(247,251,255)\"],[0.125,\"rgb(222,235,247)\"],[0.25,\"rgb(198,219,239)\"],[0.375,\"rgb(158,202,225)\"],[0.5,\"rgb(107,174,214)\"],[0.625,\"rgb(66,146,198)\"],[0.75,\"rgb(33,113,181)\"],[0.875,\"rgb(8,81,156)\"],[1.0,\"rgb(8,48,107)\"]],\"hovertext\":\"3-face\\u003cbr\\u003e&nbsp;&nbsp;&nbsp;&nbsp;P: b\\u003cbr\\u003e&nbsp;&nbsp;&nbsp;&nbsp;\\u03c6: 0.0357202111967\\u003cbr\\u003e&nbsp;&nbsp;&nbsp;&nbsp;Relata:\\u003cbr\\u003e&nbsp;&nbsp;&nbsp;&nbsp;&nbsp;&nbsp;&nbsp;&nbsp;b\\u003cbr\\u003e&nbsp;&nbsp;&nbsp;&nbsp;&nbsp;&nbsp;&nbsp;&nbsp;b\\u003cbr\\u003e&nbsp;&nbsp;&nbsp;&nbsp;&nbsp;&nbsp;&nbsp;&nbsp;Ab\",\"i\":[0],\"intensity\":[0.0],\"intensitymode\":\"cell\",\"j\":[1],\"k\":[2],\"legendgroup\":\"3-relations\",\"lighting\":{\"ambient\":0.8,\"diffuse\":0,\"fresnel\":0,\"roughness\":0,\"specular\":0},\"name\":\"3-relations\",\"opacity\":0.1,\"showlegend\":false,\"showscale\":false,\"x\":[0.2500000000000001,-0.2499999999999999,0.25],\"y\":[-0.85,-1.05,-0.05],\"z\":[0.5,0.5,1.0],\"type\":\"mesh3d\"},{\"cmin\":0,\"colorbar\":{\"len\":0.25,\"ticklen\":5,\"ticks\":\"outside\",\"title\":{\"text\":\"3-face \\u03c6_r\"},\"x\":1.1,\"y\":0.0},\"colorscale\":[[0.0,\"rgb(247,251,255)\"],[0.125,\"rgb(222,235,247)\"],[0.25,\"rgb(198,219,239)\"],[0.375,\"rgb(158,202,225)\"],[0.5,\"rgb(107,174,214)\"],[0.625,\"rgb(66,146,198)\"],[0.75,\"rgb(33,113,181)\"],[0.875,\"rgb(8,81,156)\"],[1.0,\"rgb(8,48,107)\"]],\"hovertext\":\"3-face\\u003cbr\\u003e&nbsp;&nbsp;&nbsp;&nbsp;P: b\\u003cbr\\u003e&nbsp;&nbsp;&nbsp;&nbsp;\\u03c6: 0.0357202111967\\u003cbr\\u003e&nbsp;&nbsp;&nbsp;&nbsp;Relata:\\u003cbr\\u003e&nbsp;&nbsp;&nbsp;&nbsp;&nbsp;&nbsp;&nbsp;&nbsp;Ab\\u003cbr\\u003e&nbsp;&nbsp;&nbsp;&nbsp;&nbsp;&nbsp;&nbsp;&nbsp;b\\u003cbr\\u003e&nbsp;&nbsp;&nbsp;&nbsp;&nbsp;&nbsp;&nbsp;&nbsp;Ab\",\"i\":[0],\"intensity\":[0.0],\"intensitymode\":\"cell\",\"j\":[1],\"k\":[2],\"legendgroup\":\"3-relations\",\"lighting\":{\"ambient\":0.8,\"diffuse\":0,\"fresnel\":0,\"roughness\":0,\"specular\":0},\"name\":\"3-relations\",\"opacity\":0.1,\"showlegend\":false,\"showscale\":false,\"x\":[0.25,-0.2499999999999999,0.25],\"y\":[0.15000000000000002,-0.85,-0.05],\"z\":[1.0,0.5,1.0],\"type\":\"mesh3d\"},{\"cmin\":0,\"colorbar\":{\"len\":0.25,\"ticklen\":5,\"ticks\":\"outside\",\"title\":{\"text\":\"3-face \\u03c6_r\"},\"x\":1.1,\"y\":0.0},\"colorscale\":[[0.0,\"rgb(247,251,255)\"],[0.125,\"rgb(222,235,247)\"],[0.25,\"rgb(198,219,239)\"],[0.375,\"rgb(158,202,225)\"],[0.5,\"rgb(107,174,214)\"],[0.625,\"rgb(66,146,198)\"],[0.75,\"rgb(33,113,181)\"],[0.875,\"rgb(8,81,156)\"],[1.0,\"rgb(8,48,107)\"]],\"hovertext\":\"3-face\\u003cbr\\u003e&nbsp;&nbsp;&nbsp;&nbsp;P: A\\u003cbr\\u003e&nbsp;&nbsp;&nbsp;&nbsp;\\u03c6: 0.0714404223934\\u003cbr\\u003e&nbsp;&nbsp;&nbsp;&nbsp;Relata:\\u003cbr\\u003e&nbsp;&nbsp;&nbsp;&nbsp;&nbsp;&nbsp;&nbsp;&nbsp;Ab\\u003cbr\\u003e&nbsp;&nbsp;&nbsp;&nbsp;&nbsp;&nbsp;&nbsp;&nbsp;A\\u003cbr\\u003e&nbsp;&nbsp;&nbsp;&nbsp;&nbsp;&nbsp;&nbsp;&nbsp;Ab\",\"i\":[0],\"intensity\":[0.2833209593490635],\"intensitymode\":\"cell\",\"j\":[1],\"k\":[2],\"legendgroup\":\"3-relations\",\"lighting\":{\"ambient\":0.8,\"diffuse\":0,\"fresnel\":0,\"roughness\":0,\"specular\":0},\"name\":\"3-relations\",\"opacity\":0.1,\"showlegend\":false,\"showscale\":false,\"x\":[0.25,-0.25,0.25],\"y\":[0.15000000000000002,1.1500000000000001,-0.05],\"z\":[1.0,0.5,1.0],\"type\":\"mesh3d\"},{\"cmin\":0,\"colorbar\":{\"len\":0.25,\"ticklen\":5,\"ticks\":\"outside\",\"title\":{\"text\":\"3-face \\u03c6_r\"},\"x\":1.1,\"y\":0.0},\"colorscale\":[[0.0,\"rgb(247,251,255)\"],[0.125,\"rgb(222,235,247)\"],[0.25,\"rgb(198,219,239)\"],[0.375,\"rgb(158,202,225)\"],[0.5,\"rgb(107,174,214)\"],[0.625,\"rgb(66,146,198)\"],[0.75,\"rgb(33,113,181)\"],[0.875,\"rgb(8,81,156)\"],[1.0,\"rgb(8,48,107)\"]],\"hovertext\":\"3-face\\u003cbr\\u003e&nbsp;&nbsp;&nbsp;&nbsp;P: b\\u003cbr\\u003e&nbsp;&nbsp;&nbsp;&nbsp;\\u03c6: 0.0714404223934\\u003cbr\\u003e&nbsp;&nbsp;&nbsp;&nbsp;Relata:\\u003cbr\\u003e&nbsp;&nbsp;&nbsp;&nbsp;&nbsp;&nbsp;&nbsp;&nbsp;Ab\\u003cbr\\u003e&nbsp;&nbsp;&nbsp;&nbsp;&nbsp;&nbsp;&nbsp;&nbsp;b\\u003cbr\\u003e&nbsp;&nbsp;&nbsp;&nbsp;&nbsp;&nbsp;&nbsp;&nbsp;Ab\",\"i\":[0],\"intensity\":[0.2833209593490635],\"intensitymode\":\"cell\",\"j\":[1],\"k\":[2],\"legendgroup\":\"3-relations\",\"lighting\":{\"ambient\":0.8,\"diffuse\":0,\"fresnel\":0,\"roughness\":0,\"specular\":0},\"name\":\"3-relations\",\"opacity\":0.1,\"showlegend\":false,\"showscale\":false,\"x\":[0.25,-0.2499999999999999,0.25],\"y\":[0.15000000000000002,-1.05,-0.05],\"z\":[1.0,0.5,1.0],\"type\":\"mesh3d\"},{\"cmin\":0,\"colorbar\":{\"len\":0.25,\"ticklen\":5,\"ticks\":\"outside\",\"title\":{\"text\":\"3-face \\u03c6_r\"},\"x\":1.1,\"y\":0.0},\"colorscale\":[[0.0,\"rgb(247,251,255)\"],[0.125,\"rgb(222,235,247)\"],[0.25,\"rgb(198,219,239)\"],[0.375,\"rgb(158,202,225)\"],[0.5,\"rgb(107,174,214)\"],[0.625,\"rgb(66,146,198)\"],[0.75,\"rgb(33,113,181)\"],[0.875,\"rgb(8,81,156)\"],[1.0,\"rgb(8,48,107)\"]],\"hovertext\":\"3-face\\u003cbr\\u003e&nbsp;&nbsp;&nbsp;&nbsp;P: b\\u003cbr\\u003e&nbsp;&nbsp;&nbsp;&nbsp;\\u03c6: 0.1617970509715\\u003cbr\\u003e&nbsp;&nbsp;&nbsp;&nbsp;Relata:\\u003cbr\\u003e&nbsp;&nbsp;&nbsp;&nbsp;&nbsp;&nbsp;&nbsp;&nbsp;b\\u003cbr\\u003e&nbsp;&nbsp;&nbsp;&nbsp;&nbsp;&nbsp;&nbsp;&nbsp;b\\u003cbr\\u003e&nbsp;&nbsp;&nbsp;&nbsp;&nbsp;&nbsp;&nbsp;&nbsp;Ab\",\"i\":[0],\"intensity\":[1.0],\"intensitymode\":\"cell\",\"j\":[1],\"k\":[2],\"legendgroup\":\"3-relations\",\"lighting\":{\"ambient\":0.8,\"diffuse\":0,\"fresnel\":0,\"roughness\":0,\"specular\":0},\"name\":\"3-relations\",\"opacity\":0.1,\"showlegend\":false,\"showscale\":false,\"x\":[-0.2499999999999999,0.2500000000000001,0.25],\"y\":[-0.85,-0.85,-0.05],\"z\":[0.5,0.5,1.0],\"type\":\"mesh3d\"},{\"hoverinfo\":\"skip\",\"legendgroup\":\"Cause-effect links\",\"line\":{\"color\":[\"#8D3D00\",\"#006146\"],\"width\":5},\"mode\":\"lines\",\"name\":\"Cause-effect links\",\"opacity\":0.25,\"showlegend\":true,\"x\":[-0.2499999999999999,0.2500000000000001],\"y\":[-0.85,-0.85],\"z\":[0.5,0.5],\"type\":\"scatter3d\"},{\"hoverinfo\":\"skip\",\"legendgroup\":\"Cause-effect links\",\"line\":{\"color\":[\"#8D3D00\",\"#006146\"],\"width\":5},\"mode\":\"lines\",\"name\":\"Cause-effect links\",\"opacity\":0.25,\"showlegend\":false,\"x\":[-0.25,0.25],\"y\":[1.1500000000000001,-0.05],\"z\":[0.5,1.0],\"type\":\"scatter3d\"},{\"hoverinfo\":\"skip\",\"legendgroup\":\"Cause-effect links\",\"line\":{\"color\":[\"#8D3D00\",\"#006146\"],\"width\":5},\"mode\":\"lines\",\"name\":\"Cause-effect links\",\"opacity\":0.25,\"showlegend\":false,\"x\":[-0.2499999999999999,0.25],\"y\":[-1.05,0.15000000000000002],\"z\":[0.5,1.0],\"type\":\"scatter3d\"},{\"hoverinfo\":\"skip\",\"legendgroup\":\"Mechanism-purview links\",\"line\":{\"color\":[[0.5529411764705883,0.23921568627450981,0.0],[0.27647058823529413,0.30980392156862746,0.13725490196078433],[0.0,0.3803921568627451,0.27450980392156865]],\"width\":20.0},\"mode\":\"lines\",\"name\":\"Mechanism-purview links\",\"opacity\":0.25,\"showlegend\":true,\"x\":[-0.2499999999999999,0.0,0.2500000000000001],\"y\":[-0.85,1.0,-0.85],\"z\":[0.5,0.0,0.5],\"type\":\"scatter3d\"},{\"hoverinfo\":\"skip\",\"legendgroup\":\"Mechanism-purview links\",\"line\":{\"color\":[[0.5529411764705883,0.23921568627450981,0.0],[0.27647058823529413,0.30980392156862746,0.13725490196078433],[0.0,0.3803921568627451,0.27450980392156865]],\"width\":19.33578440395151},\"mode\":\"lines\",\"name\":\"Mechanism-purview links\",\"opacity\":0.25,\"showlegend\":false,\"x\":[-0.25,1.2246467991473532e-16,0.25],\"y\":[1.1500000000000001,-1.0,-0.05],\"z\":[0.5,0.0,1.0],\"type\":\"scatter3d\"},{\"hoverinfo\":\"skip\",\"legendgroup\":\"Mechanism-purview links\",\"line\":{\"color\":[[0.5529411764705883,0.23921568627450981,0.0],[0.27647058823529413,0.30980392156862746,0.13725490196078433],[0.0,0.3803921568627451,0.27450980392156865]],\"width\":1.0},\"mode\":\"lines\",\"name\":\"Mechanism-purview links\",\"opacity\":0.25,\"showlegend\":false,\"x\":[-0.2499999999999999,0.0,0.25],\"y\":[-1.05,0.0,0.15000000000000002],\"z\":[0.5,0.0,1.0],\"type\":\"scatter3d\"},{\"hoverinfo\":\"skip\",\"legendgroup\":\"Mechanisms\",\"marker\":{\"opacity\":0.75,\"size\":[30.0,29.126032110462514,5.0]},\"mode\":\"text\",\"name\":\"Mechanisms\",\"opacity\":1,\"showlegend\":true,\"text\":[\"a\",\"B\",\"aB\"],\"textfont\":{\"family\":\"Roboto Mono, MesloLGS NF, Menlo\",\"size\":20},\"textposition\":\"middle center\",\"x\":[0.0,1.2246467991473532e-16,0.0],\"y\":[1.0,-1.0,0.0],\"z\":[0.0,0.0,0.0],\"type\":\"scatter3d\"},{\"hoverinfo\":\"text\",\"hoverlabel\":{\"bgcolor\":\"#8D3D00\"},\"hovertext\":[\"Distinction (CAUSE)\\u003cbr\\u003e&nbsp;&nbsp;&nbsp;&nbsp;M: a\\u003cbr\\u003e&nbsp;&nbsp;&nbsp;&nbsp;P: b\\u003cbr\\u003e&nbsp;&nbsp;&nbsp;&nbsp;\\u03c6: 0.8258578730384\\u003cbr\\u003e&nbsp;&nbsp;&nbsp;&nbsp;S: 0\",\"Distinction (CAUSE)\\u003cbr\\u003e&nbsp;&nbsp;&nbsp;&nbsp;M: B\\u003cbr\\u003e&nbsp;&nbsp;&nbsp;&nbsp;P: A\\u003cbr\\u003e&nbsp;&nbsp;&nbsp;&nbsp;\\u03c6: 0.3235941019429\\u003cbr\\u003e&nbsp;&nbsp;&nbsp;&nbsp;S: 1\",\"Distinction (CAUSE)\\u003cbr\\u003e&nbsp;&nbsp;&nbsp;&nbsp;M: aB\\u003cbr\\u003e&nbsp;&nbsp;&nbsp;&nbsp;P: b\\u003cbr\\u003e&nbsp;&nbsp;&nbsp;&nbsp;\\u03c6: 0.2179432497616\\u003cbr\\u003e&nbsp;&nbsp;&nbsp;&nbsp;S: 0\"],\"marker\":{\"cmin\":0,\"color\":[0.33272839382093894,0.32359410194293586,0.07144042239337726],\"colorbar\":{\"len\":0.25,\"ticklen\":5,\"ticks\":\"outside\",\"title\":{\"text\":\"\\u03c6_d\"},\"x\":1.1,\"y\":0.5},\"colorscale\":[[0.0,\"rgb(247,251,255)\"],[0.125,\"rgb(222,235,247)\"],[0.25,\"rgb(198,219,239)\"],[0.375,\"rgb(158,202,225)\"],[0.5,\"rgb(107,174,214)\"],[0.625,\"rgb(66,146,198)\"],[0.75,\"rgb(33,113,181)\"],[0.875,\"rgb(8,81,156)\"],[1.0,\"rgb(8,48,107)\"]],\"opacity\":0.75,\"showscale\":true,\"size\":[30.0,29.126032110462514,5.0],\"symbol\":\"circle\"},\"mode\":\"text+markers\",\"name\":\"CAUSE distinctions\",\"showlegend\":true,\"text\":[\"b\",\"A\",\"b\"],\"textfont\":{\"color\":\"#8D3D00\",\"family\":\"Roboto Mono, MesloLGS NF, Menlo\",\"size\":20},\"textposition\":\"middle center\",\"x\":[-0.2499999999999999,-0.25,-0.2499999999999999],\"y\":[-0.85,1.1500000000000001,-1.05],\"z\":[0.5,0.5,0.5],\"type\":\"scatter3d\"},{\"hoverinfo\":\"text\",\"hoverlabel\":{\"bgcolor\":\"#006146\"},\"hovertext\":[\"Distinction (EFFECT)\\u003cbr\\u003e&nbsp;&nbsp;&nbsp;&nbsp;M: a\\u003cbr\\u003e&nbsp;&nbsp;&nbsp;&nbsp;P: b\\u003cbr\\u003e&nbsp;&nbsp;&nbsp;&nbsp;\\u03c6: 0.3327283938209\\u003cbr\\u003e&nbsp;&nbsp;&nbsp;&nbsp;S: 0\",\"Distinction (EFFECT)\\u003cbr\\u003e&nbsp;&nbsp;&nbsp;&nbsp;M: B\\u003cbr\\u003e&nbsp;&nbsp;&nbsp;&nbsp;P: Ab\\u003cbr\\u003e&nbsp;&nbsp;&nbsp;&nbsp;\\u03c6: 0.8610947331063\\u003cbr\\u003e&nbsp;&nbsp;&nbsp;&nbsp;S: 1,0\",\"Distinction (EFFECT)\\u003cbr\\u003e&nbsp;&nbsp;&nbsp;&nbsp;M: aB\\u003cbr\\u003e&nbsp;&nbsp;&nbsp;&nbsp;P: Ab\\u003cbr\\u003e&nbsp;&nbsp;&nbsp;&nbsp;\\u03c6: 0.0714404223934\\u003cbr\\u003e&nbsp;&nbsp;&nbsp;&nbsp;S: 1,0\"],\"marker\":{\"cmin\":0,\"color\":[0.33272839382093894,0.32359410194293586,0.07144042239337726],\"colorbar\":{\"len\":0.25,\"ticklen\":5,\"ticks\":\"outside\",\"title\":{\"text\":\"\\u03c6_d\"},\"x\":1.1,\"y\":0.5},\"colorscale\":[[0.0,\"rgb(247,251,255)\"],[0.125,\"rgb(222,235,247)\"],[0.25,\"rgb(198,219,239)\"],[0.375,\"rgb(158,202,225)\"],[0.5,\"rgb(107,174,214)\"],[0.625,\"rgb(66,146,198)\"],[0.75,\"rgb(33,113,181)\"],[0.875,\"rgb(8,81,156)\"],[1.0,\"rgb(8,48,107)\"]],\"opacity\":0.75,\"showscale\":false,\"size\":[30.0,29.126032110462514,5.0],\"symbol\":\"circle\"},\"mode\":\"text+markers\",\"name\":\"EFFECT distinctions\",\"showlegend\":true,\"text\":[\"b\",\"Ab\",\"Ab\"],\"textfont\":{\"color\":\"#006146\",\"family\":\"Roboto Mono, MesloLGS NF, Menlo\",\"size\":20},\"textposition\":\"middle center\",\"x\":[0.2500000000000001,0.25,0.25],\"y\":[-0.85,-0.05,0.15000000000000002],\"z\":[0.5,1.0,1.0],\"type\":\"scatter3d\"}],                        {\"template\":{\"data\":{\"histogram2dcontour\":[{\"type\":\"histogram2dcontour\",\"colorbar\":{\"outlinewidth\":0,\"ticks\":\"\"},\"colorscale\":[[0.0,\"#0d0887\"],[0.1111111111111111,\"#46039f\"],[0.2222222222222222,\"#7201a8\"],[0.3333333333333333,\"#9c179e\"],[0.4444444444444444,\"#bd3786\"],[0.5555555555555556,\"#d8576b\"],[0.6666666666666666,\"#ed7953\"],[0.7777777777777778,\"#fb9f3a\"],[0.8888888888888888,\"#fdca26\"],[1.0,\"#f0f921\"]]}],\"choropleth\":[{\"type\":\"choropleth\",\"colorbar\":{\"outlinewidth\":0,\"ticks\":\"\"}}],\"histogram2d\":[{\"type\":\"histogram2d\",\"colorbar\":{\"outlinewidth\":0,\"ticks\":\"\"},\"colorscale\":[[0.0,\"#0d0887\"],[0.1111111111111111,\"#46039f\"],[0.2222222222222222,\"#7201a8\"],[0.3333333333333333,\"#9c179e\"],[0.4444444444444444,\"#bd3786\"],[0.5555555555555556,\"#d8576b\"],[0.6666666666666666,\"#ed7953\"],[0.7777777777777778,\"#fb9f3a\"],[0.8888888888888888,\"#fdca26\"],[1.0,\"#f0f921\"]]}],\"heatmap\":[{\"type\":\"heatmap\",\"colorbar\":{\"outlinewidth\":0,\"ticks\":\"\"},\"colorscale\":[[0.0,\"#0d0887\"],[0.1111111111111111,\"#46039f\"],[0.2222222222222222,\"#7201a8\"],[0.3333333333333333,\"#9c179e\"],[0.4444444444444444,\"#bd3786\"],[0.5555555555555556,\"#d8576b\"],[0.6666666666666666,\"#ed7953\"],[0.7777777777777778,\"#fb9f3a\"],[0.8888888888888888,\"#fdca26\"],[1.0,\"#f0f921\"]]}],\"heatmapgl\":[{\"type\":\"heatmapgl\",\"colorbar\":{\"outlinewidth\":0,\"ticks\":\"\"},\"colorscale\":[[0.0,\"#0d0887\"],[0.1111111111111111,\"#46039f\"],[0.2222222222222222,\"#7201a8\"],[0.3333333333333333,\"#9c179e\"],[0.4444444444444444,\"#bd3786\"],[0.5555555555555556,\"#d8576b\"],[0.6666666666666666,\"#ed7953\"],[0.7777777777777778,\"#fb9f3a\"],[0.8888888888888888,\"#fdca26\"],[1.0,\"#f0f921\"]]}],\"contourcarpet\":[{\"type\":\"contourcarpet\",\"colorbar\":{\"outlinewidth\":0,\"ticks\":\"\"}}],\"contour\":[{\"type\":\"contour\",\"colorbar\":{\"outlinewidth\":0,\"ticks\":\"\"},\"colorscale\":[[0.0,\"#0d0887\"],[0.1111111111111111,\"#46039f\"],[0.2222222222222222,\"#7201a8\"],[0.3333333333333333,\"#9c179e\"],[0.4444444444444444,\"#bd3786\"],[0.5555555555555556,\"#d8576b\"],[0.6666666666666666,\"#ed7953\"],[0.7777777777777778,\"#fb9f3a\"],[0.8888888888888888,\"#fdca26\"],[1.0,\"#f0f921\"]]}],\"surface\":[{\"type\":\"surface\",\"colorbar\":{\"outlinewidth\":0,\"ticks\":\"\"},\"colorscale\":[[0.0,\"#0d0887\"],[0.1111111111111111,\"#46039f\"],[0.2222222222222222,\"#7201a8\"],[0.3333333333333333,\"#9c179e\"],[0.4444444444444444,\"#bd3786\"],[0.5555555555555556,\"#d8576b\"],[0.6666666666666666,\"#ed7953\"],[0.7777777777777778,\"#fb9f3a\"],[0.8888888888888888,\"#fdca26\"],[1.0,\"#f0f921\"]]}],\"mesh3d\":[{\"type\":\"mesh3d\",\"colorbar\":{\"outlinewidth\":0,\"ticks\":\"\"}}],\"scatter\":[{\"fillpattern\":{\"fillmode\":\"overlay\",\"size\":10,\"solidity\":0.2},\"type\":\"scatter\"}],\"parcoords\":[{\"type\":\"parcoords\",\"line\":{\"colorbar\":{\"outlinewidth\":0,\"ticks\":\"\"}}}],\"scatterpolargl\":[{\"type\":\"scatterpolargl\",\"marker\":{\"colorbar\":{\"outlinewidth\":0,\"ticks\":\"\"}}}],\"bar\":[{\"error_x\":{\"color\":\"#2a3f5f\"},\"error_y\":{\"color\":\"#2a3f5f\"},\"marker\":{\"line\":{\"color\":\"#E5ECF6\",\"width\":0.5},\"pattern\":{\"fillmode\":\"overlay\",\"size\":10,\"solidity\":0.2}},\"type\":\"bar\"}],\"scattergeo\":[{\"type\":\"scattergeo\",\"marker\":{\"colorbar\":{\"outlinewidth\":0,\"ticks\":\"\"}}}],\"scatterpolar\":[{\"type\":\"scatterpolar\",\"marker\":{\"colorbar\":{\"outlinewidth\":0,\"ticks\":\"\"}}}],\"histogram\":[{\"marker\":{\"pattern\":{\"fillmode\":\"overlay\",\"size\":10,\"solidity\":0.2}},\"type\":\"histogram\"}],\"scattergl\":[{\"type\":\"scattergl\",\"marker\":{\"colorbar\":{\"outlinewidth\":0,\"ticks\":\"\"}}}],\"scatter3d\":[{\"type\":\"scatter3d\",\"line\":{\"colorbar\":{\"outlinewidth\":0,\"ticks\":\"\"}},\"marker\":{\"colorbar\":{\"outlinewidth\":0,\"ticks\":\"\"}}}],\"scattermapbox\":[{\"type\":\"scattermapbox\",\"marker\":{\"colorbar\":{\"outlinewidth\":0,\"ticks\":\"\"}}}],\"scatterternary\":[{\"type\":\"scatterternary\",\"marker\":{\"colorbar\":{\"outlinewidth\":0,\"ticks\":\"\"}}}],\"scattercarpet\":[{\"type\":\"scattercarpet\",\"marker\":{\"colorbar\":{\"outlinewidth\":0,\"ticks\":\"\"}}}],\"carpet\":[{\"aaxis\":{\"endlinecolor\":\"#2a3f5f\",\"gridcolor\":\"white\",\"linecolor\":\"white\",\"minorgridcolor\":\"white\",\"startlinecolor\":\"#2a3f5f\"},\"baxis\":{\"endlinecolor\":\"#2a3f5f\",\"gridcolor\":\"white\",\"linecolor\":\"white\",\"minorgridcolor\":\"white\",\"startlinecolor\":\"#2a3f5f\"},\"type\":\"carpet\"}],\"table\":[{\"cells\":{\"fill\":{\"color\":\"#EBF0F8\"},\"line\":{\"color\":\"white\"}},\"header\":{\"fill\":{\"color\":\"#C8D4E3\"},\"line\":{\"color\":\"white\"}},\"type\":\"table\"}],\"barpolar\":[{\"marker\":{\"line\":{\"color\":\"#E5ECF6\",\"width\":0.5},\"pattern\":{\"fillmode\":\"overlay\",\"size\":10,\"solidity\":0.2}},\"type\":\"barpolar\"}],\"pie\":[{\"automargin\":true,\"type\":\"pie\"}]},\"layout\":{\"autotypenumbers\":\"strict\",\"colorway\":[\"#636efa\",\"#EF553B\",\"#00cc96\",\"#ab63fa\",\"#FFA15A\",\"#19d3f3\",\"#FF6692\",\"#B6E880\",\"#FF97FF\",\"#FECB52\"],\"font\":{\"color\":\"#2a3f5f\"},\"hovermode\":\"closest\",\"hoverlabel\":{\"align\":\"left\"},\"paper_bgcolor\":\"white\",\"plot_bgcolor\":\"#E5ECF6\",\"polar\":{\"bgcolor\":\"#E5ECF6\",\"angularaxis\":{\"gridcolor\":\"white\",\"linecolor\":\"white\",\"ticks\":\"\"},\"radialaxis\":{\"gridcolor\":\"white\",\"linecolor\":\"white\",\"ticks\":\"\"}},\"ternary\":{\"bgcolor\":\"#E5ECF6\",\"aaxis\":{\"gridcolor\":\"white\",\"linecolor\":\"white\",\"ticks\":\"\"},\"baxis\":{\"gridcolor\":\"white\",\"linecolor\":\"white\",\"ticks\":\"\"},\"caxis\":{\"gridcolor\":\"white\",\"linecolor\":\"white\",\"ticks\":\"\"}},\"coloraxis\":{\"colorbar\":{\"outlinewidth\":0,\"ticks\":\"\"}},\"colorscale\":{\"sequential\":[[0.0,\"#0d0887\"],[0.1111111111111111,\"#46039f\"],[0.2222222222222222,\"#7201a8\"],[0.3333333333333333,\"#9c179e\"],[0.4444444444444444,\"#bd3786\"],[0.5555555555555556,\"#d8576b\"],[0.6666666666666666,\"#ed7953\"],[0.7777777777777778,\"#fb9f3a\"],[0.8888888888888888,\"#fdca26\"],[1.0,\"#f0f921\"]],\"sequentialminus\":[[0.0,\"#0d0887\"],[0.1111111111111111,\"#46039f\"],[0.2222222222222222,\"#7201a8\"],[0.3333333333333333,\"#9c179e\"],[0.4444444444444444,\"#bd3786\"],[0.5555555555555556,\"#d8576b\"],[0.6666666666666666,\"#ed7953\"],[0.7777777777777778,\"#fb9f3a\"],[0.8888888888888888,\"#fdca26\"],[1.0,\"#f0f921\"]],\"diverging\":[[0,\"#8e0152\"],[0.1,\"#c51b7d\"],[0.2,\"#de77ae\"],[0.3,\"#f1b6da\"],[0.4,\"#fde0ef\"],[0.5,\"#f7f7f7\"],[0.6,\"#e6f5d0\"],[0.7,\"#b8e186\"],[0.8,\"#7fbc41\"],[0.9,\"#4d9221\"],[1,\"#276419\"]]},\"xaxis\":{\"gridcolor\":\"white\",\"linecolor\":\"white\",\"ticks\":\"\",\"title\":{\"standoff\":15},\"zerolinecolor\":\"white\",\"automargin\":true,\"zerolinewidth\":2},\"yaxis\":{\"gridcolor\":\"white\",\"linecolor\":\"white\",\"ticks\":\"\",\"title\":{\"standoff\":15},\"zerolinecolor\":\"white\",\"automargin\":true,\"zerolinewidth\":2},\"scene\":{\"xaxis\":{\"backgroundcolor\":\"#E5ECF6\",\"gridcolor\":\"white\",\"linecolor\":\"white\",\"showbackground\":true,\"ticks\":\"\",\"zerolinecolor\":\"white\",\"gridwidth\":2},\"yaxis\":{\"backgroundcolor\":\"#E5ECF6\",\"gridcolor\":\"white\",\"linecolor\":\"white\",\"showbackground\":true,\"ticks\":\"\",\"zerolinecolor\":\"white\",\"gridwidth\":2},\"zaxis\":{\"backgroundcolor\":\"#E5ECF6\",\"gridcolor\":\"white\",\"linecolor\":\"white\",\"showbackground\":true,\"ticks\":\"\",\"zerolinecolor\":\"white\",\"gridwidth\":2}},\"shapedefaults\":{\"line\":{\"color\":\"#2a3f5f\"}},\"annotationdefaults\":{\"arrowcolor\":\"#2a3f5f\",\"arrowhead\":0,\"arrowwidth\":1},\"geo\":{\"bgcolor\":\"white\",\"landcolor\":\"#E5ECF6\",\"subunitcolor\":\"white\",\"showland\":true,\"showlakes\":true,\"lakecolor\":\"white\"},\"title\":{\"x\":0.05},\"mapbox\":{\"style\":\"light\"}}},\"scene\":{\"xaxis\":{\"showbackground\":false,\"showgrid\":false,\"showticklabels\":false,\"showspikes\":false,\"title\":{\"text\":\"\"}},\"yaxis\":{\"showbackground\":false,\"showgrid\":false,\"showticklabels\":false,\"showspikes\":false,\"title\":{\"text\":\"\"}},\"zaxis\":{\"showbackground\":false,\"showgrid\":false,\"showticklabels\":false,\"showspikes\":false,\"title\":{\"text\":\"\"}}},\"scene2\":{\"xaxis\":{\"showbackground\":false,\"showgrid\":false,\"showticklabels\":false,\"showspikes\":false,\"title\":{\"text\":\"\"}},\"yaxis\":{\"showbackground\":false,\"showgrid\":false,\"showticklabels\":false,\"showspikes\":false,\"title\":{\"text\":\"\"}},\"zaxis\":{\"showbackground\":false,\"showgrid\":false,\"showticklabels\":false,\"showspikes\":false,\"title\":{\"text\":\"\"}}},\"scene3\":{\"xaxis\":{\"showbackground\":false,\"showgrid\":false,\"showticklabels\":false,\"showspikes\":false,\"title\":{\"text\":\"\"}},\"yaxis\":{\"showbackground\":false,\"showgrid\":false,\"showticklabels\":false,\"showspikes\":false,\"title\":{\"text\":\"\"}},\"zaxis\":{\"showbackground\":false,\"showgrid\":false,\"showticklabels\":false,\"showspikes\":false,\"title\":{\"text\":\"\"}}},\"scene4\":{\"xaxis\":{\"showbackground\":false,\"showgrid\":false,\"showticklabels\":false,\"showspikes\":false,\"title\":{\"text\":\"\"}},\"yaxis\":{\"showbackground\":false,\"showgrid\":false,\"showticklabels\":false,\"showspikes\":false,\"title\":{\"text\":\"\"}},\"zaxis\":{\"showbackground\":false,\"showgrid\":false,\"showticklabels\":false,\"showspikes\":false,\"title\":{\"text\":\"\"}}},\"scene5\":{\"xaxis\":{\"showbackground\":false,\"showgrid\":false,\"showticklabels\":false,\"showspikes\":false,\"title\":{\"text\":\"\"}},\"yaxis\":{\"showbackground\":false,\"showgrid\":false,\"showticklabels\":false,\"showspikes\":false,\"title\":{\"text\":\"\"}},\"zaxis\":{\"showbackground\":false,\"showgrid\":false,\"showticklabels\":false,\"showspikes\":false,\"title\":{\"text\":\"\"}}},\"scene6\":{\"xaxis\":{\"showbackground\":false,\"showgrid\":false,\"showticklabels\":false,\"showspikes\":false,\"title\":{\"text\":\"\"}},\"yaxis\":{\"showbackground\":false,\"showgrid\":false,\"showticklabels\":false,\"showspikes\":false,\"title\":{\"text\":\"\"}},\"zaxis\":{\"showbackground\":false,\"showgrid\":false,\"showticklabels\":false,\"showspikes\":false,\"title\":{\"text\":\"\"}}},\"scene7\":{\"xaxis\":{\"showbackground\":false,\"showgrid\":false,\"showticklabels\":false,\"showspikes\":false,\"title\":{\"text\":\"\"}},\"yaxis\":{\"showbackground\":false,\"showgrid\":false,\"showticklabels\":false,\"showspikes\":false,\"title\":{\"text\":\"\"}},\"zaxis\":{\"showbackground\":false,\"showgrid\":false,\"showticklabels\":false,\"showspikes\":false,\"title\":{\"text\":\"\"}}},\"scene8\":{\"xaxis\":{\"showbackground\":false,\"showgrid\":false,\"showticklabels\":false,\"showspikes\":false,\"title\":{\"text\":\"\"}},\"yaxis\":{\"showbackground\":false,\"showgrid\":false,\"showticklabels\":false,\"showspikes\":false,\"title\":{\"text\":\"\"}},\"zaxis\":{\"showbackground\":false,\"showgrid\":false,\"showticklabels\":false,\"showspikes\":false,\"title\":{\"text\":\"\"}}},\"coloraxis\":{\"colorbar\":{\"x\":1.1,\"len\":0.25,\"ticks\":\"outside\",\"ticklen\":5},\"colorscale\":[[0.0,\"#30123b\"],[0.07142857142857142,\"#4145ab\"],[0.14285714285714285,\"#4675ed\"],[0.21428571428571427,\"#39a2fc\"],[0.2857142857142857,\"#1bcfd4\"],[0.35714285714285715,\"#24eca6\"],[0.42857142857142855,\"#61fc6c\"],[0.5,\"#a4fc3b\"],[0.5714285714285714,\"#d1e834\"],[0.6428571428571429,\"#f3c63a\"],[0.7142857142857143,\"#fe9b2d\"],[0.7857142857142857,\"#f36315\"],[0.8571428571428571,\"#d93806\"],[0.9285714285714286,\"#b11901\"],[1.0,\"#7a0402\"]],\"cmin\":0},\"coloraxis2\":{\"colorscale\":[[0.0,\"#30123b\"],[0.07142857142857142,\"#4145ab\"],[0.14285714285714285,\"#4675ed\"],[0.21428571428571427,\"#39a2fc\"],[0.2857142857142857,\"#1bcfd4\"],[0.35714285714285715,\"#24eca6\"],[0.42857142857142855,\"#61fc6c\"],[0.5,\"#a4fc3b\"],[0.5714285714285714,\"#d1e834\"],[0.6428571428571429,\"#f3c63a\"],[0.7142857142857143,\"#fe9b2d\"],[0.7857142857142857,\"#f36315\"],[0.8571428571428571,\"#d93806\"],[0.9285714285714286,\"#b11901\"],[1.0,\"#7a0402\"]],\"cmin\":0,\"colorbar\":{\"x\":1.1,\"len\":0.25,\"ticks\":\"outside\",\"ticklen\":5}},\"coloraxis3\":{\"colorscale\":[[0.0,\"#30123b\"],[0.07142857142857142,\"#4145ab\"],[0.14285714285714285,\"#4675ed\"],[0.21428571428571427,\"#39a2fc\"],[0.2857142857142857,\"#1bcfd4\"],[0.35714285714285715,\"#24eca6\"],[0.42857142857142855,\"#61fc6c\"],[0.5,\"#a4fc3b\"],[0.5714285714285714,\"#d1e834\"],[0.6428571428571429,\"#f3c63a\"],[0.7142857142857143,\"#fe9b2d\"],[0.7857142857142857,\"#f36315\"],[0.8571428571428571,\"#d93806\"],[0.9285714285714286,\"#b11901\"],[1.0,\"#7a0402\"]],\"cmin\":0,\"colorbar\":{\"x\":1.1,\"len\":0.25,\"ticks\":\"outside\",\"ticklen\":5}},\"coloraxis4\":{\"colorscale\":[[0.0,\"#30123b\"],[0.07142857142857142,\"#4145ab\"],[0.14285714285714285,\"#4675ed\"],[0.21428571428571427,\"#39a2fc\"],[0.2857142857142857,\"#1bcfd4\"],[0.35714285714285715,\"#24eca6\"],[0.42857142857142855,\"#61fc6c\"],[0.5,\"#a4fc3b\"],[0.5714285714285714,\"#d1e834\"],[0.6428571428571429,\"#f3c63a\"],[0.7142857142857143,\"#fe9b2d\"],[0.7857142857142857,\"#f36315\"],[0.8571428571428571,\"#d93806\"],[0.9285714285714286,\"#b11901\"],[1.0,\"#7a0402\"]],\"cmin\":0,\"colorbar\":{\"x\":1.1,\"len\":0.25,\"ticks\":\"outside\",\"ticklen\":5}},\"coloraxis5\":{\"colorscale\":[[0.0,\"#30123b\"],[0.07142857142857142,\"#4145ab\"],[0.14285714285714285,\"#4675ed\"],[0.21428571428571427,\"#39a2fc\"],[0.2857142857142857,\"#1bcfd4\"],[0.35714285714285715,\"#24eca6\"],[0.42857142857142855,\"#61fc6c\"],[0.5,\"#a4fc3b\"],[0.5714285714285714,\"#d1e834\"],[0.6428571428571429,\"#f3c63a\"],[0.7142857142857143,\"#fe9b2d\"],[0.7857142857142857,\"#f36315\"],[0.8571428571428571,\"#d93806\"],[0.9285714285714286,\"#b11901\"],[1.0,\"#7a0402\"]],\"cmin\":0,\"colorbar\":{\"x\":1.1,\"len\":0.25,\"ticks\":\"outside\",\"ticklen\":5}},\"coloraxis6\":{\"colorscale\":[[0.0,\"#30123b\"],[0.07142857142857142,\"#4145ab\"],[0.14285714285714285,\"#4675ed\"],[0.21428571428571427,\"#39a2fc\"],[0.2857142857142857,\"#1bcfd4\"],[0.35714285714285715,\"#24eca6\"],[0.42857142857142855,\"#61fc6c\"],[0.5,\"#a4fc3b\"],[0.5714285714285714,\"#d1e834\"],[0.6428571428571429,\"#f3c63a\"],[0.7142857142857143,\"#fe9b2d\"],[0.7857142857142857,\"#f36315\"],[0.8571428571428571,\"#d93806\"],[0.9285714285714286,\"#b11901\"],[1.0,\"#7a0402\"]],\"cmin\":0,\"colorbar\":{\"x\":1.1,\"len\":0.25,\"ticks\":\"outside\",\"ticklen\":5}},\"coloraxis7\":{\"colorscale\":[[0.0,\"#30123b\"],[0.07142857142857142,\"#4145ab\"],[0.14285714285714285,\"#4675ed\"],[0.21428571428571427,\"#39a2fc\"],[0.2857142857142857,\"#1bcfd4\"],[0.35714285714285715,\"#24eca6\"],[0.42857142857142855,\"#61fc6c\"],[0.5,\"#a4fc3b\"],[0.5714285714285714,\"#d1e834\"],[0.6428571428571429,\"#f3c63a\"],[0.7142857142857143,\"#fe9b2d\"],[0.7857142857142857,\"#f36315\"],[0.8571428571428571,\"#d93806\"],[0.9285714285714286,\"#b11901\"],[1.0,\"#7a0402\"]],\"cmin\":0,\"colorbar\":{\"x\":1.1,\"len\":0.25,\"ticks\":\"outside\",\"ticklen\":5}},\"coloraxis8\":{\"colorscale\":[[0.0,\"#30123b\"],[0.07142857142857142,\"#4145ab\"],[0.14285714285714285,\"#4675ed\"],[0.21428571428571427,\"#39a2fc\"],[0.2857142857142857,\"#1bcfd4\"],[0.35714285714285715,\"#24eca6\"],[0.42857142857142855,\"#61fc6c\"],[0.5,\"#a4fc3b\"],[0.5714285714285714,\"#d1e834\"],[0.6428571428571429,\"#f3c63a\"],[0.7142857142857143,\"#fe9b2d\"],[0.7857142857142857,\"#f36315\"],[0.8571428571428571,\"#d93806\"],[0.9285714285714286,\"#b11901\"],[1.0,\"#7a0402\"]],\"cmin\":0,\"colorbar\":{\"x\":1.1,\"len\":0.25,\"ticks\":\"outside\",\"ticklen\":5}},\"autosize\":true,\"showlegend\":true,\"title\":{\"text\":\"\"},\"width\":1000,\"height\":800,\"paper_bgcolor\":\"rgba(0, 0, 0, 0)\",\"plot_bgcolor\":\"rgba(0, 0, 0, 0)\"},                        {\"responsive\": true}                    ).then(function(){\n",
              "                            \n",
              "var gd = document.getElementById('33cddfab-eba6-46f3-97a3-fc294bdcdbc0');\n",
              "var x = new MutationObserver(function (mutations, observer) {{\n",
              "        var display = window.getComputedStyle(gd).display;\n",
              "        if (!display || display === 'none') {{\n",
              "            console.log([gd, 'removed!']);\n",
              "            Plotly.purge(gd);\n",
              "            observer.disconnect();\n",
              "        }}\n",
              "}});\n",
              "\n",
              "// Listen for the removal of the full notebook cells\n",
              "var notebookContainer = gd.closest('#notebook-container');\n",
              "if (notebookContainer) {{\n",
              "    x.observe(notebookContainer, {childList: true});\n",
              "}}\n",
              "\n",
              "// Listen for the clearing of the current output cell\n",
              "var outputEl = gd.closest('.output');\n",
              "if (outputEl) {{\n",
              "    x.observe(outputEl, {childList: true});\n",
              "}}\n",
              "\n",
              "                        })                };                            </script>        </div>\n",
              "</body>\n",
              "</html>"
            ]
          },
          "metadata": {}
        }
      ],
      "source": [
        "from pyphi import visualize\n",
        "fig = visualize.phi_structure.plot_phi_structure(phi_structure=phi_structure,subsystem=candidate_effect_complex)\n",
        "fig.show()"
      ],
      "id": "uXbm8rGonfgc"
    },
    {
      "cell_type": "markdown",
      "metadata": {
        "id": "VDoyzpm5QYBf"
      },
      "source": [
        "The simple seeming complex $aB$ clearly unfolds into a brilliant diamond shining bright in the void.\n",
        "\n",
        "For completeness, we also show the $\\Phi$-structure that unfolds from the first complex ($C$)."
      ],
      "id": "VDoyzpm5QYBf"
    },
    {
      "cell_type": "code",
      "execution_count": null,
      "metadata": {
        "colab": {
          "base_uri": "https://localhost:8080/",
          "height": 1000,
          "referenced_widgets": [
            "362a0585ecc64273a12670cfb622eca1",
            "c0528a396e424ecd9758ca69ea167415",
            "34a58a8d883b4cf68132c1ac9610a267",
            "4eb6b264d6f64c76981dd7f9a2b7a71c",
            "4e96d6b952184366ba078d2ba78c8b47",
            "1f9790e5075d45028c031f2e3674beda",
            "2f8c349f50d54cd49dfb808830dfa6a5",
            "c101c595fd8640a88d4ebb6fa434019b",
            "acf2699175b344ac9ab4a54f1a9067a2",
            "cea7c784a18444218e5c75b36e81e3ab",
            "15ba14f5f3f146858d679277c84ec330"
          ]
        },
        "id": "P-EyBZ0BzAjM",
        "outputId": "b5f13d0f-c5fa-4cdf-92ff-f5207f724b33"
      },
      "outputs": [
        {
          "output_type": "stream",
          "name": "stdout",
          "text": [
            "┌─────────────────────────────────────────┐\n",
            "│               PhiStructure              │\n",
            "│    ══════════════════════════════════   │\n",
            "│                  Φ: 0.582119699533174   │\n",
            "│    #(distinctions): 1                   │\n",
            "│              Σ φ_d: 0.291059849766587   │\n",
            "│       #(relations): 1                   │\n",
            "│              Σ φ_r: 0.291059849766587   │\n",
            "│ ┌─────────────────────────────────────┐ │\n",
            "│ │     SystemIrreducibilityAnalysis    │ │\n",
            "│ │ ━━━━━━━━━━━━━━━━━━━━━━━━━━━━━━━━━━━ │ │\n",
            "│ │      Subsystem:  C                  │ │\n",
            "│ │  Current state:  (1)                │ │\n",
            "│ │            φ_s: 0.291059849766587   │ │\n",
            "│ │ Normalized φ_s: 0.291059849766587   │ │\n",
            "│ │          CAUSE:  (1)                │ │\n",
            "│ │           II_c: 0.43573033042974085 │ │\n",
            "│ │         EFFECT:  (1)                │ │\n",
            "│ │           II_e: 0.291059849766587   │ │\n",
            "│ │   #(tied MIPs): 0                   │ │\n",
            "│ │      Partition:                     │ │\n",
            "│ │                 Complete            │ │\n",
            "│ │                 [[1]]               │ │\n",
            "│ └─────────────────────────────────────┘ │\n",
            "└─────────────────────────────────────────┘\n"
          ]
        },
        {
          "output_type": "stream",
          "name": "stderr",
          "text": [
            "/usr/local/lib/python3.10/dist-packages/pyphi/visualize/phi_structure/geometry.py:187: RuntimeWarning:\n",
            "\n",
            "invalid value encountered in divide\n",
            "\n"
          ]
        },
        {
          "output_type": "display_data",
          "data": {
            "text/plain": [
              "Grouping relation faces by degree:   0%|          | 0/1 [00:00<?, ?it/s]"
            ],
            "application/vnd.jupyter.widget-view+json": {
              "version_major": 2,
              "version_minor": 0,
              "model_id": "362a0585ecc64273a12670cfb622eca1"
            }
          },
          "metadata": {}
        },
        {
          "output_type": "display_data",
          "data": {
            "text/html": [
              "<html>\n",
              "<head><meta charset=\"utf-8\" /></head>\n",
              "<body>\n",
              "    <div>            <script src=\"https://cdnjs.cloudflare.com/ajax/libs/mathjax/2.7.5/MathJax.js?config=TeX-AMS-MML_SVG\"></script><script type=\"text/javascript\">if (window.MathJax && window.MathJax.Hub && window.MathJax.Hub.Config) {window.MathJax.Hub.Config({SVG: {font: \"STIX-Web\"}});}</script>                <script type=\"text/javascript\">window.PlotlyConfig = {MathJaxConfig: 'local'};</script>\n",
              "        <script charset=\"utf-8\" src=\"https://cdn.plot.ly/plotly-2.24.1.min.js\"></script>                <div id=\"db1a3a7c-afdf-4a94-aa7c-d89bc25f4f81\" class=\"plotly-graph-div\" style=\"height:800px; width:1000px;\"></div>            <script type=\"text/javascript\">                                    window.PLOTLYENV=window.PLOTLYENV || {};                                    if (document.getElementById(\"db1a3a7c-afdf-4a94-aa7c-d89bc25f4f81\")) {                    Plotly.newPlot(                        \"db1a3a7c-afdf-4a94-aa7c-d89bc25f4f81\",                        [{\"hoverinfo\":\"text\",\"hovertext\":\"2-face\\u003cbr\\u003e&nbsp;&nbsp;&nbsp;&nbsp;P: C\\u003cbr\\u003e&nbsp;&nbsp;&nbsp;&nbsp;\\u03c6: 0.2910598497666\\u003cbr\\u003e&nbsp;&nbsp;&nbsp;&nbsp;Relata:\\u003cbr\\u003e&nbsp;&nbsp;&nbsp;&nbsp;&nbsp;&nbsp;&nbsp;&nbsp;C\\u003cbr\\u003e&nbsp;&nbsp;&nbsp;&nbsp;&nbsp;&nbsp;&nbsp;&nbsp;C\",\"legendgroup\":\"2-relations\",\"line\":{\"cmin\":0,\"color\":[0.291059849766587,0.291059849766587],\"colorbar\":{\"len\":0.25,\"ticklen\":5,\"ticks\":\"outside\",\"title\":{\"text\":\"2-face \\u03c6_r\"},\"x\":1.1,\"y\":0.25},\"colorscale\":[[0.0,\"rgb(247,251,255)\"],[0.125,\"rgb(222,235,247)\"],[0.25,\"rgb(198,219,239)\"],[0.375,\"rgb(158,202,225)\"],[0.5,\"rgb(107,174,214)\"],[0.625,\"rgb(66,146,198)\"],[0.75,\"rgb(33,113,181)\"],[0.875,\"rgb(8,81,156)\"],[1.0,\"rgb(8,48,107)\"]],\"showscale\":true,\"width\":5},\"mode\":\"lines\",\"name\":\"2-relations\",\"opacity\":0.75,\"showlegend\":true,\"x\":[-0.25,0.25],\"y\":[1.1500000000000001,1.1500000000000001],\"z\":[0.5,0.5],\"type\":\"scatter3d\"},{\"hoverinfo\":\"skip\",\"legendgroup\":\"Cause-effect links\",\"line\":{\"color\":[\"#8D3D00\",\"#006146\"],\"width\":5},\"mode\":\"lines\",\"name\":\"Cause-effect links\",\"opacity\":0.25,\"showlegend\":true,\"x\":[-0.25,0.25],\"y\":[1.1500000000000001,1.1500000000000001],\"z\":[0.5,0.5],\"type\":\"scatter3d\"},{\"hoverinfo\":\"skip\",\"legendgroup\":\"Mechanism-purview links\",\"line\":{\"color\":[[0.5529411764705883,0.23921568627450981,0.0],[0.27647058823529413,0.30980392156862746,0.13725490196078433],[0.0,0.3803921568627451,0.27450980392156865]],\"width\":10.5},\"mode\":\"lines\",\"name\":\"Mechanism-purview links\",\"opacity\":0.25,\"showlegend\":true,\"x\":[-0.25,null,0.25],\"y\":[1.1500000000000001,null,1.1500000000000001],\"z\":[0.5,0.0,0.5],\"type\":\"scatter3d\"},{\"hoverinfo\":\"skip\",\"legendgroup\":\"Mechanisms\",\"marker\":{\"opacity\":0.75,\"size\":[17.5]},\"mode\":\"text\",\"name\":\"Mechanisms\",\"opacity\":1,\"showlegend\":true,\"text\":[\"C\"],\"textfont\":{\"family\":\"Roboto Mono, MesloLGS NF, Menlo\",\"size\":20},\"textposition\":\"middle center\",\"x\":[null],\"y\":[null],\"z\":[0.0],\"type\":\"scatter3d\"},{\"hoverinfo\":\"text\",\"hoverlabel\":{\"bgcolor\":\"#8D3D00\"},\"hovertext\":[\"Distinction (CAUSE)\\u003cbr\\u003e&nbsp;&nbsp;&nbsp;&nbsp;M: C\\u003cbr\\u003e&nbsp;&nbsp;&nbsp;&nbsp;P: C\\u003cbr\\u003e&nbsp;&nbsp;&nbsp;&nbsp;\\u03c6: 0.4357303304297\\u003cbr\\u003e&nbsp;&nbsp;&nbsp;&nbsp;S: 1\"],\"marker\":{\"cmin\":0,\"color\":[0.291059849766587],\"colorbar\":{\"len\":0.25,\"ticklen\":5,\"ticks\":\"outside\",\"title\":{\"text\":\"\\u03c6_d\"},\"x\":1.1,\"y\":0.5},\"colorscale\":[[0.0,\"rgb(247,251,255)\"],[0.125,\"rgb(222,235,247)\"],[0.25,\"rgb(198,219,239)\"],[0.375,\"rgb(158,202,225)\"],[0.5,\"rgb(107,174,214)\"],[0.625,\"rgb(66,146,198)\"],[0.75,\"rgb(33,113,181)\"],[0.875,\"rgb(8,81,156)\"],[1.0,\"rgb(8,48,107)\"]],\"opacity\":0.75,\"showscale\":true,\"size\":[17.5],\"symbol\":\"circle\"},\"mode\":\"text+markers\",\"name\":\"CAUSE distinctions\",\"showlegend\":true,\"text\":[\"C\"],\"textfont\":{\"color\":\"#8D3D00\",\"family\":\"Roboto Mono, MesloLGS NF, Menlo\",\"size\":20},\"textposition\":\"middle center\",\"x\":[-0.25],\"y\":[1.1500000000000001],\"z\":[0.5],\"type\":\"scatter3d\"},{\"hoverinfo\":\"text\",\"hoverlabel\":{\"bgcolor\":\"#006146\"},\"hovertext\":[\"Distinction (EFFECT)\\u003cbr\\u003e&nbsp;&nbsp;&nbsp;&nbsp;M: C\\u003cbr\\u003e&nbsp;&nbsp;&nbsp;&nbsp;P: C\\u003cbr\\u003e&nbsp;&nbsp;&nbsp;&nbsp;\\u03c6: 0.2910598497666\\u003cbr\\u003e&nbsp;&nbsp;&nbsp;&nbsp;S: 1\"],\"marker\":{\"cmin\":0,\"color\":[0.291059849766587],\"colorbar\":{\"len\":0.25,\"ticklen\":5,\"ticks\":\"outside\",\"title\":{\"text\":\"\\u03c6_d\"},\"x\":1.1,\"y\":0.5},\"colorscale\":[[0.0,\"rgb(247,251,255)\"],[0.125,\"rgb(222,235,247)\"],[0.25,\"rgb(198,219,239)\"],[0.375,\"rgb(158,202,225)\"],[0.5,\"rgb(107,174,214)\"],[0.625,\"rgb(66,146,198)\"],[0.75,\"rgb(33,113,181)\"],[0.875,\"rgb(8,81,156)\"],[1.0,\"rgb(8,48,107)\"]],\"opacity\":0.75,\"showscale\":false,\"size\":[17.5],\"symbol\":\"circle\"},\"mode\":\"text+markers\",\"name\":\"EFFECT distinctions\",\"showlegend\":true,\"text\":[\"C\"],\"textfont\":{\"color\":\"#006146\",\"family\":\"Roboto Mono, MesloLGS NF, Menlo\",\"size\":20},\"textposition\":\"middle center\",\"x\":[0.25],\"y\":[1.1500000000000001],\"z\":[0.5],\"type\":\"scatter3d\"}],                        {\"template\":{\"data\":{\"histogram2dcontour\":[{\"type\":\"histogram2dcontour\",\"colorbar\":{\"outlinewidth\":0,\"ticks\":\"\"},\"colorscale\":[[0.0,\"#0d0887\"],[0.1111111111111111,\"#46039f\"],[0.2222222222222222,\"#7201a8\"],[0.3333333333333333,\"#9c179e\"],[0.4444444444444444,\"#bd3786\"],[0.5555555555555556,\"#d8576b\"],[0.6666666666666666,\"#ed7953\"],[0.7777777777777778,\"#fb9f3a\"],[0.8888888888888888,\"#fdca26\"],[1.0,\"#f0f921\"]]}],\"choropleth\":[{\"type\":\"choropleth\",\"colorbar\":{\"outlinewidth\":0,\"ticks\":\"\"}}],\"histogram2d\":[{\"type\":\"histogram2d\",\"colorbar\":{\"outlinewidth\":0,\"ticks\":\"\"},\"colorscale\":[[0.0,\"#0d0887\"],[0.1111111111111111,\"#46039f\"],[0.2222222222222222,\"#7201a8\"],[0.3333333333333333,\"#9c179e\"],[0.4444444444444444,\"#bd3786\"],[0.5555555555555556,\"#d8576b\"],[0.6666666666666666,\"#ed7953\"],[0.7777777777777778,\"#fb9f3a\"],[0.8888888888888888,\"#fdca26\"],[1.0,\"#f0f921\"]]}],\"heatmap\":[{\"type\":\"heatmap\",\"colorbar\":{\"outlinewidth\":0,\"ticks\":\"\"},\"colorscale\":[[0.0,\"#0d0887\"],[0.1111111111111111,\"#46039f\"],[0.2222222222222222,\"#7201a8\"],[0.3333333333333333,\"#9c179e\"],[0.4444444444444444,\"#bd3786\"],[0.5555555555555556,\"#d8576b\"],[0.6666666666666666,\"#ed7953\"],[0.7777777777777778,\"#fb9f3a\"],[0.8888888888888888,\"#fdca26\"],[1.0,\"#f0f921\"]]}],\"heatmapgl\":[{\"type\":\"heatmapgl\",\"colorbar\":{\"outlinewidth\":0,\"ticks\":\"\"},\"colorscale\":[[0.0,\"#0d0887\"],[0.1111111111111111,\"#46039f\"],[0.2222222222222222,\"#7201a8\"],[0.3333333333333333,\"#9c179e\"],[0.4444444444444444,\"#bd3786\"],[0.5555555555555556,\"#d8576b\"],[0.6666666666666666,\"#ed7953\"],[0.7777777777777778,\"#fb9f3a\"],[0.8888888888888888,\"#fdca26\"],[1.0,\"#f0f921\"]]}],\"contourcarpet\":[{\"type\":\"contourcarpet\",\"colorbar\":{\"outlinewidth\":0,\"ticks\":\"\"}}],\"contour\":[{\"type\":\"contour\",\"colorbar\":{\"outlinewidth\":0,\"ticks\":\"\"},\"colorscale\":[[0.0,\"#0d0887\"],[0.1111111111111111,\"#46039f\"],[0.2222222222222222,\"#7201a8\"],[0.3333333333333333,\"#9c179e\"],[0.4444444444444444,\"#bd3786\"],[0.5555555555555556,\"#d8576b\"],[0.6666666666666666,\"#ed7953\"],[0.7777777777777778,\"#fb9f3a\"],[0.8888888888888888,\"#fdca26\"],[1.0,\"#f0f921\"]]}],\"surface\":[{\"type\":\"surface\",\"colorbar\":{\"outlinewidth\":0,\"ticks\":\"\"},\"colorscale\":[[0.0,\"#0d0887\"],[0.1111111111111111,\"#46039f\"],[0.2222222222222222,\"#7201a8\"],[0.3333333333333333,\"#9c179e\"],[0.4444444444444444,\"#bd3786\"],[0.5555555555555556,\"#d8576b\"],[0.6666666666666666,\"#ed7953\"],[0.7777777777777778,\"#fb9f3a\"],[0.8888888888888888,\"#fdca26\"],[1.0,\"#f0f921\"]]}],\"mesh3d\":[{\"type\":\"mesh3d\",\"colorbar\":{\"outlinewidth\":0,\"ticks\":\"\"}}],\"scatter\":[{\"fillpattern\":{\"fillmode\":\"overlay\",\"size\":10,\"solidity\":0.2},\"type\":\"scatter\"}],\"parcoords\":[{\"type\":\"parcoords\",\"line\":{\"colorbar\":{\"outlinewidth\":0,\"ticks\":\"\"}}}],\"scatterpolargl\":[{\"type\":\"scatterpolargl\",\"marker\":{\"colorbar\":{\"outlinewidth\":0,\"ticks\":\"\"}}}],\"bar\":[{\"error_x\":{\"color\":\"#2a3f5f\"},\"error_y\":{\"color\":\"#2a3f5f\"},\"marker\":{\"line\":{\"color\":\"#E5ECF6\",\"width\":0.5},\"pattern\":{\"fillmode\":\"overlay\",\"size\":10,\"solidity\":0.2}},\"type\":\"bar\"}],\"scattergeo\":[{\"type\":\"scattergeo\",\"marker\":{\"colorbar\":{\"outlinewidth\":0,\"ticks\":\"\"}}}],\"scatterpolar\":[{\"type\":\"scatterpolar\",\"marker\":{\"colorbar\":{\"outlinewidth\":0,\"ticks\":\"\"}}}],\"histogram\":[{\"marker\":{\"pattern\":{\"fillmode\":\"overlay\",\"size\":10,\"solidity\":0.2}},\"type\":\"histogram\"}],\"scattergl\":[{\"type\":\"scattergl\",\"marker\":{\"colorbar\":{\"outlinewidth\":0,\"ticks\":\"\"}}}],\"scatter3d\":[{\"type\":\"scatter3d\",\"line\":{\"colorbar\":{\"outlinewidth\":0,\"ticks\":\"\"}},\"marker\":{\"colorbar\":{\"outlinewidth\":0,\"ticks\":\"\"}}}],\"scattermapbox\":[{\"type\":\"scattermapbox\",\"marker\":{\"colorbar\":{\"outlinewidth\":0,\"ticks\":\"\"}}}],\"scatterternary\":[{\"type\":\"scatterternary\",\"marker\":{\"colorbar\":{\"outlinewidth\":0,\"ticks\":\"\"}}}],\"scattercarpet\":[{\"type\":\"scattercarpet\",\"marker\":{\"colorbar\":{\"outlinewidth\":0,\"ticks\":\"\"}}}],\"carpet\":[{\"aaxis\":{\"endlinecolor\":\"#2a3f5f\",\"gridcolor\":\"white\",\"linecolor\":\"white\",\"minorgridcolor\":\"white\",\"startlinecolor\":\"#2a3f5f\"},\"baxis\":{\"endlinecolor\":\"#2a3f5f\",\"gridcolor\":\"white\",\"linecolor\":\"white\",\"minorgridcolor\":\"white\",\"startlinecolor\":\"#2a3f5f\"},\"type\":\"carpet\"}],\"table\":[{\"cells\":{\"fill\":{\"color\":\"#EBF0F8\"},\"line\":{\"color\":\"white\"}},\"header\":{\"fill\":{\"color\":\"#C8D4E3\"},\"line\":{\"color\":\"white\"}},\"type\":\"table\"}],\"barpolar\":[{\"marker\":{\"line\":{\"color\":\"#E5ECF6\",\"width\":0.5},\"pattern\":{\"fillmode\":\"overlay\",\"size\":10,\"solidity\":0.2}},\"type\":\"barpolar\"}],\"pie\":[{\"automargin\":true,\"type\":\"pie\"}]},\"layout\":{\"autotypenumbers\":\"strict\",\"colorway\":[\"#636efa\",\"#EF553B\",\"#00cc96\",\"#ab63fa\",\"#FFA15A\",\"#19d3f3\",\"#FF6692\",\"#B6E880\",\"#FF97FF\",\"#FECB52\"],\"font\":{\"color\":\"#2a3f5f\"},\"hovermode\":\"closest\",\"hoverlabel\":{\"align\":\"left\"},\"paper_bgcolor\":\"white\",\"plot_bgcolor\":\"#E5ECF6\",\"polar\":{\"bgcolor\":\"#E5ECF6\",\"angularaxis\":{\"gridcolor\":\"white\",\"linecolor\":\"white\",\"ticks\":\"\"},\"radialaxis\":{\"gridcolor\":\"white\",\"linecolor\":\"white\",\"ticks\":\"\"}},\"ternary\":{\"bgcolor\":\"#E5ECF6\",\"aaxis\":{\"gridcolor\":\"white\",\"linecolor\":\"white\",\"ticks\":\"\"},\"baxis\":{\"gridcolor\":\"white\",\"linecolor\":\"white\",\"ticks\":\"\"},\"caxis\":{\"gridcolor\":\"white\",\"linecolor\":\"white\",\"ticks\":\"\"}},\"coloraxis\":{\"colorbar\":{\"outlinewidth\":0,\"ticks\":\"\"}},\"colorscale\":{\"sequential\":[[0.0,\"#0d0887\"],[0.1111111111111111,\"#46039f\"],[0.2222222222222222,\"#7201a8\"],[0.3333333333333333,\"#9c179e\"],[0.4444444444444444,\"#bd3786\"],[0.5555555555555556,\"#d8576b\"],[0.6666666666666666,\"#ed7953\"],[0.7777777777777778,\"#fb9f3a\"],[0.8888888888888888,\"#fdca26\"],[1.0,\"#f0f921\"]],\"sequentialminus\":[[0.0,\"#0d0887\"],[0.1111111111111111,\"#46039f\"],[0.2222222222222222,\"#7201a8\"],[0.3333333333333333,\"#9c179e\"],[0.4444444444444444,\"#bd3786\"],[0.5555555555555556,\"#d8576b\"],[0.6666666666666666,\"#ed7953\"],[0.7777777777777778,\"#fb9f3a\"],[0.8888888888888888,\"#fdca26\"],[1.0,\"#f0f921\"]],\"diverging\":[[0,\"#8e0152\"],[0.1,\"#c51b7d\"],[0.2,\"#de77ae\"],[0.3,\"#f1b6da\"],[0.4,\"#fde0ef\"],[0.5,\"#f7f7f7\"],[0.6,\"#e6f5d0\"],[0.7,\"#b8e186\"],[0.8,\"#7fbc41\"],[0.9,\"#4d9221\"],[1,\"#276419\"]]},\"xaxis\":{\"gridcolor\":\"white\",\"linecolor\":\"white\",\"ticks\":\"\",\"title\":{\"standoff\":15},\"zerolinecolor\":\"white\",\"automargin\":true,\"zerolinewidth\":2},\"yaxis\":{\"gridcolor\":\"white\",\"linecolor\":\"white\",\"ticks\":\"\",\"title\":{\"standoff\":15},\"zerolinecolor\":\"white\",\"automargin\":true,\"zerolinewidth\":2},\"scene\":{\"xaxis\":{\"backgroundcolor\":\"#E5ECF6\",\"gridcolor\":\"white\",\"linecolor\":\"white\",\"showbackground\":true,\"ticks\":\"\",\"zerolinecolor\":\"white\",\"gridwidth\":2},\"yaxis\":{\"backgroundcolor\":\"#E5ECF6\",\"gridcolor\":\"white\",\"linecolor\":\"white\",\"showbackground\":true,\"ticks\":\"\",\"zerolinecolor\":\"white\",\"gridwidth\":2},\"zaxis\":{\"backgroundcolor\":\"#E5ECF6\",\"gridcolor\":\"white\",\"linecolor\":\"white\",\"showbackground\":true,\"ticks\":\"\",\"zerolinecolor\":\"white\",\"gridwidth\":2}},\"shapedefaults\":{\"line\":{\"color\":\"#2a3f5f\"}},\"annotationdefaults\":{\"arrowcolor\":\"#2a3f5f\",\"arrowhead\":0,\"arrowwidth\":1},\"geo\":{\"bgcolor\":\"white\",\"landcolor\":\"#E5ECF6\",\"subunitcolor\":\"white\",\"showland\":true,\"showlakes\":true,\"lakecolor\":\"white\"},\"title\":{\"x\":0.05},\"mapbox\":{\"style\":\"light\"}}},\"scene\":{\"xaxis\":{\"showbackground\":false,\"showgrid\":false,\"showticklabels\":false,\"showspikes\":false,\"title\":{\"text\":\"\"}},\"yaxis\":{\"showbackground\":false,\"showgrid\":false,\"showticklabels\":false,\"showspikes\":false,\"title\":{\"text\":\"\"}},\"zaxis\":{\"showbackground\":false,\"showgrid\":false,\"showticklabels\":false,\"showspikes\":false,\"title\":{\"text\":\"\"}}},\"scene2\":{\"xaxis\":{\"showbackground\":false,\"showgrid\":false,\"showticklabels\":false,\"showspikes\":false,\"title\":{\"text\":\"\"}},\"yaxis\":{\"showbackground\":false,\"showgrid\":false,\"showticklabels\":false,\"showspikes\":false,\"title\":{\"text\":\"\"}},\"zaxis\":{\"showbackground\":false,\"showgrid\":false,\"showticklabels\":false,\"showspikes\":false,\"title\":{\"text\":\"\"}}},\"scene3\":{\"xaxis\":{\"showbackground\":false,\"showgrid\":false,\"showticklabels\":false,\"showspikes\":false,\"title\":{\"text\":\"\"}},\"yaxis\":{\"showbackground\":false,\"showgrid\":false,\"showticklabels\":false,\"showspikes\":false,\"title\":{\"text\":\"\"}},\"zaxis\":{\"showbackground\":false,\"showgrid\":false,\"showticklabels\":false,\"showspikes\":false,\"title\":{\"text\":\"\"}}},\"scene4\":{\"xaxis\":{\"showbackground\":false,\"showgrid\":false,\"showticklabels\":false,\"showspikes\":false,\"title\":{\"text\":\"\"}},\"yaxis\":{\"showbackground\":false,\"showgrid\":false,\"showticklabels\":false,\"showspikes\":false,\"title\":{\"text\":\"\"}},\"zaxis\":{\"showbackground\":false,\"showgrid\":false,\"showticklabels\":false,\"showspikes\":false,\"title\":{\"text\":\"\"}}},\"scene5\":{\"xaxis\":{\"showbackground\":false,\"showgrid\":false,\"showticklabels\":false,\"showspikes\":false,\"title\":{\"text\":\"\"}},\"yaxis\":{\"showbackground\":false,\"showgrid\":false,\"showticklabels\":false,\"showspikes\":false,\"title\":{\"text\":\"\"}},\"zaxis\":{\"showbackground\":false,\"showgrid\":false,\"showticklabels\":false,\"showspikes\":false,\"title\":{\"text\":\"\"}}},\"scene6\":{\"xaxis\":{\"showbackground\":false,\"showgrid\":false,\"showticklabels\":false,\"showspikes\":false,\"title\":{\"text\":\"\"}},\"yaxis\":{\"showbackground\":false,\"showgrid\":false,\"showticklabels\":false,\"showspikes\":false,\"title\":{\"text\":\"\"}},\"zaxis\":{\"showbackground\":false,\"showgrid\":false,\"showticklabels\":false,\"showspikes\":false,\"title\":{\"text\":\"\"}}},\"scene7\":{\"xaxis\":{\"showbackground\":false,\"showgrid\":false,\"showticklabels\":false,\"showspikes\":false,\"title\":{\"text\":\"\"}},\"yaxis\":{\"showbackground\":false,\"showgrid\":false,\"showticklabels\":false,\"showspikes\":false,\"title\":{\"text\":\"\"}},\"zaxis\":{\"showbackground\":false,\"showgrid\":false,\"showticklabels\":false,\"showspikes\":false,\"title\":{\"text\":\"\"}}},\"scene8\":{\"xaxis\":{\"showbackground\":false,\"showgrid\":false,\"showticklabels\":false,\"showspikes\":false,\"title\":{\"text\":\"\"}},\"yaxis\":{\"showbackground\":false,\"showgrid\":false,\"showticklabels\":false,\"showspikes\":false,\"title\":{\"text\":\"\"}},\"zaxis\":{\"showbackground\":false,\"showgrid\":false,\"showticklabels\":false,\"showspikes\":false,\"title\":{\"text\":\"\"}}},\"coloraxis\":{\"colorbar\":{\"x\":1.1,\"len\":0.25,\"ticks\":\"outside\",\"ticklen\":5},\"colorscale\":[[0.0,\"#30123b\"],[0.07142857142857142,\"#4145ab\"],[0.14285714285714285,\"#4675ed\"],[0.21428571428571427,\"#39a2fc\"],[0.2857142857142857,\"#1bcfd4\"],[0.35714285714285715,\"#24eca6\"],[0.42857142857142855,\"#61fc6c\"],[0.5,\"#a4fc3b\"],[0.5714285714285714,\"#d1e834\"],[0.6428571428571429,\"#f3c63a\"],[0.7142857142857143,\"#fe9b2d\"],[0.7857142857142857,\"#f36315\"],[0.8571428571428571,\"#d93806\"],[0.9285714285714286,\"#b11901\"],[1.0,\"#7a0402\"]],\"cmin\":0},\"coloraxis2\":{\"colorscale\":[[0.0,\"#30123b\"],[0.07142857142857142,\"#4145ab\"],[0.14285714285714285,\"#4675ed\"],[0.21428571428571427,\"#39a2fc\"],[0.2857142857142857,\"#1bcfd4\"],[0.35714285714285715,\"#24eca6\"],[0.42857142857142855,\"#61fc6c\"],[0.5,\"#a4fc3b\"],[0.5714285714285714,\"#d1e834\"],[0.6428571428571429,\"#f3c63a\"],[0.7142857142857143,\"#fe9b2d\"],[0.7857142857142857,\"#f36315\"],[0.8571428571428571,\"#d93806\"],[0.9285714285714286,\"#b11901\"],[1.0,\"#7a0402\"]],\"cmin\":0,\"colorbar\":{\"x\":1.1,\"len\":0.25,\"ticks\":\"outside\",\"ticklen\":5}},\"coloraxis3\":{\"colorscale\":[[0.0,\"#30123b\"],[0.07142857142857142,\"#4145ab\"],[0.14285714285714285,\"#4675ed\"],[0.21428571428571427,\"#39a2fc\"],[0.2857142857142857,\"#1bcfd4\"],[0.35714285714285715,\"#24eca6\"],[0.42857142857142855,\"#61fc6c\"],[0.5,\"#a4fc3b\"],[0.5714285714285714,\"#d1e834\"],[0.6428571428571429,\"#f3c63a\"],[0.7142857142857143,\"#fe9b2d\"],[0.7857142857142857,\"#f36315\"],[0.8571428571428571,\"#d93806\"],[0.9285714285714286,\"#b11901\"],[1.0,\"#7a0402\"]],\"cmin\":0,\"colorbar\":{\"x\":1.1,\"len\":0.25,\"ticks\":\"outside\",\"ticklen\":5}},\"coloraxis4\":{\"colorscale\":[[0.0,\"#30123b\"],[0.07142857142857142,\"#4145ab\"],[0.14285714285714285,\"#4675ed\"],[0.21428571428571427,\"#39a2fc\"],[0.2857142857142857,\"#1bcfd4\"],[0.35714285714285715,\"#24eca6\"],[0.42857142857142855,\"#61fc6c\"],[0.5,\"#a4fc3b\"],[0.5714285714285714,\"#d1e834\"],[0.6428571428571429,\"#f3c63a\"],[0.7142857142857143,\"#fe9b2d\"],[0.7857142857142857,\"#f36315\"],[0.8571428571428571,\"#d93806\"],[0.9285714285714286,\"#b11901\"],[1.0,\"#7a0402\"]],\"cmin\":0,\"colorbar\":{\"x\":1.1,\"len\":0.25,\"ticks\":\"outside\",\"ticklen\":5}},\"coloraxis5\":{\"colorscale\":[[0.0,\"#30123b\"],[0.07142857142857142,\"#4145ab\"],[0.14285714285714285,\"#4675ed\"],[0.21428571428571427,\"#39a2fc\"],[0.2857142857142857,\"#1bcfd4\"],[0.35714285714285715,\"#24eca6\"],[0.42857142857142855,\"#61fc6c\"],[0.5,\"#a4fc3b\"],[0.5714285714285714,\"#d1e834\"],[0.6428571428571429,\"#f3c63a\"],[0.7142857142857143,\"#fe9b2d\"],[0.7857142857142857,\"#f36315\"],[0.8571428571428571,\"#d93806\"],[0.9285714285714286,\"#b11901\"],[1.0,\"#7a0402\"]],\"cmin\":0,\"colorbar\":{\"x\":1.1,\"len\":0.25,\"ticks\":\"outside\",\"ticklen\":5}},\"coloraxis6\":{\"colorscale\":[[0.0,\"#30123b\"],[0.07142857142857142,\"#4145ab\"],[0.14285714285714285,\"#4675ed\"],[0.21428571428571427,\"#39a2fc\"],[0.2857142857142857,\"#1bcfd4\"],[0.35714285714285715,\"#24eca6\"],[0.42857142857142855,\"#61fc6c\"],[0.5,\"#a4fc3b\"],[0.5714285714285714,\"#d1e834\"],[0.6428571428571429,\"#f3c63a\"],[0.7142857142857143,\"#fe9b2d\"],[0.7857142857142857,\"#f36315\"],[0.8571428571428571,\"#d93806\"],[0.9285714285714286,\"#b11901\"],[1.0,\"#7a0402\"]],\"cmin\":0,\"colorbar\":{\"x\":1.1,\"len\":0.25,\"ticks\":\"outside\",\"ticklen\":5}},\"coloraxis7\":{\"colorscale\":[[0.0,\"#30123b\"],[0.07142857142857142,\"#4145ab\"],[0.14285714285714285,\"#4675ed\"],[0.21428571428571427,\"#39a2fc\"],[0.2857142857142857,\"#1bcfd4\"],[0.35714285714285715,\"#24eca6\"],[0.42857142857142855,\"#61fc6c\"],[0.5,\"#a4fc3b\"],[0.5714285714285714,\"#d1e834\"],[0.6428571428571429,\"#f3c63a\"],[0.7142857142857143,\"#fe9b2d\"],[0.7857142857142857,\"#f36315\"],[0.8571428571428571,\"#d93806\"],[0.9285714285714286,\"#b11901\"],[1.0,\"#7a0402\"]],\"cmin\":0,\"colorbar\":{\"x\":1.1,\"len\":0.25,\"ticks\":\"outside\",\"ticklen\":5}},\"coloraxis8\":{\"colorscale\":[[0.0,\"#30123b\"],[0.07142857142857142,\"#4145ab\"],[0.14285714285714285,\"#4675ed\"],[0.21428571428571427,\"#39a2fc\"],[0.2857142857142857,\"#1bcfd4\"],[0.35714285714285715,\"#24eca6\"],[0.42857142857142855,\"#61fc6c\"],[0.5,\"#a4fc3b\"],[0.5714285714285714,\"#d1e834\"],[0.6428571428571429,\"#f3c63a\"],[0.7142857142857143,\"#fe9b2d\"],[0.7857142857142857,\"#f36315\"],[0.8571428571428571,\"#d93806\"],[0.9285714285714286,\"#b11901\"],[1.0,\"#7a0402\"]],\"cmin\":0,\"colorbar\":{\"x\":1.1,\"len\":0.25,\"ticks\":\"outside\",\"ticklen\":5}},\"autosize\":true,\"showlegend\":true,\"title\":{\"text\":\"\"},\"width\":1000,\"height\":800,\"paper_bgcolor\":\"rgba(0, 0, 0, 0)\",\"plot_bgcolor\":\"rgba(0, 0, 0, 0)\"},                        {\"responsive\": true}                    ).then(function(){\n",
              "                            \n",
              "var gd = document.getElementById('db1a3a7c-afdf-4a94-aa7c-d89bc25f4f81');\n",
              "var x = new MutationObserver(function (mutations, observer) {{\n",
              "        var display = window.getComputedStyle(gd).display;\n",
              "        if (!display || display === 'none') {{\n",
              "            console.log([gd, 'removed!']);\n",
              "            Plotly.purge(gd);\n",
              "            observer.disconnect();\n",
              "        }}\n",
              "}});\n",
              "\n",
              "// Listen for the removal of the full notebook cells\n",
              "var notebookContainer = gd.closest('#notebook-container');\n",
              "if (notebookContainer) {{\n",
              "    x.observe(notebookContainer, {childList: true});\n",
              "}}\n",
              "\n",
              "// Listen for the clearing of the current output cell\n",
              "var outputEl = gd.closest('.output');\n",
              "if (outputEl) {{\n",
              "    x.observe(outputEl, {childList: true});\n",
              "}}\n",
              "\n",
              "                        })                };                            </script>        </div>\n",
              "</body>\n",
              "</html>"
            ]
          },
          "metadata": {}
        }
      ],
      "source": [
        "# find the first complex\n",
        "first_complex_sia = pyphi.new_big_phi.maximal_complex(substrate, substrate_state)\n",
        "first_complex = pyphi.Subsystem(substrate,substrate_state,nodes=first_complex_sia.node_indices)\n",
        "\n",
        "# unfold its Phi-structure\n",
        "first_complex_structure = pyphi.new_big_phi.phi_structure(first_complex)\n",
        "print(first_complex_structure)\n",
        "\n",
        "# plot the beauty!\n",
        "first_complex_fig = visualize.phi_structure.plot_phi_structure(phi_structure=first_complex_structure,subsystem=first_complex)\n",
        "first_complex_fig.show()"
      ],
      "id": "P-EyBZ0BzAjM"
    },
    {
      "cell_type": "markdown",
      "metadata": {
        "id": "wc_ec-zl0dIV"
      },
      "source": [
        "# Summary and concluding remarks\n",
        "\n",
        "In this notebook we have seen how IIT can be applied to provide an inference about what exists and how, within a particular system operationally defined as an explicit physical substrate. That is, by applying the postulates of IIT systematically to identify a complex (the set of units that lay the strongest claim to existence as an intrinsic entity) and unfold its $\\Phi$-structure (the way it feels to be that entity).\n",
        "\n",
        "While we may never unequivocally confirm whether our inference is correct, it is based on our best current explanation of consciousness and is provided based on a rigorous and systematic application of the principles of the theory.\n",
        "\n",
        "The theory has been under development (and been partially [validated](https://sites.google.com/view/iit-wiki/sections-coming-soon/validation)) since the early 90's, has been used to explain several facts about the relation between consciousness and the brain, can [account for several recurrent contents of our everyday experience](https://sites.google.com/view/iit-wiki/contents-of-experience), and provides controversial predictions that can be tested experimentally. Furthermore, the theory has far reaching practical and [metaphysical implications](https://sites.google.com/view/iit-wiki/sections-coming-soon/metaphysics). We urge you to explore these in our wiki and the vast academic literature on the topic."
      ],
      "id": "wc_ec-zl0dIV"
    },
    {
      "cell_type": "markdown",
      "metadata": {
        "id": "r1jY6pAJwRad"
      },
      "source": [
        "# PyPhi documentation\n",
        "\n",
        "See [pyphi.readthedocs.io](https://pyphi.readthedocs.io/en/latest/) for further information on PyPhi usage and its API."
      ],
      "id": "r1jY6pAJwRad"
    }
  ],
  "metadata": {
    "colab": {
      "provenance": [],
      "include_colab_link": true
    },
    "gpuClass": "standard",
    "kernelspec": {
      "display_name": "Python 3 (ipykernel)",
      "language": "python",
      "name": "python3"
    },
    "language_info": {
      "codemirror_mode": {
        "name": "ipython",
        "version": 3
      },
      "file_extension": ".py",
      "mimetype": "text/x-python",
      "name": "python",
      "nbconvert_exporter": "python",
      "pygments_lexer": "ipython3",
      "version": "3.10.9"
    },
    "name": "IIT_4.0_demo.2.ipynb",
    "widgets": {
      "application/vnd.jupyter.widget-state+json": {
        "362a0585ecc64273a12670cfb622eca1": {
          "model_module": "@jupyter-widgets/controls",
          "model_name": "HBoxModel",
          "model_module_version": "1.5.0",
          "state": {
            "_dom_classes": [],
            "_model_module": "@jupyter-widgets/controls",
            "_model_module_version": "1.5.0",
            "_model_name": "HBoxModel",
            "_view_count": null,
            "_view_module": "@jupyter-widgets/controls",
            "_view_module_version": "1.5.0",
            "_view_name": "HBoxView",
            "box_style": "",
            "children": [
              "IPY_MODEL_c0528a396e424ecd9758ca69ea167415",
              "IPY_MODEL_34a58a8d883b4cf68132c1ac9610a267",
              "IPY_MODEL_4eb6b264d6f64c76981dd7f9a2b7a71c"
            ],
            "layout": "IPY_MODEL_4e96d6b952184366ba078d2ba78c8b47"
          }
        },
        "c0528a396e424ecd9758ca69ea167415": {
          "model_module": "@jupyter-widgets/controls",
          "model_name": "HTMLModel",
          "model_module_version": "1.5.0",
          "state": {
            "_dom_classes": [],
            "_model_module": "@jupyter-widgets/controls",
            "_model_module_version": "1.5.0",
            "_model_name": "HTMLModel",
            "_view_count": null,
            "_view_module": "@jupyter-widgets/controls",
            "_view_module_version": "1.5.0",
            "_view_name": "HTMLView",
            "description": "",
            "description_tooltip": null,
            "layout": "IPY_MODEL_1f9790e5075d45028c031f2e3674beda",
            "placeholder": "​",
            "style": "IPY_MODEL_2f8c349f50d54cd49dfb808830dfa6a5",
            "value": "Grouping relation faces by degree:   0%"
          }
        },
        "34a58a8d883b4cf68132c1ac9610a267": {
          "model_module": "@jupyter-widgets/controls",
          "model_name": "FloatProgressModel",
          "model_module_version": "1.5.0",
          "state": {
            "_dom_classes": [],
            "_model_module": "@jupyter-widgets/controls",
            "_model_module_version": "1.5.0",
            "_model_name": "FloatProgressModel",
            "_view_count": null,
            "_view_module": "@jupyter-widgets/controls",
            "_view_module_version": "1.5.0",
            "_view_name": "ProgressView",
            "bar_style": "",
            "description": "",
            "description_tooltip": null,
            "layout": "IPY_MODEL_c101c595fd8640a88d4ebb6fa434019b",
            "max": 1,
            "min": 0,
            "orientation": "horizontal",
            "style": "IPY_MODEL_acf2699175b344ac9ab4a54f1a9067a2",
            "value": 1
          }
        },
        "4eb6b264d6f64c76981dd7f9a2b7a71c": {
          "model_module": "@jupyter-widgets/controls",
          "model_name": "HTMLModel",
          "model_module_version": "1.5.0",
          "state": {
            "_dom_classes": [],
            "_model_module": "@jupyter-widgets/controls",
            "_model_module_version": "1.5.0",
            "_model_name": "HTMLModel",
            "_view_count": null,
            "_view_module": "@jupyter-widgets/controls",
            "_view_module_version": "1.5.0",
            "_view_name": "HTMLView",
            "description": "",
            "description_tooltip": null,
            "layout": "IPY_MODEL_cea7c784a18444218e5c75b36e81e3ab",
            "placeholder": "​",
            "style": "IPY_MODEL_15ba14f5f3f146858d679277c84ec330",
            "value": " 0/1 [00:00&lt;?, ?it/s]"
          }
        },
        "4e96d6b952184366ba078d2ba78c8b47": {
          "model_module": "@jupyter-widgets/base",
          "model_name": "LayoutModel",
          "model_module_version": "1.2.0",
          "state": {
            "_model_module": "@jupyter-widgets/base",
            "_model_module_version": "1.2.0",
            "_model_name": "LayoutModel",
            "_view_count": null,
            "_view_module": "@jupyter-widgets/base",
            "_view_module_version": "1.2.0",
            "_view_name": "LayoutView",
            "align_content": null,
            "align_items": null,
            "align_self": null,
            "border": null,
            "bottom": null,
            "display": null,
            "flex": null,
            "flex_flow": null,
            "grid_area": null,
            "grid_auto_columns": null,
            "grid_auto_flow": null,
            "grid_auto_rows": null,
            "grid_column": null,
            "grid_gap": null,
            "grid_row": null,
            "grid_template_areas": null,
            "grid_template_columns": null,
            "grid_template_rows": null,
            "height": null,
            "justify_content": null,
            "justify_items": null,
            "left": null,
            "margin": null,
            "max_height": null,
            "max_width": null,
            "min_height": null,
            "min_width": null,
            "object_fit": null,
            "object_position": null,
            "order": null,
            "overflow": null,
            "overflow_x": null,
            "overflow_y": null,
            "padding": null,
            "right": null,
            "top": null,
            "visibility": "hidden",
            "width": null
          }
        },
        "1f9790e5075d45028c031f2e3674beda": {
          "model_module": "@jupyter-widgets/base",
          "model_name": "LayoutModel",
          "model_module_version": "1.2.0",
          "state": {
            "_model_module": "@jupyter-widgets/base",
            "_model_module_version": "1.2.0",
            "_model_name": "LayoutModel",
            "_view_count": null,
            "_view_module": "@jupyter-widgets/base",
            "_view_module_version": "1.2.0",
            "_view_name": "LayoutView",
            "align_content": null,
            "align_items": null,
            "align_self": null,
            "border": null,
            "bottom": null,
            "display": null,
            "flex": null,
            "flex_flow": null,
            "grid_area": null,
            "grid_auto_columns": null,
            "grid_auto_flow": null,
            "grid_auto_rows": null,
            "grid_column": null,
            "grid_gap": null,
            "grid_row": null,
            "grid_template_areas": null,
            "grid_template_columns": null,
            "grid_template_rows": null,
            "height": null,
            "justify_content": null,
            "justify_items": null,
            "left": null,
            "margin": null,
            "max_height": null,
            "max_width": null,
            "min_height": null,
            "min_width": null,
            "object_fit": null,
            "object_position": null,
            "order": null,
            "overflow": null,
            "overflow_x": null,
            "overflow_y": null,
            "padding": null,
            "right": null,
            "top": null,
            "visibility": null,
            "width": null
          }
        },
        "2f8c349f50d54cd49dfb808830dfa6a5": {
          "model_module": "@jupyter-widgets/controls",
          "model_name": "DescriptionStyleModel",
          "model_module_version": "1.5.0",
          "state": {
            "_model_module": "@jupyter-widgets/controls",
            "_model_module_version": "1.5.0",
            "_model_name": "DescriptionStyleModel",
            "_view_count": null,
            "_view_module": "@jupyter-widgets/base",
            "_view_module_version": "1.2.0",
            "_view_name": "StyleView",
            "description_width": ""
          }
        },
        "c101c595fd8640a88d4ebb6fa434019b": {
          "model_module": "@jupyter-widgets/base",
          "model_name": "LayoutModel",
          "model_module_version": "1.2.0",
          "state": {
            "_model_module": "@jupyter-widgets/base",
            "_model_module_version": "1.2.0",
            "_model_name": "LayoutModel",
            "_view_count": null,
            "_view_module": "@jupyter-widgets/base",
            "_view_module_version": "1.2.0",
            "_view_name": "LayoutView",
            "align_content": null,
            "align_items": null,
            "align_self": null,
            "border": null,
            "bottom": null,
            "display": null,
            "flex": null,
            "flex_flow": null,
            "grid_area": null,
            "grid_auto_columns": null,
            "grid_auto_flow": null,
            "grid_auto_rows": null,
            "grid_column": null,
            "grid_gap": null,
            "grid_row": null,
            "grid_template_areas": null,
            "grid_template_columns": null,
            "grid_template_rows": null,
            "height": null,
            "justify_content": null,
            "justify_items": null,
            "left": null,
            "margin": null,
            "max_height": null,
            "max_width": null,
            "min_height": null,
            "min_width": null,
            "object_fit": null,
            "object_position": null,
            "order": null,
            "overflow": null,
            "overflow_x": null,
            "overflow_y": null,
            "padding": null,
            "right": null,
            "top": null,
            "visibility": null,
            "width": null
          }
        },
        "acf2699175b344ac9ab4a54f1a9067a2": {
          "model_module": "@jupyter-widgets/controls",
          "model_name": "ProgressStyleModel",
          "model_module_version": "1.5.0",
          "state": {
            "_model_module": "@jupyter-widgets/controls",
            "_model_module_version": "1.5.0",
            "_model_name": "ProgressStyleModel",
            "_view_count": null,
            "_view_module": "@jupyter-widgets/base",
            "_view_module_version": "1.2.0",
            "_view_name": "StyleView",
            "bar_color": null,
            "description_width": ""
          }
        },
        "cea7c784a18444218e5c75b36e81e3ab": {
          "model_module": "@jupyter-widgets/base",
          "model_name": "LayoutModel",
          "model_module_version": "1.2.0",
          "state": {
            "_model_module": "@jupyter-widgets/base",
            "_model_module_version": "1.2.0",
            "_model_name": "LayoutModel",
            "_view_count": null,
            "_view_module": "@jupyter-widgets/base",
            "_view_module_version": "1.2.0",
            "_view_name": "LayoutView",
            "align_content": null,
            "align_items": null,
            "align_self": null,
            "border": null,
            "bottom": null,
            "display": null,
            "flex": null,
            "flex_flow": null,
            "grid_area": null,
            "grid_auto_columns": null,
            "grid_auto_flow": null,
            "grid_auto_rows": null,
            "grid_column": null,
            "grid_gap": null,
            "grid_row": null,
            "grid_template_areas": null,
            "grid_template_columns": null,
            "grid_template_rows": null,
            "height": null,
            "justify_content": null,
            "justify_items": null,
            "left": null,
            "margin": null,
            "max_height": null,
            "max_width": null,
            "min_height": null,
            "min_width": null,
            "object_fit": null,
            "object_position": null,
            "order": null,
            "overflow": null,
            "overflow_x": null,
            "overflow_y": null,
            "padding": null,
            "right": null,
            "top": null,
            "visibility": null,
            "width": null
          }
        },
        "15ba14f5f3f146858d679277c84ec330": {
          "model_module": "@jupyter-widgets/controls",
          "model_name": "DescriptionStyleModel",
          "model_module_version": "1.5.0",
          "state": {
            "_model_module": "@jupyter-widgets/controls",
            "_model_module_version": "1.5.0",
            "_model_name": "DescriptionStyleModel",
            "_view_count": null,
            "_view_module": "@jupyter-widgets/base",
            "_view_module_version": "1.2.0",
            "_view_name": "StyleView",
            "description_width": ""
          }
        }
      }
    }
  },
  "nbformat": 4,
  "nbformat_minor": 5
}